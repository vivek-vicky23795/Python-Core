{
 "cells": [
  {
   "cell_type": "markdown",
   "metadata": {},
   "source": [
    "## Python Flow Control : Durga\n",
    "\n",
    "1) This is a Part 1 "
   ]
  },
  {
   "cell_type": "markdown",
   "metadata": {},
   "source": [
    "### 1.Introduction and Indentation\n",
    "\n",
    "In python The Control Flow Statements 3 Types ...\n",
    "\n",
    "1) Selection Condition Statements:\n",
    "- IF Statement\n",
    "- IF Else \n",
    "- IF ELIF ELSE Statement\n",
    "- IF ELIF Statement\n",
    "\n",
    "2) Iterative Statement :\n",
    "- FOR LOOP\n",
    "- WHILE LOOP \n",
    "\n",
    "\n",
    "3) Transfer Statement :\n",
    "\n",
    "- Break\n",
    "- Contionue"
   ]
  },
  {
   "cell_type": "code",
   "execution_count": 2,
   "metadata": {},
   "outputs": [],
   "source": [
    "### The Indentation is Very Import Here.."
   ]
  },
  {
   "cell_type": "markdown",
   "metadata": {},
   "source": [
    "#### Selection Condition Statement "
   ]
  },
  {
   "cell_type": "code",
   "execution_count": 3,
   "metadata": {},
   "outputs": [
    {
     "name": "stdout",
     "output_type": "stream",
     "text": [
      "..............THE START .................\n",
      "\n",
      "The Number is greater than Zero\n",
      "The Number is Positive Number\n",
      "\n",
      "...............THE END...........\n"
     ]
    }
   ],
   "source": [
    "## The Condition Statement...\n",
    "\n",
    "n = 12 \n",
    "\n",
    "if (n > 0):\n",
    "    \n",
    "    print(\"..............THE START .................\")\n",
    "    print()\n",
    "    print(\"The Number is greater than Zero\")\n",
    "    print(\"The Number is Positive Number\")\n",
    "    print()\n",
    "    \n",
    "print(\"...............THE END...........\")"
   ]
  },
  {
   "cell_type": "code",
   "execution_count": 4,
   "metadata": {},
   "outputs": [
    {
     "name": "stdout",
     "output_type": "stream",
     "text": [
      "Enter the Name to Verify ..Vivk\n",
      "Invalid Username ....\n"
     ]
    }
   ],
   "source": [
    "### Example 2 : Read Name From the Keyboard and if the Name Matches print\n",
    "### The Welcome message ...\n",
    "\n",
    "\n",
    "## Lets Take the Input From the User ...\n",
    "\n",
    "Name = input(\"Enter the Name to Verify ..\")\n",
    "\n",
    "### Lets Write a Condition  ...\n",
    "\n",
    "if (Name == \"Vivek\"):\n",
    "    print()\n",
    "    print(\"Welcome\",Name,\"To Machine Learning\")\n",
    "else:\n",
    "    print(\"Invalid Username ....\")\n",
    "\n"
   ]
  },
  {
   "cell_type": "markdown",
   "metadata": {},
   "source": [
    "####  Lets Take an Example For IF Else Block ..."
   ]
  },
  {
   "cell_type": "code",
   "execution_count": 5,
   "metadata": {},
   "outputs": [
    {
     "name": "stdout",
     "output_type": "stream",
     "text": [
      "Enter the Number :23\n",
      "The Number  23 is Odd Number\n"
     ]
    }
   ],
   "source": [
    "## program to classify odd and Even Number ..\n",
    "\n",
    "Number = int(input(\"Enter the Number :\"))\n",
    "\n",
    "if (Number % 2 == 0):\n",
    "    print()\n",
    "    print(\"The Number \",Number,\"is a Even Number \")\n",
    "else:\n",
    "    print(\"The Number \",Number,\"is Odd Number\")\n",
    "             \n",
    "             "
   ]
  },
  {
   "cell_type": "code",
   "execution_count": 6,
   "metadata": {},
   "outputs": [
    {
     "name": "stdout",
     "output_type": "stream",
     "text": [
      "Enter the First Number : 12\n",
      "Enter the Second Number :23\n",
      "The 23 is greater than 12\n"
     ]
    }
   ],
   "source": [
    "### WAP to find the Biggest of Two Number ..\n",
    "\n",
    "## Lets Take an input ...\n",
    "\n",
    "Num1 = int(input(\"Enter the First Number : \"))\n",
    "Num2 = int(input(\"Enter the Second Number :\"))\n",
    "\n",
    "## Lets Write a Condition for this ...\n",
    "\n",
    "if (Num1 > Num2):\n",
    "    print()\n",
    "    print(\"The\",Num1,\"is Greater than\",Num2)\n",
    "    print(\"..........THE END..............\")\n",
    "else:\n",
    "    print(\"The\",Num2,\"is greater than\",Num1)"
   ]
  },
  {
   "cell_type": "code",
   "execution_count": 7,
   "metadata": {},
   "outputs": [
    {
     "name": "stdout",
     "output_type": "stream",
     "text": [
      "Enter the Number1 :23\n",
      "Enter the Number2 :23\n",
      "Enter the Number3 :12\n",
      "The Number 3 : 12  Is the Biggest Number of all Three..\n"
     ]
    }
   ],
   "source": [
    "### Find the Biggest Number of 3 Numbers ....\n",
    "\n",
    "n1 = int(input(\"Enter the Number1 :\"))\n",
    "\n",
    "n2 = int(input(\"Enter the Number2 :\"))\n",
    "\n",
    "n3 = int(input(\"Enter the Number3 :\"))\n",
    "\n",
    "\n",
    "## Lets Write a Condition ....\n",
    "\n",
    "if (n1 > n2) and (n1 > n3):\n",
    "    print(\"The Number 1 :\",n1,\" Is the Biggest Number of all Three..\")\n",
    "\n",
    "elif (n2>n1) and (n2 > n3):\n",
    "    print(\"The Number 2 :\",n2,\" Is the Biggest Number of all Three..\")\n",
    "\n",
    "else:\n",
    "    print(\"The Number 3 :\",n3,\" Is the Biggest Number of all Three..\")\n",
    "\n",
    "\n"
   ]
  },
  {
   "cell_type": "markdown",
   "metadata": {},
   "source": [
    "Q) WAP Take Input From the user Numbers (0-9) and print the Correspoinding\n",
    "   words ...\n",
    "   \n",
    "- 0 = Zero\n",
    "- 1 = One\n"
   ]
  },
  {
   "cell_type": "code",
   "execution_count": 8,
   "metadata": {},
   "outputs": [
    {
     "name": "stdout",
     "output_type": "stream",
     "text": [
      "Enter the Number From 0 - 9 Only ..3\n",
      "\n",
      " THREE \n"
     ]
    }
   ],
   "source": [
    "## This Can Be Written in Two  methods  ... One is Normal If else Condition..\n",
    "\n",
    "Number = int(input(\"Enter the Number From 0 - 9 Only ..\"))\n",
    "\n",
    "## Lets Write a Condition ...\n",
    "\n",
    "if (Number == 0):\n",
    "    print()\n",
    "    print(\" ZERO \")\n",
    "    \n",
    "elif (Number == 1):\n",
    "    print()\n",
    "    print(\" ONE \")\n",
    "\n",
    "elif (Number == 2):\n",
    "    print()\n",
    "    print(\" TWO \")\n",
    "    \n",
    "elif (Number == 3):\n",
    "    print()\n",
    "    print(\" THREE \")\n",
    "    \n",
    "elif (Number == 4):\n",
    "    print()\n",
    "    print(\" FOUR \")\n",
    "    \n",
    "elif (Number == 5):\n",
    "    print()\n",
    "    print(\" FIVE \")\n",
    "    \n",
    "elif (Number == 6):\n",
    "    print()\n",
    "    print(\" SIX \")\n",
    "    \n",
    "elif (Number == 7):\n",
    "    print()\n",
    "    print(\" SEVEN \")\n",
    "    \n",
    "elif (Number == 8):\n",
    "    print()\n",
    "    print(\" EIGHT \")\n",
    "\n",
    "else:\n",
    "    print()\n",
    "    print(\"NINE\")\n",
    "\n",
    "    \n",
    "    "
   ]
  },
  {
   "cell_type": "code",
   "execution_count": 9,
   "metadata": {},
   "outputs": [
    {
     "name": "stdout",
     "output_type": "stream",
     "text": [
      " Enter the Number from 0 - 93\n",
      "Three\n"
     ]
    }
   ],
   "source": [
    "### The Method 2 : \n",
    "\n",
    "## Lets Create a List ...\n",
    "\n",
    "N = int(input(\" Enter the Number from 0 - 9\"))\n",
    "\n",
    "list1 = [\"Zero\",\"One\",\"two\",\"Three\",\"Four\",\"Five\",\"Six\",\"Seven\",\"Eight\",\"Nine\"]\n",
    "\n",
    "print(list1[N])"
   ]
  },
  {
   "cell_type": "markdown",
   "metadata": {},
   "source": [
    "Q) Write a Program to print the corresponig words to that number from 0 to 99"
   ]
  },
  {
   "cell_type": "markdown",
   "metadata": {},
   "source": [
    "### Logic of the Program ..\n",
    "\n",
    "1) Create a two list1 and list1\n",
    "\n",
    "2) List1 consist of numbers_words from [\"one\", 'two' , .....'Nineteen']\n",
    "\n",
    "3) List2  [\"twenty\" ,'Thrity' , 'fourty' ,'Fifty' , 'sixty' ......'ninty']\n",
    "\n",
    "4) if you (32//10 --> 3) , (45//10 --> 4),(55//10 --> 5) \n",
    "\n",
    "5) if you (32%10 --> 2) ,(45 % 10 --> 5) ,(56%10 --> 6)\n",
    "\n",
    "6) Combining these two .. (3,2) ....(4,5) ... (5,6) = [32,45,56]"
   ]
  },
  {
   "cell_type": "code",
   "execution_count": 10,
   "metadata": {},
   "outputs": [
    {
     "name": "stdout",
     "output_type": "stream",
     "text": [
      "Enter the Number : 34\n",
      "THIRTY FOUR\n"
     ]
    }
   ],
   "source": [
    "### Lets Take the Number as Input ...\n",
    "\n",
    "\n",
    "N = int(input(\"Enter the Number : \"))\n",
    "\n",
    "### Lets Create two Lists ...\n",
    "\n",
    "Words_19=['','ONE','TWO','THREE','FOUR','FIVE','SIX','SEVEN','EIGHT','NINE','TEN','ELEVEN','TWELVE','THIRTEEN','FOURTEEN','FIFTEEN','SIXTEEN','SEVENTEEN','EIGHTEEN','NINETEEN']\n",
    "\n",
    "Words_10s =['','','TWENTY','THIRTY','FOURTY','FIFTY','SIXTY','SEVENTY','EIGHTY','NINETY']\n",
    "\n",
    "\n",
    "## Lets Write a Condition ....\n",
    "\n",
    "if (N == 0):\n",
    "    print(\" Zero \")\n",
    "\n",
    "elif (N <= 19):\n",
    "    print(Words_19[N])\n",
    "\n",
    "elif (N > 19 and N <= 99):\n",
    "    print(Words_10s[N//10]+ \" \"+ Words_19[N%10] )\n"
   ]
  },
  {
   "cell_type": "code",
   "execution_count": 12,
   "metadata": {},
   "outputs": [
    {
     "name": "stdout",
     "output_type": "stream",
     "text": [
      "Enter the Number : 123\n",
      "123\n",
      "One_Hundred TWENTY THREE\n"
     ]
    }
   ],
   "source": [
    "### Lets Take the Number as Input ...\n",
    "\n",
    "\n",
    "N1 = int(input(\"Enter the Number : \"))\n",
    "\n",
    "### Lets Create two Lists ...\n",
    "\n",
    "Words_19=['','ONE','TWO','THREE','FOUR','FIVE','SIX','SEVEN','EIGHT','NINE','TEN','ELEVEN','TWELVE','THIRTEEN','FOURTEEN','FIFTEEN','SIXTEEN','SEVENTEEN','EIGHTEEN','NINETEEN']\n",
    "\n",
    "Words_10s =['','','TWENTY','THIRTY','FOURTY','FIFTY','SIXTY','SEVENTY','EIGHTY','NINETY']\n",
    "\n",
    "Words_100s = ['','One_Hundred','Two_Hundred','Three_Hundred','Four_hundred','Five_hundred','Six_hundred','Seven_hundred','Eight_Hundred','Nine_Hundred']\n",
    "\n",
    "## Lets Write a Condition ....\n",
    "\n",
    "print(N1)\n",
    "\n",
    "if (N1 == 0):\n",
    "    print(\" Zero \")\n",
    "\n",
    "elif (N1 <= 19):\n",
    "    print(Words_19[N])\n",
    "\n",
    "elif (N1 <= 999):\n",
    "    print(Words_100s[N1//100],end =\" \")\n",
    "    N1 = N1%100\n",
    "    print(Words_10s[N1//10],end = ' ')\n",
    "    print(Words_19[N1%10])\n",
    "    "
   ]
  },
  {
   "cell_type": "code",
   "execution_count": null,
   "metadata": {},
   "outputs": [],
   "source": []
  },
  {
   "cell_type": "code",
   "execution_count": null,
   "metadata": {},
   "outputs": [],
   "source": []
  },
  {
   "cell_type": "markdown",
   "metadata": {},
   "source": [
    "#### 2. THE ITERATIVE STATEMENT : FOR AND WHILE LOOP IN PYTHON.\n",
    "\n",
    "1) The Most Important In The Python Programming.."
   ]
  },
  {
   "cell_type": "markdown",
   "metadata": {},
   "source": [
    "#### We have Only two Types Of Loops ..\n",
    "1) For Loop ...\n",
    "\n",
    "2) While Loop ..."
   ]
  },
  {
   "cell_type": "markdown",
   "metadata": {},
   "source": [
    "##### THE FOR LOOP : FOR REPEATIVE STMTS.."
   ]
  },
  {
   "cell_type": "code",
   "execution_count": 13,
   "metadata": {},
   "outputs": [
    {
     "name": "stdout",
     "output_type": "stream",
     "text": [
      "D\n",
      "a\n",
      "t\n",
      "a\n",
      " \n",
      "S\n",
      "c\n",
      "i\n",
      "e\n",
      "n\n",
      "c\n",
      "e\n"
     ]
    }
   ],
   "source": [
    "## lets take an Example ...\n",
    "\n",
    "## Lets Take an String ...\n",
    "\n",
    "S = \"Data Science\"\n",
    "\n",
    "for x in S:\n",
    "    print(x)"
   ]
  },
  {
   "cell_type": "code",
   "execution_count": 14,
   "metadata": {},
   "outputs": [
    {
     "name": "stdout",
     "output_type": "stream",
     "text": [
      "16\n",
      "The char T is at index 0\n",
      "The char h is at index 1\n",
      "The char e is at index 2\n",
      "The char   is at index 3\n",
      "The char D is at index 4\n",
      "The char a is at index 5\n",
      "The char t is at index 6\n",
      "The char a is at index 7\n",
      "The char   is at index 8\n",
      "The char S is at index 9\n",
      "The char c is at index 10\n",
      "The char i is at index 11\n",
      "The char e is at index 12\n",
      "The char n is at index 13\n",
      "The char c is at index 14\n",
      "The char e is at index 15\n"
     ]
    }
   ],
   "source": [
    "### print the chars with their resprctive index ..\n",
    "\n",
    "String = \"The Data Science\"\n",
    "print(len(String))\n",
    "for i,x in enumerate(String):\n",
    "    print(\"The char {} is at index {}\".format(x,i))"
   ]
  },
  {
   "cell_type": "markdown",
   "metadata": {},
   "source": [
    "##### The Range Function Points to Remember\n",
    "\n",
    "- Range(n)  : 0 to n-1 \n",
    "\n",
    "    \n",
    "- Range(m,n) : m to n-1 \n",
    "    \n",
    "\n",
    "- Range(m,n,step) : m to n-1 (step = (increment/decrement))"
   ]
  },
  {
   "cell_type": "code",
   "execution_count": null,
   "metadata": {},
   "outputs": [],
   "source": [
    "### Q) Can You Print the given String 10 Times ...\n",
    "\n",
    "\n",
    "String = \"Im a Data_Scientist\"\n",
    "count = 0\n",
    "for x in range(10):\n",
    "    print(String)\n",
    "    count = count+1 \n",
    "print(count)\n",
    "    "
   ]
  },
  {
   "cell_type": "code",
   "execution_count": null,
   "metadata": {},
   "outputs": [],
   "source": [
    "### Print the Number for  1 to 100 ...\n",
    "\n",
    "for x in range(1,101,1):\n",
    "    print(x , end = \" \")"
   ]
  },
  {
   "cell_type": "code",
   "execution_count": null,
   "metadata": {},
   "outputs": [],
   "source": [
    "## Print all the odd Numbers from 1 to 20 ..\n",
    "\n",
    "for x in range(1,31,1):\n",
    "    if x % 2 == 1:\n",
    "        print(x ,end = ' ')"
   ]
  },
  {
   "cell_type": "code",
   "execution_count": null,
   "metadata": {},
   "outputs": [],
   "source": [
    "## Print all the Even Numbers from 1 to 30 ...\n",
    "\n",
    "for x in range(0,30,2):\n",
    "    print(x , end =\" \")"
   ]
  },
  {
   "cell_type": "code",
   "execution_count": null,
   "metadata": {},
   "outputs": [],
   "source": [
    "### Print all the odd numbers from 1 to 30 ...\n",
    "\n",
    "for x in range(1,30,2):\n",
    "    print(x , end =' ')"
   ]
  },
  {
   "cell_type": "code",
   "execution_count": null,
   "metadata": {},
   "outputs": [],
   "source": [
    "## Lets print the Number From Revere order ...\n",
    "## (20 to 1)..\n",
    "\n",
    "for x in range(20,0,-1):\n",
    "    print(x , end = \" \")"
   ]
  },
  {
   "cell_type": "code",
   "execution_count": null,
   "metadata": {},
   "outputs": [],
   "source": [
    "## Let print the even number from reverse ...\n",
    "\n",
    "for x in range(20,0,-2):\n",
    "    print(x , end = ' ')"
   ]
  },
  {
   "cell_type": "code",
   "execution_count": null,
   "metadata": {},
   "outputs": [],
   "source": [
    "### Tom print the Sum of Numbes in the list ..\n",
    "\n",
    "\n",
    "list1 = [12,23,34,45,67,89]\n",
    "Sum = 0\n",
    "for x in list1:\n",
    "    Sum = x + Sum\n",
    "print(Sum)"
   ]
  },
  {
   "cell_type": "markdown",
   "metadata": {},
   "source": [
    "#### Points to Remeber : use eval() to take input as a list and pass [list here]"
   ]
  },
  {
   "cell_type": "code",
   "execution_count": null,
   "metadata": {},
   "outputs": [],
   "source": [
    "### lets Try an example to ta take list from input and prit the sum ...\n",
    "\n",
    "\n",
    "## Usage of eval()\n",
    "\n",
    "My_list = eval(input(\"Enter your list of numbers :\"))\n",
    "Sum = 0\n",
    "for x in My_list:\n",
    "    Sum = x + Sum\n",
    "print(Sum)\n",
    "    "
   ]
  },
  {
   "cell_type": "code",
   "execution_count": null,
   "metadata": {},
   "outputs": [],
   "source": []
  },
  {
   "cell_type": "markdown",
   "metadata": {},
   "source": [
    "#### THE WHILE LOOP : This loop keeps executing Untill a condition is False.."
   ]
  },
  {
   "cell_type": "code",
   "execution_count": null,
   "metadata": {},
   "outputs": [],
   "source": [
    "## Lets Print a Statment 10 times ...\n",
    "\n",
    "\n",
    "String  = \"THE DATA SCIENTIST\"\n",
    "\n",
    "## the while loop starts here ...\n",
    "\n",
    "i = 0\n",
    "while i <= 10:\n",
    "    print(String)\n",
    "    i = i+1\n"
   ]
  },
  {
   "cell_type": "code",
   "execution_count": null,
   "metadata": {},
   "outputs": [],
   "source": [
    "### Print the Numbers from 1 to 20 ...\n",
    "\n",
    "i = 1\n",
    "\n",
    "while i <= 20:\n",
    "    print(i)\n",
    "    i= i+1"
   ]
  },
  {
   "cell_type": "code",
   "execution_count": null,
   "metadata": {},
   "outputs": [],
   "source": [
    "### Print the numbers divisible by three ...\n",
    "\n",
    "i = 1\n",
    "\n",
    "while (i <=30):\n",
    "    if i%3 == 0:\n",
    "        print(i)\n",
    "    i=i+1"
   ]
  },
  {
   "cell_type": "code",
   "execution_count": null,
   "metadata": {},
   "outputs": [],
   "source": [
    "### write a program for 1st n numbers ... ...\n",
    "\n",
    "## Lets take input from user ...\n",
    "\n",
    "\n",
    "Num = int(input(\"Enter the Number :\"))\n",
    "\n",
    "Sum = 0\n",
    "i = 1\n",
    "\n",
    "while i <= Num:\n",
    "    Sum = Sum + i\n",
    "    i = i+1\n",
    "print(\"The Sum of {} numbers = {} \".format(Num,Sum))"
   ]
  },
  {
   "cell_type": "code",
   "execution_count": null,
   "metadata": {},
   "outputs": [],
   "source": [
    "### Let use the math method ...(n*(n+1)/2)..\n",
    "\n",
    "\n",
    "NUM = int(input(\"Enter till how much number we need to Sum ..\"))\n",
    "\n",
    "Sum = NUM*(NUM+1)/2\n",
    "\n",
    "print(Sum)\n"
   ]
  },
  {
   "cell_type": "code",
   "execution_count": null,
   "metadata": {},
   "outputs": [],
   "source": []
  },
  {
   "cell_type": "code",
   "execution_count": null,
   "metadata": {},
   "outputs": [],
   "source": []
  },
  {
   "cell_type": "code",
   "execution_count": null,
   "metadata": {},
   "outputs": [],
   "source": []
  },
  {
   "cell_type": "code",
   "execution_count": null,
   "metadata": {},
   "outputs": [],
   "source": []
  },
  {
   "cell_type": "code",
   "execution_count": null,
   "metadata": {},
   "outputs": [],
   "source": []
  },
  {
   "cell_type": "code",
   "execution_count": null,
   "metadata": {},
   "outputs": [],
   "source": []
  },
  {
   "cell_type": "code",
   "execution_count": null,
   "metadata": {},
   "outputs": [],
   "source": []
  },
  {
   "cell_type": "code",
   "execution_count": null,
   "metadata": {},
   "outputs": [],
   "source": []
  },
  {
   "cell_type": "code",
   "execution_count": null,
   "metadata": {},
   "outputs": [],
   "source": []
  }
 ],
 "metadata": {
  "kernelspec": {
   "display_name": "Python 3",
   "language": "python",
   "name": "python3"
  },
  "language_info": {
   "codemirror_mode": {
    "name": "ipython",
    "version": 3
   },
   "file_extension": ".py",
   "mimetype": "text/x-python",
   "name": "python",
   "nbconvert_exporter": "python",
   "pygments_lexer": "ipython3",
   "version": "3.8.5"
  },
  "varInspector": {
   "cols": {
    "lenName": 16,
    "lenType": 16,
    "lenVar": 40
   },
   "kernels_config": {
    "python": {
     "delete_cmd_postfix": "",
     "delete_cmd_prefix": "del ",
     "library": "var_list.py",
     "varRefreshCmd": "print(var_dic_list())"
    },
    "r": {
     "delete_cmd_postfix": ") ",
     "delete_cmd_prefix": "rm(",
     "library": "var_list.r",
     "varRefreshCmd": "cat(var_dic_list()) "
    }
   },
   "types_to_exclude": [
    "module",
    "function",
    "builtin_function_or_method",
    "instance",
    "_Feature"
   ],
   "window_display": false
  }
 },
 "nbformat": 4,
 "nbformat_minor": 4
}
