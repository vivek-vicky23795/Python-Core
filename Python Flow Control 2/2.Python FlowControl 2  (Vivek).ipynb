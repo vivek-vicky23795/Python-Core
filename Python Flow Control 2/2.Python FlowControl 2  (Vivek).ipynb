{
 "cells": [
  {
   "cell_type": "markdown",
   "metadata": {},
   "source": [
    "## PYTHON FLOWCONTROL 2 :"
   ]
  },
  {
   "cell_type": "markdown",
   "metadata": {},
   "source": [
    "## TRANSFER STATEMENTS : \n",
    "\n",
    "- The Transfer statement is used to change the Control flow of the Sequence of the Program based on the Condition\n",
    "- If You Want to Break the loop based on your condition.\n",
    "\n",
    "\n",
    "* We Can Divide the Statemets Into Two Types \n",
    "\n",
    "1) The Break Statements\n",
    "\n",
    "2) The Continue Statements"
   ]
  },
  {
   "cell_type": "markdown",
   "metadata": {},
   "source": [
    "### 1) The `break` Statement"
   ]
  },
  {
   "cell_type": "code",
   "execution_count": 2,
   "metadata": {},
   "outputs": [
    {
     "name": "stdout",
     "output_type": "stream",
     "text": [
      "0\n",
      "1\n",
      "2\n",
      "3\n",
      "4\n",
      "5\n",
      "6\n",
      "Processing is Enough Just Break ..\n",
      "The Outside of the Looop\n"
     ]
    }
   ],
   "source": [
    "### Lets Take an Example 1 :\n",
    "\n",
    "for i in range(10):\n",
    "    if i==7:\n",
    "        print(\"Processing is Enough Just Break ..\")\n",
    "        break\n",
    "    print(i)\n",
    "print(\"The Outside of the Looop\")"
   ]
  },
  {
   "cell_type": "code",
   "execution_count": 3,
   "metadata": {},
   "outputs": [
    {
     "name": "stdout",
     "output_type": "stream",
     "text": [
      " The Processing the item 10\n",
      " The Processing the item 20\n",
      " The Processing the item 30\n",
      "To Place this Order Insurance Must Be Required ..\n",
      "We Cant Proceed Further\n"
     ]
    }
   ],
   "source": [
    "## Example 2 : If any cart item price is greater than 500 Insurance is\n",
    "## required.\n",
    "\n",
    "cart = [10,20,30,600,70,80]\n",
    "for item in cart:\n",
    "    if (item > 500):\n",
    "        print(\"To Place this Order Insurance Must Be Required ..\")\n",
    "        print(\"We Cant Proceed Further\")\n",
    "        break\n",
    "    print(\" The Processing the item {}\".format(item))\n",
    "    \n",
    "        "
   ]
  },
  {
   "cell_type": "markdown",
   "metadata": {},
   "source": [
    "### Points To be Noted :\n",
    "\n",
    "1) The `break` should be used only in for loop or While loop and it cannot be used without these two loops."
   ]
  },
  {
   "cell_type": "code",
   "execution_count": 5,
   "metadata": {},
   "outputs": [
    {
     "ename": "SyntaxError",
     "evalue": "'break' outside loop (<ipython-input-5-edda3eecfeeb>, line 7)",
     "output_type": "error",
     "traceback": [
      "\u001b[1;36m  File \u001b[1;32m\"<ipython-input-5-edda3eecfeeb>\"\u001b[1;36m, line \u001b[1;32m7\u001b[0m\n\u001b[1;33m    break\u001b[0m\n\u001b[1;37m    ^\u001b[0m\n\u001b[1;31mSyntaxError\u001b[0m\u001b[1;31m:\u001b[0m 'break' outside loop\n"
     ]
    }
   ],
   "source": [
    "### Example 3: TO Show the Usage of the Break with for loop and While Loop..\n",
    "\n",
    "\n",
    "x = 10\n",
    "if (x > 40):\n",
    "    print(\"The usage Of the Brak Stamr\")\n",
    "    break\n",
    "print(\"This Will Not Work since there is nor for or While loop with break\")\n",
    "\n",
    "\n",
    "## Syntax Error."
   ]
  },
  {
   "cell_type": "markdown",
   "metadata": {},
   "source": [
    "### 2) The `Continue` Statement"
   ]
  },
  {
   "cell_type": "markdown",
   "metadata": {},
   "source": [
    "#### The Continue statemets tell us if the `condition` is `satisfied` please `Skip` that statemet and `continue` with your loop."
   ]
  },
  {
   "cell_type": "code",
   "execution_count": 8,
   "metadata": {},
   "outputs": [
    {
     "name": "stdout",
     "output_type": "stream",
     "text": [
      " The Number is 1\n",
      " The Number is 3\n",
      " The Number is 5\n",
      " The Number is 7\n",
      " The Number is 9\n"
     ]
    }
   ],
   "source": [
    "### Example 1 : \n",
    "\n",
    "for i in range(10):\n",
    "    if (i % 2 == 0):\n",
    "        continue\n",
    "    print(\" The Number is {}\".format(i))"
   ]
  },
  {
   "cell_type": "code",
   "execution_count": 13,
   "metadata": {},
   "outputs": [
    {
     "name": "stdout",
     "output_type": "stream",
     "text": [
      "Processed Successfully the Item 10\n",
      "Processed Successfully the Item 20\n",
      "Processed Successfully the Item 30\n",
      "Insurnce Must Be Required ,You Can Skip..(yes/No)__600\n",
      "Insurnce Must Be Required ,You Can Skip..(yes/No)__700\n",
      "Processed Successfully the Item 80\n",
      "Processed Successfully the Item 90\n"
     ]
    }
   ],
   "source": [
    "### Example 2 : The Shoppin cart Example the item > 600 requires Insurances\n",
    "\n",
    "## The List containg the items prices..\n",
    "\n",
    "cart = [10,20,30,600,700,80,90]\n",
    "\n",
    "for item in cart:\n",
    "    if item > 500:\n",
    "        print(\"Insurnce Must Be Required ,You Can Skip..(yes/No)__{}\".format(item))\n",
    "        continue\n",
    "    print(\"Processed Successfully the Item {}\".format(item))\n"
   ]
  },
  {
   "cell_type": "code",
   "execution_count": 16,
   "metadata": {},
   "outputs": [
    {
     "name": "stdout",
     "output_type": "stream",
     "text": [
      "100/10 = 10.0\n",
      "100/20 = 5.0\n",
      "hello Stupid How We Can Divide With Zero , Skip...\n",
      "100/5 = 20.0\n",
      "hello Stupid How We Can Divide With Zero , Skip...\n",
      "100/30 = 3.3333333333333335\n",
      "The End\n"
     ]
    }
   ],
   "source": [
    "## example 3 : Divide each number by 100 and store the value in one variable\n",
    "\n",
    "lists = [10,20,0,5,0,30]\n",
    "\n",
    "for x in lists:\n",
    "    if x == 0:\n",
    "        print(\"hello Stupid How We Can Divide With Zero , Skip...\")\n",
    "        continue\n",
    "    print(\"100/{} = {}\".format(x,100/x))\n",
    "print(\"The End\")"
   ]
  },
  {
   "cell_type": "markdown",
   "metadata": {},
   "source": [
    "### 3) The `Break` and `Continue` In `Nested Loop`"
   ]
  },
  {
   "cell_type": "code",
   "execution_count": 17,
   "metadata": {},
   "outputs": [
    {
     "name": "stdout",
     "output_type": "stream",
     "text": [
      "1 0\n",
      "2 0\n",
      "2 1\n"
     ]
    }
   ],
   "source": [
    "### Example 1 : Lets Take an examplr for Nested Looop...\n",
    "\n",
    "for i in range(3):\n",
    "    for j in range(3):\n",
    "        if (i==j):\n",
    "            break\n",
    "        print(i,j)\n",
    "        "
   ]
  },
  {
   "cell_type": "markdown",
   "metadata": {},
   "source": [
    "#### Points to be Noted ..\n",
    "\n",
    "1) If we are using the break statement for nested loop the inner loop will be terminated and not the outer loop."
   ]
  },
  {
   "cell_type": "code",
   "execution_count": 28,
   "metadata": {},
   "outputs": [
    {
     "name": "stdout",
     "output_type": "stream",
     "text": [
      "1 1\n"
     ]
    }
   ],
   "source": [
    "### Example 2 :\n",
    "\n",
    "for i in range(1,4,1):\n",
    "    for j in range(1,4,1):\n",
    "        if (i!=j):\n",
    "            break\n",
    "        print(i,j)"
   ]
  },
  {
   "cell_type": "code",
   "execution_count": 29,
   "metadata": {},
   "outputs": [
    {
     "name": "stdout",
     "output_type": "stream",
     "text": [
      "0 1\n",
      "0 2\n",
      "1 0\n",
      "1 2\n",
      "2 0\n",
      "2 1\n"
     ]
    }
   ],
   "source": [
    "### Exampl 3 :\n",
    "\n",
    "for i in range(3):\n",
    "    for j in range(3):\n",
    "        if (i==j):\n",
    "            continue\n",
    "        print(i,j)"
   ]
  },
  {
   "cell_type": "markdown",
   "metadata": {},
   "source": [
    "### 4) Loop With Else Block :\n",
    "\n",
    "- The else can be used even with for loop and while loop and also try and exception\n",
    "\n",
    "- The Else Can Be Used in the Loops Also."
   ]
  },
  {
   "cell_type": "code",
   "execution_count": 37,
   "metadata": {},
   "outputs": [
    {
     "name": "stdout",
     "output_type": "stream",
     "text": [
      "The item 10 has been Processing \n",
      "The item 20 has been Processing \n",
      "The item 30 has been Processing \n",
      "We Can't Place this Order Insurnce is Required \n"
     ]
    }
   ],
   "source": [
    "### Example 1 : A Employee is there 40 years of services and tmr retiement so \n",
    "\n",
    "cart = [10,20,30,678,40,50]\n",
    "\n",
    "for item in cart:\n",
    "    if (item > 500):\n",
    "        print(\"We Can't Place this Order Insurnce is Required \")\n",
    "        break\n",
    "    print(\"The item {} has been Processing \".format(item))\n",
    "    \n",
    "else:\n",
    "    print(\"Contgrats all item Processed Successfully..\")"
   ]
  },
  {
   "cell_type": "markdown",
   "metadata": {},
   "source": [
    "### Q1) What is the Difference between for loop and While Loop..\n",
    "\n",
    "- **For Loop :** We Will Use For loop if there is sequence in the given data then we can  go for the For Loop.\n",
    "\n",
    "- Repeat the code for every item in the Sequence : For Loop\n",
    "\n",
    "---------------------------------------------------------------------------\n",
    "\n",
    "- **While Loop :** We While Loop is Based on the condition required or satisfied is true.\n",
    "\n",
    "- Repate the code as long as some condition is True : While Loop"
   ]
  },
  {
   "cell_type": "markdown",
   "metadata": {},
   "source": [
    "### Q2) How to Get Out From Loop Statement..\n",
    "\n",
    "- By using the Break Statement inside the loop we can Come out of the Loop"
   ]
  },
  {
   "cell_type": "markdown",
   "metadata": {},
   "source": [
    "### Q3) How to Skip some iteration inside the Loop..\n",
    "\n",
    "- By using the Continue statement inside the Loop we can skip the loop based on the condition."
   ]
  },
  {
   "cell_type": "markdown",
   "metadata": {},
   "source": [
    "### Q4) When Else Part will be executed inside the Loop..\n",
    "\n",
    "- The Else part will be executed if the loop without break then only else block will be executed"
   ]
  },
  {
   "cell_type": "markdown",
   "metadata": {},
   "source": [
    "### 5) The Pass Statement.\n",
    "\n",
    "1) Pass is a python Specific Terminology.\n",
    "\n",
    "2) If we dont know the Crt block as of now we can pass an empty block and in future  we can do it"
   ]
  },
  {
   "cell_type": "code",
   "execution_count": null,
   "metadata": {},
   "outputs": [],
   "source": [
    "### Example 1 : Loan : Car,home,personal for every loan interest rate is there\n",
    "### home = 8.0 ,car = 12.0 ,personal loan = 22.0."
   ]
  },
  {
   "cell_type": "code",
   "execution_count": null,
   "metadata": {},
   "outputs": [],
   "source": []
  },
  {
   "cell_type": "code",
   "execution_count": null,
   "metadata": {},
   "outputs": [],
   "source": []
  },
  {
   "cell_type": "code",
   "execution_count": null,
   "metadata": {},
   "outputs": [],
   "source": []
  },
  {
   "cell_type": "code",
   "execution_count": null,
   "metadata": {},
   "outputs": [],
   "source": []
  },
  {
   "cell_type": "code",
   "execution_count": null,
   "metadata": {},
   "outputs": [],
   "source": []
  },
  {
   "cell_type": "code",
   "execution_count": null,
   "metadata": {},
   "outputs": [],
   "source": []
  },
  {
   "cell_type": "code",
   "execution_count": null,
   "metadata": {},
   "outputs": [],
   "source": []
  },
  {
   "cell_type": "code",
   "execution_count": null,
   "metadata": {},
   "outputs": [],
   "source": []
  },
  {
   "cell_type": "code",
   "execution_count": null,
   "metadata": {},
   "outputs": [],
   "source": []
  },
  {
   "cell_type": "code",
   "execution_count": null,
   "metadata": {},
   "outputs": [],
   "source": []
  },
  {
   "cell_type": "code",
   "execution_count": null,
   "metadata": {},
   "outputs": [],
   "source": []
  },
  {
   "cell_type": "code",
   "execution_count": null,
   "metadata": {},
   "outputs": [],
   "source": []
  },
  {
   "cell_type": "code",
   "execution_count": null,
   "metadata": {},
   "outputs": [],
   "source": []
  },
  {
   "cell_type": "code",
   "execution_count": null,
   "metadata": {},
   "outputs": [],
   "source": []
  },
  {
   "cell_type": "code",
   "execution_count": null,
   "metadata": {},
   "outputs": [],
   "source": []
  },
  {
   "cell_type": "code",
   "execution_count": null,
   "metadata": {},
   "outputs": [],
   "source": []
  },
  {
   "cell_type": "code",
   "execution_count": null,
   "metadata": {},
   "outputs": [],
   "source": []
  },
  {
   "cell_type": "code",
   "execution_count": null,
   "metadata": {},
   "outputs": [],
   "source": []
  },
  {
   "cell_type": "code",
   "execution_count": null,
   "metadata": {},
   "outputs": [],
   "source": []
  },
  {
   "cell_type": "code",
   "execution_count": null,
   "metadata": {},
   "outputs": [],
   "source": []
  },
  {
   "cell_type": "code",
   "execution_count": null,
   "metadata": {},
   "outputs": [],
   "source": []
  },
  {
   "cell_type": "code",
   "execution_count": null,
   "metadata": {},
   "outputs": [],
   "source": []
  },
  {
   "cell_type": "code",
   "execution_count": null,
   "metadata": {},
   "outputs": [],
   "source": []
  },
  {
   "cell_type": "code",
   "execution_count": null,
   "metadata": {},
   "outputs": [],
   "source": []
  },
  {
   "cell_type": "code",
   "execution_count": null,
   "metadata": {},
   "outputs": [],
   "source": []
  },
  {
   "cell_type": "code",
   "execution_count": null,
   "metadata": {},
   "outputs": [],
   "source": []
  },
  {
   "cell_type": "code",
   "execution_count": null,
   "metadata": {},
   "outputs": [],
   "source": []
  },
  {
   "cell_type": "code",
   "execution_count": null,
   "metadata": {},
   "outputs": [],
   "source": []
  },
  {
   "cell_type": "code",
   "execution_count": null,
   "metadata": {},
   "outputs": [],
   "source": []
  },
  {
   "cell_type": "code",
   "execution_count": null,
   "metadata": {},
   "outputs": [],
   "source": []
  },
  {
   "cell_type": "code",
   "execution_count": null,
   "metadata": {},
   "outputs": [],
   "source": []
  },
  {
   "cell_type": "code",
   "execution_count": null,
   "metadata": {},
   "outputs": [],
   "source": []
  },
  {
   "cell_type": "code",
   "execution_count": null,
   "metadata": {},
   "outputs": [],
   "source": []
  },
  {
   "cell_type": "code",
   "execution_count": null,
   "metadata": {},
   "outputs": [],
   "source": []
  },
  {
   "cell_type": "code",
   "execution_count": null,
   "metadata": {},
   "outputs": [],
   "source": []
  },
  {
   "cell_type": "code",
   "execution_count": null,
   "metadata": {},
   "outputs": [],
   "source": []
  },
  {
   "cell_type": "code",
   "execution_count": null,
   "metadata": {},
   "outputs": [],
   "source": []
  },
  {
   "cell_type": "code",
   "execution_count": null,
   "metadata": {},
   "outputs": [],
   "source": []
  },
  {
   "cell_type": "code",
   "execution_count": null,
   "metadata": {},
   "outputs": [],
   "source": []
  },
  {
   "cell_type": "code",
   "execution_count": null,
   "metadata": {},
   "outputs": [],
   "source": []
  },
  {
   "cell_type": "code",
   "execution_count": null,
   "metadata": {},
   "outputs": [],
   "source": []
  },
  {
   "cell_type": "code",
   "execution_count": null,
   "metadata": {},
   "outputs": [],
   "source": []
  },
  {
   "cell_type": "code",
   "execution_count": null,
   "metadata": {},
   "outputs": [],
   "source": []
  },
  {
   "cell_type": "code",
   "execution_count": null,
   "metadata": {},
   "outputs": [],
   "source": []
  },
  {
   "cell_type": "code",
   "execution_count": null,
   "metadata": {},
   "outputs": [],
   "source": []
  },
  {
   "cell_type": "code",
   "execution_count": null,
   "metadata": {},
   "outputs": [],
   "source": []
  },
  {
   "cell_type": "code",
   "execution_count": null,
   "metadata": {},
   "outputs": [],
   "source": []
  },
  {
   "cell_type": "code",
   "execution_count": null,
   "metadata": {},
   "outputs": [],
   "source": []
  },
  {
   "cell_type": "code",
   "execution_count": null,
   "metadata": {},
   "outputs": [],
   "source": []
  },
  {
   "cell_type": "code",
   "execution_count": null,
   "metadata": {},
   "outputs": [],
   "source": []
  },
  {
   "cell_type": "code",
   "execution_count": null,
   "metadata": {},
   "outputs": [],
   "source": []
  },
  {
   "cell_type": "code",
   "execution_count": null,
   "metadata": {},
   "outputs": [],
   "source": []
  },
  {
   "cell_type": "code",
   "execution_count": null,
   "metadata": {},
   "outputs": [],
   "source": []
  },
  {
   "cell_type": "code",
   "execution_count": null,
   "metadata": {},
   "outputs": [],
   "source": []
  },
  {
   "cell_type": "code",
   "execution_count": null,
   "metadata": {},
   "outputs": [],
   "source": []
  },
  {
   "cell_type": "code",
   "execution_count": null,
   "metadata": {},
   "outputs": [],
   "source": []
  },
  {
   "cell_type": "code",
   "execution_count": null,
   "metadata": {},
   "outputs": [],
   "source": []
  },
  {
   "cell_type": "code",
   "execution_count": null,
   "metadata": {},
   "outputs": [],
   "source": []
  },
  {
   "cell_type": "code",
   "execution_count": null,
   "metadata": {},
   "outputs": [],
   "source": []
  },
  {
   "cell_type": "code",
   "execution_count": null,
   "metadata": {},
   "outputs": [],
   "source": []
  },
  {
   "cell_type": "code",
   "execution_count": null,
   "metadata": {},
   "outputs": [],
   "source": []
  },
  {
   "cell_type": "code",
   "execution_count": null,
   "metadata": {},
   "outputs": [],
   "source": []
  },
  {
   "cell_type": "code",
   "execution_count": null,
   "metadata": {},
   "outputs": [],
   "source": []
  },
  {
   "cell_type": "code",
   "execution_count": null,
   "metadata": {},
   "outputs": [],
   "source": []
  },
  {
   "cell_type": "code",
   "execution_count": null,
   "metadata": {},
   "outputs": [],
   "source": []
  },
  {
   "cell_type": "code",
   "execution_count": null,
   "metadata": {},
   "outputs": [],
   "source": []
  },
  {
   "cell_type": "code",
   "execution_count": null,
   "metadata": {},
   "outputs": [],
   "source": []
  },
  {
   "cell_type": "code",
   "execution_count": null,
   "metadata": {},
   "outputs": [],
   "source": []
  },
  {
   "cell_type": "code",
   "execution_count": null,
   "metadata": {},
   "outputs": [],
   "source": []
  },
  {
   "cell_type": "code",
   "execution_count": null,
   "metadata": {},
   "outputs": [],
   "source": []
  },
  {
   "cell_type": "code",
   "execution_count": null,
   "metadata": {},
   "outputs": [],
   "source": []
  },
  {
   "cell_type": "code",
   "execution_count": null,
   "metadata": {},
   "outputs": [],
   "source": []
  },
  {
   "cell_type": "code",
   "execution_count": null,
   "metadata": {},
   "outputs": [],
   "source": []
  }
 ],
 "metadata": {
  "kernelspec": {
   "display_name": "Python 3",
   "language": "python",
   "name": "python3"
  },
  "language_info": {
   "codemirror_mode": {
    "name": "ipython",
    "version": 3
   },
   "file_extension": ".py",
   "mimetype": "text/x-python",
   "name": "python",
   "nbconvert_exporter": "python",
   "pygments_lexer": "ipython3",
   "version": "3.8.5"
  },
  "varInspector": {
   "cols": {
    "lenName": 16,
    "lenType": 16,
    "lenVar": 40
   },
   "kernels_config": {
    "python": {
     "delete_cmd_postfix": "",
     "delete_cmd_prefix": "del ",
     "library": "var_list.py",
     "varRefreshCmd": "print(var_dic_list())"
    },
    "r": {
     "delete_cmd_postfix": ") ",
     "delete_cmd_prefix": "rm(",
     "library": "var_list.r",
     "varRefreshCmd": "cat(var_dic_list()) "
    }
   },
   "types_to_exclude": [
    "module",
    "function",
    "builtin_function_or_method",
    "instance",
    "_Feature"
   ],
   "window_display": false
  }
 },
 "nbformat": 4,
 "nbformat_minor": 4
}
