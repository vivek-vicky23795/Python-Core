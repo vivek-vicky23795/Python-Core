{
 "cells": [
  {
   "cell_type": "code",
   "execution_count": 95,
   "metadata": {},
   "outputs": [],
   "source": [
    "import pandas as pd "
   ]
  },
  {
   "cell_type": "markdown",
   "metadata": {},
   "source": [
    "## Python Strings Methods and String Manupulation :"
   ]
  },
  {
   "cell_type": "markdown",
   "metadata": {},
   "source": [
    "- `String` :  In any Application if You Want to Develop Eg : Lets us Say you have 1000 objects in your application more than 90% of the objects will be the String Objects and the rest is 10% is non String Objects.\n",
    "\n",
    "- Voter regestration Application :\n",
    "\n",
    "-----------     Regesutration Form ----------------------\n",
    "1) Name :  String Object  (1)\n",
    "\n",
    "2) Father Name :  String Object (2)\n",
    " \n",
    "3) Mother Name :  String object(3)\n",
    "\n",
    "4) DOB :  Date Object (1)        \n",
    "\n",
    "5) Address : String Object (4)\n",
    "\n",
    "6) Gender : String Object (5)\n",
    "\n",
    "7) AAdhan Number : Int Object (2) \n",
    "\n",
    "--------------------END OF FORM ------------------------------------"
   ]
  },
  {
   "cell_type": "markdown",
   "metadata": {},
   "source": [
    "`String- ''.\"\",''' '''` : 'String', \"String\",''' String ''''.\n",
    "\n",
    "- A Single Cote : 'Vivek'\n",
    "- Double Cote   :  \"Vivek\"\n",
    "- Thriple Cote  : ''' Vivek'''"
   ]
  },
  {
   "cell_type": "markdown",
   "metadata": {},
   "source": [
    "#### How To Access the Characters Of A String : \n",
    "\n",
    "- There Are Two Ways \n",
    "\n",
    "1) By Using Index:\n",
    "\n",
    "2) By Using Slice:"
   ]
  },
  {
   "cell_type": "code",
   "execution_count": 1,
   "metadata": {},
   "outputs": [
    {
     "name": "stdout",
     "output_type": "stream",
     "text": [
      "i\n",
      "v\n",
      "k\n"
     ]
    },
    {
     "ename": "IndexError",
     "evalue": "string index out of range",
     "output_type": "error",
     "traceback": [
      "\u001b[1;31m---------------------------------------------------------------------------\u001b[0m",
      "\u001b[1;31mIndexError\u001b[0m                                Traceback (most recent call last)",
      "\u001b[1;32m<ipython-input-1-2e78b0e6e4e1>\u001b[0m in \u001b[0;36m<module>\u001b[1;34m\u001b[0m\n\u001b[0;32m      9\u001b[0m \u001b[0mprint\u001b[0m\u001b[1;33m(\u001b[0m\u001b[0ms\u001b[0m\u001b[1;33m[\u001b[0m\u001b[1;33m-\u001b[0m\u001b[1;36m1\u001b[0m\u001b[1;33m]\u001b[0m\u001b[1;33m)\u001b[0m  \u001b[1;31m## negative index\u001b[0m\u001b[1;33m\u001b[0m\u001b[1;33m\u001b[0m\u001b[0m\n\u001b[0;32m     10\u001b[0m \u001b[1;33m\u001b[0m\u001b[0m\n\u001b[1;32m---> 11\u001b[1;33m \u001b[0mprint\u001b[0m\u001b[1;33m(\u001b[0m\u001b[0ms\u001b[0m\u001b[1;33m[\u001b[0m\u001b[1;36m100\u001b[0m\u001b[1;33m]\u001b[0m\u001b[1;33m)\u001b[0m  \u001b[1;31m## index error :\u001b[0m\u001b[1;33m\u001b[0m\u001b[1;33m\u001b[0m\u001b[0m\n\u001b[0m",
      "\u001b[1;31mIndexError\u001b[0m: string index out of range"
     ]
    }
   ],
   "source": [
    "## Using the Index :\n",
    "\n",
    "s = 'vivek'\n",
    "\n",
    "print(s[1])\n",
    "\n",
    "print(s[0])\n",
    "\n",
    "print(s[-1])  ## negative index\n",
    "\n",
    "print(s[100])  ## index error : "
   ]
  },
  {
   "cell_type": "code",
   "execution_count": null,
   "metadata": {},
   "outputs": [],
   "source": [
    "### WAP to display the chars of a String index Wise..\n",
    "\n",
    "String = input(\"Enter the String Value :\")\n",
    "\n",
    "i = 0\n",
    "for x in String:\n",
    "    print(\" The Positive Index {} is {} \\\n",
    "            The Negative Index {} is {} \".format(i,x,i-len(String),x))\n",
    "    i = i+1"
   ]
  },
  {
   "cell_type": "markdown",
   "metadata": {},
   "source": [
    "### The Slice Operation : \n",
    "\n",
    "- The String Slice operator : \n",
    "\n",
    "- Index Vs Slice  :By Index  we can Get Only One Chars\n",
    "- By Slice We can Take a Substring (slice of a String).. One Part\n",
    "\n",
    "#### The Syntax For Slice Operator :\n",
    "\n",
    "- String[Start : End : Step]\n",
    "\n",
    "- String [START:END]\n",
    "- This gives a substring from start to end\n",
    "- If begin is oprtional then the default value = 0\n",
    "- If End is optional then the default value = len(s)"
   ]
  },
  {
   "cell_type": "code",
   "execution_count": null,
   "metadata": {},
   "outputs": [],
   "source": [
    "### Example For Slice Operation ...\n",
    "\n",
    "var = \"The Data Science\"\n",
    "\n",
    "\n",
    "## print every chars form start to end .\n",
    "print(var[0:])\n",
    "\n",
    "## print exculding the first chars ...\n",
    "\n",
    "print(var[1:])\n",
    "\n",
    "## Print exclufing the last char..\n",
    "\n",
    "print(var[0:-1])\n",
    "\n",
    "## print only science ..\n",
    "\n",
    "print(var[9:])\n",
    "\n",
    "## print only the \"data\" chars...\n",
    "print(var[4:8])"
   ]
  },
  {
   "cell_type": "markdown",
   "metadata": {},
   "source": [
    "## THE SLICE OPERATOR RULES :\n",
    "\n",
    "1) String [Begin : End : Step] \n",
    "- The Step value can be either positive or negative.\n",
    "\n",
    "\n",
    "- String[1 : 10 : 1]  (pos step)\n",
    "- String [1 : 10 : -1] (Neg Step)\n",
    "\n",
    "\n",
    "2) If Step Value : Positive.\n",
    "- Substring from left to right (Forward Direction) [Begin to End-1]\n",
    "\n",
    "\n",
    "3) If Step Value : Negative.\n",
    "- Substring From Right to Left (Backward Direction)  [Begin to End+1]\n",
    "\n",
    "4) In  Slice Operator The Step Value Cannot Be Zero (0)\n",
    "\n",
    "5) In Forward Direction if the End Value is Zero (0) The Result is Always empty \"\" String \n",
    "- The Default Value For Forward Direction : [Begin = 0 , End = len(String)]\n",
    "\n",
    "6) In Backward Direction if the End value is -1 then the Result is always empty \"\" String.\n",
    "- The Default value For Backward Direction : [Begin = -1 , End = -(len(s)+1)]"
   ]
  },
  {
   "cell_type": "markdown",
   "metadata": {},
   "source": [
    "#### The Slice Operator Case Study :"
   ]
  },
  {
   "cell_type": "code",
   "execution_count": 2,
   "metadata": {},
   "outputs": [],
   "source": [
    "### Lets See the String.\n",
    "\n",
    "S  = \"ABCDEFGHIJ\" "
   ]
  },
  {
   "cell_type": "code",
   "execution_count": 3,
   "metadata": {},
   "outputs": [
    {
     "data": {
      "text/plain": [
       "'BDF'"
      ]
     },
     "execution_count": 3,
     "metadata": {},
     "output_type": "execute_result"
    }
   ],
   "source": [
    "## Q1) s[1:6:2]\n",
    "\n",
    "S[1:6:2]  ## pos step value\n",
    "\n",
    "## Forward direction (Left to right) (begin to end-1)\n",
    "\n",
    "## b = 1 , e = 6 -1 = 5 "
   ]
  },
  {
   "cell_type": "code",
   "execution_count": 4,
   "metadata": {},
   "outputs": [
    {
     "data": {
      "text/plain": [
       "'ABCDEFGHIJ'"
      ]
     },
     "execution_count": 4,
     "metadata": {},
     "output_type": "execute_result"
    }
   ],
   "source": [
    "### Q2) s[::1]  (Pos Step Value Forward Direction Left to Right)\n",
    "\n",
    "## NO begin value so Defalut value = 0\n",
    "## No End Value So Defalult value = Len(String)\n",
    "\n",
    "### ANS : ABCDEFGHIJ \n",
    "\n",
    "\n",
    "S[::1]"
   ]
  },
  {
   "cell_type": "code",
   "execution_count": 5,
   "metadata": {},
   "outputs": [
    {
     "data": {
      "text/plain": [
       "'JIHGFEDCBA'"
      ]
     },
     "execution_count": 5,
     "metadata": {},
     "output_type": "execute_result"
    }
   ],
   "source": [
    "### Q3) S[::-1]  (Neg Step) (Backward Direction) (R to L)\n",
    "\n",
    "### NO Value for Begin and End \n",
    "\n",
    "## The Default Value for Begin : -1 (For Backward Direction)\n",
    "\n",
    "## The Default Value For End : [-Len(String)+1] \n",
    "\n",
    "## ANS : JIHGFEDCBA\n",
    "\n",
    "S[::-1]"
   ]
  },
  {
   "cell_type": "code",
   "execution_count": 6,
   "metadata": {},
   "outputs": [
    {
     "data": {
      "text/plain": [
       "''"
      ]
     },
     "execution_count": 6,
     "metadata": {},
     "output_type": "execute_result"
    }
   ],
   "source": [
    "### Q4) S[3:7:-1]  (Neg Step) (Backward Direction) (R to L) ( B to E+1)\n",
    "\n",
    "### B: 3 and E = 7 +1 = 8 ( 3 to 8) In backward Direction\n",
    "### ANS : \"\"\n",
    "\n",
    "S[3:7:-1]"
   ]
  },
  {
   "cell_type": "code",
   "execution_count": 7,
   "metadata": {},
   "outputs": [
    {
     "data": {
      "text/plain": [
       "'HGF'"
      ]
     },
     "execution_count": 7,
     "metadata": {},
     "output_type": "execute_result"
    }
   ],
   "source": [
    "### Q5)  S[7 : 4 : -1]   (Neg Step) (Backward Direction) (R to L) (B to E+1)\n",
    "### (7 to 4+1 = 5 ) (Reverse)\n",
    "\n",
    "### ANS : HGF\n",
    "\n",
    "S[7 : 4 : -1]"
   ]
  },
  {
   "cell_type": "code",
   "execution_count": 8,
   "metadata": {},
   "outputs": [
    {
     "data": {
      "text/plain": [
       "'ABCDEFGHIJ'"
      ]
     },
     "execution_count": 8,
     "metadata": {},
     "output_type": "execute_result"
    }
   ],
   "source": [
    "### Q6) S[0:1000 :1] (Pos Step) (Forward Dir) (L to R) (B to E-1) \n",
    "\n",
    "## B=0 E = 10000 -1 = 9999\n",
    "\n",
    "### ANS : ABCDEFGHIJ\n",
    "\n",
    "S[0:1000:1]"
   ]
  },
  {
   "cell_type": "code",
   "execution_count": 9,
   "metadata": {},
   "outputs": [
    {
     "data": {
      "text/plain": [
       "'GFEDC'"
      ]
     },
     "execution_count": 9,
     "metadata": {},
     "output_type": "execute_result"
    }
   ],
   "source": [
    "### Q7) S[-4 : 1 : -1] (Neg Step) (Backward Direction) (R to l) (B to E+1) \n",
    "\n",
    "## B = -4 and E = 2 (1+1) So if E = 0  in FD then Empty String\n",
    "\n",
    "### ANS : \"GFEDC\"\n",
    "\n",
    "S[-4 : 1 : -1]"
   ]
  },
  {
   "cell_type": "code",
   "execution_count": 10,
   "metadata": {},
   "outputs": [
    {
     "data": {
      "text/plain": [
       "'GEC'"
      ]
     },
     "execution_count": 10,
     "metadata": {},
     "output_type": "execute_result"
    }
   ],
   "source": [
    "## Q8) S[-4 :1 : -2] (Neg Step) (Backward Direction) (R to L) (B to E+1)\n",
    "\n",
    "## B = -4 , E = -1 (-2+1) ,S = 2 \n",
    "\n",
    "### ANS = \"GEC\"\n",
    "\n",
    "S[-4 : 1 : -2]"
   ]
  },
  {
   "cell_type": "code",
   "execution_count": 11,
   "metadata": {},
   "outputs": [
    {
     "data": {
      "text/plain": [
       "''"
      ]
     },
     "execution_count": 11,
     "metadata": {},
     "output_type": "execute_result"
    }
   ],
   "source": [
    "## Q9) S[5 : 0 :1] (Pos Step) (Forward Direction) (L to R) (B to E-1)\n",
    "\n",
    "## The End Value = 0 In Forward Direction means = \"\" (Empty String)\n",
    "\n",
    "S[5 :0:1]"
   ]
  },
  {
   "cell_type": "code",
   "execution_count": 12,
   "metadata": {},
   "outputs": [
    {
     "ename": "ValueError",
     "evalue": "slice step cannot be zero",
     "output_type": "error",
     "traceback": [
      "\u001b[1;31m---------------------------------------------------------------------------\u001b[0m",
      "\u001b[1;31mValueError\u001b[0m                                Traceback (most recent call last)",
      "\u001b[1;32m<ipython-input-12-96ce1b380d68>\u001b[0m in \u001b[0;36m<module>\u001b[1;34m\u001b[0m\n\u001b[0;32m      5\u001b[0m \u001b[1;31m## ANS : Step Value Error.\u001b[0m\u001b[1;33m\u001b[0m\u001b[1;33m\u001b[0m\u001b[1;33m\u001b[0m\u001b[0m\n\u001b[0;32m      6\u001b[0m \u001b[1;33m\u001b[0m\u001b[0m\n\u001b[1;32m----> 7\u001b[1;33m \u001b[0mS\u001b[0m\u001b[1;33m[\u001b[0m\u001b[1;36m7\u001b[0m \u001b[1;33m:\u001b[0m \u001b[1;36m0\u001b[0m \u001b[1;33m:\u001b[0m\u001b[1;36m0\u001b[0m\u001b[1;33m]\u001b[0m\u001b[1;33m\u001b[0m\u001b[1;33m\u001b[0m\u001b[0m\n\u001b[0m",
      "\u001b[1;31mValueError\u001b[0m: slice step cannot be zero"
     ]
    }
   ],
   "source": [
    "## Q10) S[7 : 0 : 0] (Step size = 0) ( Step cannot be Zero)\n",
    "\n",
    "## Step value Error..\n",
    "\n",
    "## ANS : Step Value Error.\n",
    "\n",
    "S[7 : 0 :0]"
   ]
  },
  {
   "cell_type": "code",
   "execution_count": 13,
   "metadata": {},
   "outputs": [
    {
     "data": {
      "text/plain": [
       "'v'"
      ]
     },
     "execution_count": 13,
     "metadata": {},
     "output_type": "execute_result"
    }
   ],
   "source": [
    "## Q11) S[0 : -10 : -1] (Neg Step) (Backward) (B to E+1) (R to L)\n",
    "\n",
    "## B = 0 , E =-10 +1 = -9 \n",
    "\n",
    "### ANS : \"\"\n",
    "\n",
    "s[0 : -10 :-1]"
   ]
  },
  {
   "cell_type": "code",
   "execution_count": 14,
   "metadata": {},
   "outputs": [
    {
     "data": {
      "text/plain": [
       "'A'"
      ]
     },
     "execution_count": 14,
     "metadata": {},
     "output_type": "execute_result"
    }
   ],
   "source": [
    "## Q12) s[0 :-11 :-1] (Neg Step) (Bankward) (B to E+1) (R to L)\n",
    "\n",
    "## B= 0 , E = (-11+1) (-10) ,S =-1\n",
    "\n",
    "## ANS : A\n",
    "\n",
    "S[0 : -11 :-1]"
   ]
  },
  {
   "cell_type": "code",
   "execution_count": 15,
   "metadata": {},
   "outputs": [
    {
     "data": {
      "text/plain": [
       "''"
      ]
     },
     "execution_count": 15,
     "metadata": {},
     "output_type": "execute_result"
    }
   ],
   "source": [
    "## Q13) S[0:0:1] (Pos Step) (Forward Direction) (B to E-1) (L to R)\n",
    "\n",
    "## B = 0 and E = 0 ( In Forward dir E = 0 (Res = \"\"))\n",
    "\n",
    "## ANS = \"\"\n",
    "\n",
    "S[0:0:1]"
   ]
  },
  {
   "cell_type": "code",
   "execution_count": 16,
   "metadata": {},
   "outputs": [
    {
     "data": {
      "text/plain": [
       "''"
      ]
     },
     "execution_count": 16,
     "metadata": {},
     "output_type": "execute_result"
    }
   ],
   "source": [
    "## Q14) S[0:9:-2] (Neg Step) (Backward Dir) (R to L) (B to E+1)\n",
    "\n",
    "## B = 0 , E = (-9+1) (8) , S = -2 \n",
    "\n",
    "### ANS = ''\n",
    "\n",
    "S[0:-9:-2]"
   ]
  },
  {
   "cell_type": "code",
   "execution_count": 17,
   "metadata": {},
   "outputs": [
    {
     "data": {
      "text/plain": [
       "'FD'"
      ]
     },
     "execution_count": 17,
     "metadata": {},
     "output_type": "execute_result"
    }
   ],
   "source": [
    "## Q15) S[-5 : -9 : -2] (Neg Step) (Backward Dir) (R to L) (B to E+1)\n",
    "\n",
    "## B = -5 , E = -9+1 (-8) , S = -2\n",
    "\n",
    "## ANS = \"FD\"\n",
    "\n",
    "S[-5 :-9 :-2]"
   ]
  },
  {
   "cell_type": "code",
   "execution_count": 18,
   "metadata": {},
   "outputs": [
    {
     "data": {
      "text/plain": [
       "''"
      ]
     },
     "execution_count": 18,
     "metadata": {},
     "output_type": "execute_result"
    }
   ],
   "source": [
    "## Q16) S[10 : -1 :-1] (Neg Step) (Backward Direction) (R to L) (B to E+1)\n",
    "\n",
    "## b = 10 , e  = -1+1 (0) \n",
    "\n",
    "## ANS = \"\"\n",
    "\n",
    "S[10:-1 :-1]"
   ]
  },
  {
   "cell_type": "code",
   "execution_count": 19,
   "metadata": {},
   "outputs": [
    {
     "data": {
      "text/plain": [
       "'ke'"
      ]
     },
     "execution_count": 19,
     "metadata": {},
     "output_type": "execute_result"
    }
   ],
   "source": [
    "## Q17) S[10000 : 2 :-1] (Neg Step) (Backward Direction) (R to l) (B to E+1)\n",
    "## B = 10000 \n",
    "\n",
    "## ANS = \"JIGGFED\"\n",
    "\n",
    "s[10000 : 2 : -1] "
   ]
  },
  {
   "cell_type": "markdown",
   "metadata": {},
   "source": [
    "## MATHEMATICAL OPERATORS FOR STRINGS\n",
    "+ ( + For Concatenation)\n",
    "\n",
    "* ( * For Repetation)"
   ]
  },
  {
   "cell_type": "code",
   "execution_count": 20,
   "metadata": {},
   "outputs": [
    {
     "data": {
      "text/plain": [
       "'VivekVivekVivek'"
      ]
     },
     "execution_count": 20,
     "metadata": {},
     "output_type": "execute_result"
    }
   ],
   "source": [
    "### The * Operator\n",
    "\n",
    "\"Vivek\" * 3"
   ]
  },
  {
   "cell_type": "code",
   "execution_count": 21,
   "metadata": {},
   "outputs": [
    {
     "data": {
      "text/plain": [
       "'VivekMh'"
      ]
     },
     "execution_count": 21,
     "metadata": {},
     "output_type": "execute_result"
    }
   ],
   "source": [
    "## The + Operator.\n",
    "\n",
    "\"Vivek\" + \"Mh\"\n",
    "\n",
    "\n",
    "## The String Concatenation using the + Operator."
   ]
  },
  {
   "cell_type": "code",
   "execution_count": 22,
   "metadata": {},
   "outputs": [
    {
     "data": {
      "text/plain": [
       "'VivekVivekVivek'"
      ]
     },
     "execution_count": 22,
     "metadata": {},
     "output_type": "execute_result"
    }
   ],
   "source": [
    "## The * operator\n",
    "\n",
    "3 * \"Vivek\""
   ]
  },
  {
   "cell_type": "markdown",
   "metadata": {},
   "source": [
    "- The Possible Combination of a String Operators.\n",
    "\n",
    "- String  +  String  (Valid)\n",
    "\n",
    "- String  +  Integer (Invalid)\n",
    "\n",
    "- String  *  Integer (Valid)\n",
    "\n",
    "- String  * Float    (Invalid)\n",
    "\n",
    "- String  + Float    (Invalid)"
   ]
  },
  {
   "cell_type": "markdown",
   "metadata": {},
   "source": [
    "## MEMEBERSHIP OPERATOR IN STRINGS :\n",
    "\n",
    "1) IN Operator.\n",
    "\n",
    "2) Not IN Operator."
   ]
  },
  {
   "cell_type": "code",
   "execution_count": 23,
   "metadata": {},
   "outputs": [
    {
     "data": {
      "text/plain": [
       "True"
      ]
     },
     "execution_count": 23,
     "metadata": {},
     "output_type": "execute_result"
    }
   ],
   "source": [
    "## Eg : For Memebership Operator\n",
    "\n",
    "\"v\" in \"Vivek\""
   ]
  },
  {
   "cell_type": "code",
   "execution_count": 24,
   "metadata": {},
   "outputs": [
    {
     "data": {
      "text/plain": [
       "True"
      ]
     },
     "execution_count": 24,
     "metadata": {},
     "output_type": "execute_result"
    }
   ],
   "source": [
    "## Eg: Membership Operator\n",
    "\n",
    "\"Z\" not in \"Vivek\""
   ]
  },
  {
   "cell_type": "code",
   "execution_count": null,
   "metadata": {},
   "outputs": [],
   "source": []
  },
  {
   "cell_type": "code",
   "execution_count": 25,
   "metadata": {},
   "outputs": [
    {
     "name": "stdout",
     "output_type": "stream",
     "text": [
      "Enter Your String  : Vivek\n",
      "Enter Your Substring : ie\n",
      "Substring Not Present In Main String\n"
     ]
    }
   ],
   "source": [
    "### WAp Small Program to Find the Substring in a given String..\n",
    "\n",
    "String = input(\"Enter Your String  : \")\n",
    "\n",
    "SubString  = input(\"Enter Your Substring : \")\n",
    "\n",
    "if SubString in String:\n",
    "    print(\"Substring Present In main String\")\n",
    "else:\n",
    "    print(\"Substring Not Present In Main String\")"
   ]
  },
  {
   "cell_type": "markdown",
   "metadata": {},
   "source": [
    "## COMPARISION OPERATOR IN STRINGS : \n",
    "\n",
    "- (==) [Equal To]\n",
    "\n",
    "- (<=) [Lesser Than]\n",
    "\n",
    "- (>=) [Greater Than]\n",
    "\n",
    "- (!=) [Not Equal To]"
   ]
  },
  {
   "cell_type": "markdown",
   "metadata": {},
   "source": [
    "#### TO CHECK FOR ASCII VALUE OF THE CHARS USE `ord()`\n",
    "\n",
    "- EG : ord(\"a\")\n",
    "- ord(#)"
   ]
  },
  {
   "cell_type": "code",
   "execution_count": 26,
   "metadata": {},
   "outputs": [
    {
     "data": {
      "text/plain": [
       "True"
      ]
     },
     "execution_count": 26,
     "metadata": {},
     "output_type": "execute_result"
    }
   ],
   "source": [
    "\"ramba\" < \"ramya\""
   ]
  },
  {
   "cell_type": "code",
   "execution_count": 27,
   "metadata": {},
   "outputs": [
    {
     "ename": "KeyboardInterrupt",
     "evalue": "Interrupted by user",
     "output_type": "error",
     "traceback": [
      "\u001b[1;31m---------------------------------------------------------------------------\u001b[0m",
      "\u001b[1;31mKeyboardInterrupt\u001b[0m                         Traceback (most recent call last)",
      "\u001b[1;32m<ipython-input-27-f4bdd2da619c>\u001b[0m in \u001b[0;36m<module>\u001b[1;34m\u001b[0m\n\u001b[0;32m      1\u001b[0m \u001b[1;31m### WAP to Read two strings From user\u001b[0m\u001b[1;33m\u001b[0m\u001b[1;33m\u001b[0m\u001b[1;33m\u001b[0m\u001b[0m\n\u001b[0;32m      2\u001b[0m \u001b[1;33m\u001b[0m\u001b[0m\n\u001b[1;32m----> 3\u001b[1;33m \u001b[0mS1\u001b[0m \u001b[1;33m=\u001b[0m \u001b[0minput\u001b[0m\u001b[1;33m(\u001b[0m\u001b[1;34m\"Enter the 1st String :\"\u001b[0m\u001b[1;33m)\u001b[0m\u001b[1;33m\u001b[0m\u001b[1;33m\u001b[0m\u001b[0m\n\u001b[0m\u001b[0;32m      4\u001b[0m \u001b[1;33m\u001b[0m\u001b[0m\n\u001b[0;32m      5\u001b[0m \u001b[0mS2\u001b[0m \u001b[1;33m=\u001b[0m \u001b[0minput\u001b[0m\u001b[1;33m(\u001b[0m\u001b[1;34m\"Enter the 2nd String :\"\u001b[0m\u001b[1;33m)\u001b[0m\u001b[1;33m\u001b[0m\u001b[1;33m\u001b[0m\u001b[0m\n",
      "\u001b[1;32mV:\\SOFTWARES\\ANACONDA3\\envs\\Pandas2\\lib\\site-packages\\ipykernel\\kernelbase.py\u001b[0m in \u001b[0;36mraw_input\u001b[1;34m(self, prompt)\u001b[0m\n\u001b[0;32m    858\u001b[0m                 \u001b[1;34m\"raw_input was called, but this frontend does not support input requests.\"\u001b[0m\u001b[1;33m\u001b[0m\u001b[1;33m\u001b[0m\u001b[0m\n\u001b[0;32m    859\u001b[0m             )\n\u001b[1;32m--> 860\u001b[1;33m         return self._input_request(str(prompt),\n\u001b[0m\u001b[0;32m    861\u001b[0m             \u001b[0mself\u001b[0m\u001b[1;33m.\u001b[0m\u001b[0m_parent_ident\u001b[0m\u001b[1;33m,\u001b[0m\u001b[1;33m\u001b[0m\u001b[1;33m\u001b[0m\u001b[0m\n\u001b[0;32m    862\u001b[0m             \u001b[0mself\u001b[0m\u001b[1;33m.\u001b[0m\u001b[0m_parent_header\u001b[0m\u001b[1;33m,\u001b[0m\u001b[1;33m\u001b[0m\u001b[1;33m\u001b[0m\u001b[0m\n",
      "\u001b[1;32mV:\\SOFTWARES\\ANACONDA3\\envs\\Pandas2\\lib\\site-packages\\ipykernel\\kernelbase.py\u001b[0m in \u001b[0;36m_input_request\u001b[1;34m(self, prompt, ident, parent, password)\u001b[0m\n\u001b[0;32m    902\u001b[0m             \u001b[1;32mexcept\u001b[0m \u001b[0mKeyboardInterrupt\u001b[0m\u001b[1;33m:\u001b[0m\u001b[1;33m\u001b[0m\u001b[1;33m\u001b[0m\u001b[0m\n\u001b[0;32m    903\u001b[0m                 \u001b[1;31m# re-raise KeyboardInterrupt, to truncate traceback\u001b[0m\u001b[1;33m\u001b[0m\u001b[1;33m\u001b[0m\u001b[1;33m\u001b[0m\u001b[0m\n\u001b[1;32m--> 904\u001b[1;33m                 \u001b[1;32mraise\u001b[0m \u001b[0mKeyboardInterrupt\u001b[0m\u001b[1;33m(\u001b[0m\u001b[1;34m\"Interrupted by user\"\u001b[0m\u001b[1;33m)\u001b[0m \u001b[1;32mfrom\u001b[0m \u001b[1;32mNone\u001b[0m\u001b[1;33m\u001b[0m\u001b[1;33m\u001b[0m\u001b[0m\n\u001b[0m\u001b[0;32m    905\u001b[0m             \u001b[1;32mexcept\u001b[0m \u001b[0mException\u001b[0m \u001b[1;32mas\u001b[0m \u001b[0me\u001b[0m\u001b[1;33m:\u001b[0m\u001b[1;33m\u001b[0m\u001b[1;33m\u001b[0m\u001b[0m\n\u001b[0;32m    906\u001b[0m                 \u001b[0mself\u001b[0m\u001b[1;33m.\u001b[0m\u001b[0mlog\u001b[0m\u001b[1;33m.\u001b[0m\u001b[0mwarning\u001b[0m\u001b[1;33m(\u001b[0m\u001b[1;34m\"Invalid Message:\"\u001b[0m\u001b[1;33m,\u001b[0m \u001b[0mexc_info\u001b[0m\u001b[1;33m=\u001b[0m\u001b[1;32mTrue\u001b[0m\u001b[1;33m)\u001b[0m\u001b[1;33m\u001b[0m\u001b[1;33m\u001b[0m\u001b[0m\n",
      "\u001b[1;31mKeyboardInterrupt\u001b[0m: Interrupted by user"
     ]
    }
   ],
   "source": [
    "### WAP to Read two strings From user \n",
    "\n",
    "S1 = input(\"Enter the 1st String :\")\n",
    "\n",
    "S2 = input(\"Enter the 2nd String :\")\n",
    "\n",
    "if S1 == S2:\n",
    "    print(\" The Both Strings Are Equal\")\n",
    "elif S1 < S2:\n",
    "    print(\"The 1st String is Less than 2nd String\")\n",
    "elif S2 < S1:\n",
    "    print(\"The 2nd String is Less than 1st String \")"
   ]
  },
  {
   "cell_type": "markdown",
   "metadata": {},
   "source": [
    "## Methods To Remove Spaces From the Strings : \n",
    "\n",
    "- `strip()` : Remove all the Spaces from Left and Right Side (Not Middle)\n",
    "\n",
    "- `lstrip()` : Left Strip : Remove the Spaces at Begningof the String (LHS)\n",
    "\n",
    "- `rstrip()` : Right Strip : Remove the Spaces at End of the String (RHS)"
   ]
  },
  {
   "cell_type": "code",
   "execution_count": null,
   "metadata": {},
   "outputs": [],
   "source": [
    "### A Small Progm to Demostrate the Use of the Removal of Spaces.\n",
    "\n",
    "city = input(\"Enter Your City\")\n",
    "Scity = city.strip()\n",
    "if Scity == \"Hyderabad\":\n",
    "    print(\"Hello Hyderabadi ... Aadhab..!! \")\n",
    "elif Scity == \"Chennai\":\n",
    "    print(\" Hello Madarasi ... Vannakam..!!\")\n",
    "elif Scity == \"Bengaluru\":\n",
    "    print(\"Hello Kannadiga ... Namkasara..!!\")\n",
    "else :\n",
    "    print(\"Sorry The City You have Entered is Not there In Our DataBase..\")"
   ]
  },
  {
   "cell_type": "code",
   "execution_count": null,
   "metadata": {},
   "outputs": [],
   "source": [
    "### The Method 2 : Using the Method chaining :\n",
    "\n",
    "city = input(\"Enter Your City\").strip()  ## method chaining\n",
    "if city == \"Hyderabad\":\n",
    "    print(\"Hello Hyderabadi ... Aadhab..!! \")\n",
    "elif city == \"Chennai\":\n",
    "    print(\" Hello Madarasi ... Vannakam..!!\")\n",
    "elif city == \"Bengaluru\":\n",
    "    print(\"Hello Kannadiga ... Namkasara..!!\")\n",
    "else :\n",
    "    print(\"Sorry The City You have Entered is Not there In Our DataBase..\")\n"
   ]
  },
  {
   "cell_type": "code",
   "execution_count": null,
   "metadata": {},
   "outputs": [],
   "source": [
    "Data = \"   Chennai Banglore\"\n",
    "\n",
    "Data.lstrip()"
   ]
  },
  {
   "cell_type": "markdown",
   "metadata": {},
   "source": [
    "## Finding the Substring: \n",
    "\n",
    "- Find() Method :\n",
    "It Searches from (L to R) and returns always the 1st occurence of the string and retuns if matched.If the substring is not matched it retuns -1.\n",
    "\n",
    "\n",
    "\n",
    "- rfind() Method.\n",
    "\n",
    "- index Method.\n",
    "\n",
    "- rindex Method."
   ]
  },
  {
   "cell_type": "markdown",
   "metadata": {},
   "source": [
    "### 1) THE `find()` Method"
   ]
  },
  {
   "cell_type": "code",
   "execution_count": null,
   "metadata": {},
   "outputs": [],
   "source": [
    "## Eg : find().\n",
    "\n",
    "S = \"ABDABC\"\n",
    "\n",
    "print(S.find(\"B\"))\n",
    "\n",
    "## This will Return the index position\n",
    "\n",
    "## Remember it always return the 1st occurence of the index position String.\n",
    "\n",
    "print()\n",
    "\n",
    "print(S.find(\"C\"))"
   ]
  },
  {
   "cell_type": "code",
   "execution_count": null,
   "metadata": {},
   "outputs": [],
   "source": [
    "### EG 2 : Find the Substring index Position using the `find()`\n",
    "\n",
    "S = \"The Data Science\"\n",
    "\n",
    "print(S.find(\"e\"))  ## Returns always the 1st occurence of the string\n",
    "\n",
    "## the index position of the substring..\n",
    "\n",
    "\n",
    "print(S.find(\"Data\"))"
   ]
  },
  {
   "cell_type": "code",
   "execution_count": null,
   "metadata": {},
   "outputs": [],
   "source": [
    "## EG 3 : What if the Substring is Not Found in the String.\n",
    "\n",
    "String = \"The Substring\"\n",
    "\n",
    "print(String.find(\"Z\"))\n",
    "\n",
    "### If substring is not found it always retuns -1.\n"
   ]
  },
  {
   "cell_type": "markdown",
   "metadata": {},
   "source": [
    "### 2) The `rfind()` Method\n",
    "\n",
    "- Reverse Find method : It always Searches from Right to Left. "
   ]
  },
  {
   "cell_type": "code",
   "execution_count": null,
   "metadata": {},
   "outputs": [],
   "source": [
    "### Eg 1 : Lets take a String..\n",
    "\n",
    "S1 = \"ABCBA\"\n",
    "\n",
    "## Now rfind() ( Last to First.)\n",
    "\n",
    "print(S1.rfind(\"B\"))"
   ]
  },
  {
   "cell_type": "code",
   "execution_count": null,
   "metadata": {},
   "outputs": [],
   "source": [
    "### Eg : What if it doest not Find the Substring..\n",
    "\n",
    "S2 = \"ABACBA\"\n",
    "\n",
    "print(S2.rfind(\"Z\"))\n",
    "\n",
    "## If Substring not Found -1."
   ]
  },
  {
   "cell_type": "code",
   "execution_count": null,
   "metadata": {},
   "outputs": [],
   "source": [
    "## Within the Given Bounndary Search the String...\n",
    "\n",
    "## Lets Take an  Example :\n",
    "\n",
    "S = \"ABCDEFGHIJ\"\n",
    "\n",
    "## Lets Say the Given Boundary is [3 : 8].\n",
    "\n",
    "print(S.find(\"B\",3,8))\n",
    "\n",
    "## This Retuns -1 (Means No Substring is matched )\n",
    "\n",
    "\n",
    "print(S.find(\"G\",3,8))  ## specified boundary..\n",
    "\n",
    "## this retuns the index position where the substring is matched."
   ]
  },
  {
   "cell_type": "markdown",
   "metadata": {},
   "source": [
    "### THE INDEX() AND R-INDEX() METHOD"
   ]
  },
  {
   "cell_type": "code",
   "execution_count": 28,
   "metadata": {},
   "outputs": [
    {
     "name": "stdout",
     "output_type": "stream",
     "text": [
      "1\n"
     ]
    }
   ],
   "source": [
    "S = \"ABCDEF\"\n",
    "\n",
    "print(S.index(\"B\"))"
   ]
  },
  {
   "cell_type": "code",
   "execution_count": 29,
   "metadata": {},
   "outputs": [
    {
     "ename": "ValueError",
     "evalue": "substring not found",
     "output_type": "error",
     "traceback": [
      "\u001b[1;31m---------------------------------------------------------------------------\u001b[0m",
      "\u001b[1;31mValueError\u001b[0m                                Traceback (most recent call last)",
      "\u001b[1;32m<ipython-input-29-a42e4f6e2a12>\u001b[0m in \u001b[0;36m<module>\u001b[1;34m\u001b[0m\n\u001b[1;32m----> 1\u001b[1;33m \u001b[0mprint\u001b[0m\u001b[1;33m(\u001b[0m\u001b[0mS\u001b[0m\u001b[1;33m.\u001b[0m\u001b[0mindex\u001b[0m\u001b[1;33m(\u001b[0m\u001b[1;34m\"Z\"\u001b[0m\u001b[1;33m)\u001b[0m\u001b[1;33m)\u001b[0m  \u001b[1;31m## this throws a value Error thats the difference\u001b[0m\u001b[1;33m\u001b[0m\u001b[1;33m\u001b[0m\u001b[0m\n\u001b[0m\u001b[0;32m      2\u001b[0m \u001b[1;33m\u001b[0m\u001b[0m\n\u001b[0;32m      3\u001b[0m \u001b[1;33m\u001b[0m\u001b[0m\n\u001b[0;32m      4\u001b[0m \u001b[1;31m## value error will occur\u001b[0m\u001b[1;33m\u001b[0m\u001b[1;33m\u001b[0m\u001b[1;33m\u001b[0m\u001b[0m\n",
      "\u001b[1;31mValueError\u001b[0m: substring not found"
     ]
    }
   ],
   "source": [
    "print(S.index(\"Z\"))  ## this throws a value Error thats the difference\n",
    "\n",
    "\n",
    "## value error will occur (Substring Not Found) this will not give -1\n",
    "\n",
    "### This is the difference between find() and index() Method.."
   ]
  },
  {
   "cell_type": "code",
   "execution_count": 31,
   "metadata": {},
   "outputs": [
    {
     "name": "stdout",
     "output_type": "stream",
     "text": [
      "3\n"
     ]
    }
   ],
   "source": [
    "### The rindex()...\n",
    "\n",
    "S = \"ABCBA\"\n",
    "print(S.rindex(\"B\"))"
   ]
  },
  {
   "cell_type": "code",
   "execution_count": 33,
   "metadata": {},
   "outputs": [
    {
     "ename": "ValueError",
     "evalue": "substring not found",
     "output_type": "error",
     "traceback": [
      "\u001b[1;31m---------------------------------------------------------------------------\u001b[0m",
      "\u001b[1;31mValueError\u001b[0m                                Traceback (most recent call last)",
      "\u001b[1;32m<ipython-input-33-7aae4819fe51>\u001b[0m in \u001b[0;36m<module>\u001b[1;34m\u001b[0m\n\u001b[1;32m----> 1\u001b[1;33m \u001b[0mprint\u001b[0m\u001b[1;33m(\u001b[0m\u001b[0mS\u001b[0m\u001b[1;33m.\u001b[0m\u001b[0mrindex\u001b[0m\u001b[1;33m(\u001b[0m\u001b[1;34m\"Z\"\u001b[0m\u001b[1;33m)\u001b[0m\u001b[1;33m)\u001b[0m\u001b[1;33m\u001b[0m\u001b[1;33m\u001b[0m\u001b[0m\n\u001b[0m\u001b[0;32m      2\u001b[0m \u001b[1;33m\u001b[0m\u001b[0m\n\u001b[0;32m      3\u001b[0m \u001b[1;31m## Substring not found means value error not -1.\u001b[0m\u001b[1;33m\u001b[0m\u001b[1;33m\u001b[0m\u001b[1;33m\u001b[0m\u001b[0m\n",
      "\u001b[1;31mValueError\u001b[0m: substring not found"
     ]
    }
   ],
   "source": [
    "print(S.rindex(\"Z\"))\n",
    "\n",
    "## Substring not found means value error not -1."
   ]
  },
  {
   "cell_type": "code",
   "execution_count": 36,
   "metadata": {},
   "outputs": [
    {
     "name": "stdout",
     "output_type": "stream",
     "text": [
      "Enter the Mailidvivek.gamil.com\n",
      "Mail Id Doesnot Contain @ Symbol\n"
     ]
    }
   ],
   "source": [
    "### prg 3 : WAP  to check @ is present or Not..\n",
    "\n",
    "Mail = input(\"Enter the Mailid\")\n",
    "\n",
    "try:\n",
    "    i = Mail.index('@')\n",
    "    print(\"Mail Id Contains @ Symbol Which is Mandatory...\")\n",
    "except:\n",
    "    print(\"Mail Id Doesnot Contain @ Symbol\")\n",
    "    "
   ]
  },
  {
   "cell_type": "code",
   "execution_count": 38,
   "metadata": {},
   "outputs": [
    {
     "name": "stdout",
     "output_type": "stream",
     "text": [
      "1\n"
     ]
    },
    {
     "ename": "ValueError",
     "evalue": "substring not found",
     "output_type": "error",
     "traceback": [
      "\u001b[1;31m---------------------------------------------------------------------------\u001b[0m",
      "\u001b[1;31mValueError\u001b[0m                                Traceback (most recent call last)",
      "\u001b[1;32m<ipython-input-38-62ca738a8b02>\u001b[0m in \u001b[0;36m<module>\u001b[1;34m\u001b[0m\n\u001b[0;32m      5\u001b[0m \u001b[1;33m\u001b[0m\u001b[0m\n\u001b[0;32m      6\u001b[0m \u001b[1;33m\u001b[0m\u001b[0m\n\u001b[1;32m----> 7\u001b[1;33m \u001b[0mprint\u001b[0m\u001b[1;33m(\u001b[0m\u001b[0mString\u001b[0m\u001b[1;33m.\u001b[0m\u001b[0mindex\u001b[0m\u001b[1;33m(\u001b[0m\u001b[1;34m\"B\"\u001b[0m \u001b[1;33m,\u001b[0m \u001b[1;36m4\u001b[0m\u001b[1;33m,\u001b[0m\u001b[1;36m8\u001b[0m\u001b[1;33m)\u001b[0m\u001b[1;33m)\u001b[0m  \u001b[1;31m## 4 - 7 (end-1)\u001b[0m\u001b[1;33m\u001b[0m\u001b[1;33m\u001b[0m\u001b[0m\n\u001b[0m\u001b[0;32m      8\u001b[0m \u001b[1;31m## Value Error.\u001b[0m\u001b[1;33m\u001b[0m\u001b[1;33m\u001b[0m\u001b[1;33m\u001b[0m\u001b[0m\n",
      "\u001b[1;31mValueError\u001b[0m: substring not found"
     ]
    }
   ],
   "source": [
    "### the index() with boundary method ...\n",
    "\n",
    "String = \"ABCDEFGHI\"\n",
    "print(String.index(\"B\"))   ## without boundary..\n",
    "\n",
    "\n",
    "print(String.index(\"B\" , 4,8))  ## 4 - 7 (end-1)\n",
    "## Value Error."
   ]
  },
  {
   "cell_type": "code",
   "execution_count": 39,
   "metadata": {},
   "outputs": [
    {
     "name": "stdout",
     "output_type": "stream",
     "text": [
      "5\n"
     ]
    }
   ],
   "source": [
    "### \n",
    "print(String.index(\"F\" , 4,8))  ## 4 - 7 (end-1)\n",
    "\n",
    "\n",
    "### Index with boundary is avilable.."
   ]
  },
  {
   "cell_type": "markdown",
   "metadata": {},
   "source": [
    "- The find,rfind,index and rindex all these will return the 1st occurence"
   ]
  },
  {
   "cell_type": "markdown",
   "metadata": {},
   "source": [
    "### The String Methods : Counting Substring in the given String.\n",
    "\n",
    "- string.count(substring)"
   ]
  },
  {
   "cell_type": "code",
   "execution_count": 43,
   "metadata": {},
   "outputs": [
    {
     "name": "stdout",
     "output_type": "stream",
     "text": [
      "5\n",
      "2\n",
      "2\n",
      "0\n"
     ]
    }
   ],
   "source": [
    "S = \"ABBABBABA\"\n",
    "\n",
    "### find how many times \"B\" is available.\n",
    "\n",
    "print(S.count(\"B\"))\n",
    "\n",
    "### find how many times of \"BB\"\n",
    "\n",
    "print(S.count(\"BB\"))\n",
    "\n",
    "\n",
    "### Find \"ABB\"\n",
    "\n",
    "print(S.count(\"ABB\"))\n",
    "\n",
    "## Find \"Z\"\n",
    "\n",
    "print(S.count(\"Z\"))"
   ]
  },
  {
   "cell_type": "markdown",
   "metadata": {},
   "source": [
    "### String Methods : Count Substring in the given String within the boundary\n",
    "\n"
   ]
  },
  {
   "cell_type": "code",
   "execution_count": 46,
   "metadata": {},
   "outputs": [
    {
     "name": "stdout",
     "output_type": "stream",
     "text": [
      "3\n",
      "1\n"
     ]
    }
   ],
   "source": [
    "S = \"ABBABBABA\"\n",
    "\n",
    "print(S.count(\"B\",4,100))   ### with boundary 4 to 100.\n",
    "\n",
    "print(S.count(\"B\",6,100))   ## with boundary 6 to 100."
   ]
  },
  {
   "cell_type": "code",
   "execution_count": 48,
   "metadata": {},
   "outputs": [
    {
     "name": "stdout",
     "output_type": "stream",
     "text": [
      "2\n",
      "1\n"
     ]
    }
   ],
   "source": [
    "s = \"BBBBB\"\n",
    "\n",
    "print(s.count(\"BB\"))\n",
    "\n",
    "print(s.count(\"BBB\"))"
   ]
  },
  {
   "cell_type": "markdown",
   "metadata": {},
   "source": [
    "### To Find the Index of all the occurence."
   ]
  },
  {
   "cell_type": "code",
   "execution_count": 50,
   "metadata": {},
   "outputs": [
    {
     "name": "stdout",
     "output_type": "stream",
     "text": [
      "10\n",
      "0\n"
     ]
    }
   ],
   "source": [
    "S = \"ABCABCABCA\"\n",
    "\n",
    "### the length of s = 10\n",
    "\n",
    "print(len(S))\n",
    "\n",
    "### lets use the find()..\n",
    "\n",
    "i = S.find(\"ABC\")\n",
    "\n",
    "print(i)\n",
    "\n",
    "\n",
    "### This always finds the 1st occurence of the Data..\n",
    "\n"
   ]
  },
  {
   "cell_type": "markdown",
   "metadata": {},
   "source": [
    "### Lets Find the All the Occurence in the String.\n"
   ]
  },
  {
   "cell_type": "code",
   "execution_count": 53,
   "metadata": {},
   "outputs": [
    {
     "name": "stdout",
     "output_type": "stream",
     "text": [
      "The Substring You are Looking is Not Found in the Given String\n"
     ]
    }
   ],
   "source": [
    "### lets take a String and a Substring ...\n",
    "\n",
    "String = \"ABCABCABCA\"\n",
    "\n",
    "Substr = \"ZZZ\"\n",
    "\n",
    "## the condition ..\n",
    "\n",
    "i = String.find(Substr)\n",
    "\n",
    "if i == -1:\n",
    "    print(\"The Substring You are Looking is Not Found in the Given String\")\n",
    "    \n",
    "while i!= -1:\n",
    "    print(\"{} present at the index : {}\".format(Substr,i))\n",
    "    \n",
    "    i = String.find(Substr , i+len(Substr) , len(String))"
   ]
  },
  {
   "cell_type": "code",
   "execution_count": 60,
   "metadata": {},
   "outputs": [
    {
     "name": "stdout",
     "output_type": "stream",
     "text": [
      "Enter the Data to be matched D\n",
      "D present at the index 4\n",
      "The Total D occurences is 1\n"
     ]
    }
   ],
   "source": [
    "Data = \"The Data Science\"\n",
    "\n",
    "sub = input(\"Enter the Data to be matched \")\n",
    "\n",
    "### The Condition..\n",
    "\n",
    "i = Data.find(sub)\n",
    "\n",
    "if i == -1:\n",
    "    print(\"The Substring you are lookin is not found\")\n",
    "    \n",
    "### Loop Starts    \n",
    "while i!= -1:\n",
    "    print(\"{} present at the index {}\".format(sub,i))\n",
    "\n",
    "   ## Search in the Remaining String.\n",
    "\n",
    "    i = Data.find(sub , i+len(sub),len(Data))  ## boundary.\n",
    "\n",
    "### Loop ends.\n",
    "\n",
    "### If you want how many occurnces occured use count..\n",
    "    \n",
    "print(\"The Total {} occurences is {}\".format(sub,Data.count(sub)))"
   ]
  },
  {
   "cell_type": "markdown",
   "metadata": {},
   "source": [
    "## # Replacing a String with Another String.\n",
    "\n",
    "- The `.replace()` Method.\n",
    "\n",
    "- The Replace Method is Case Sensitive."
   ]
  },
  {
   "cell_type": "code",
   "execution_count": 61,
   "metadata": {},
   "outputs": [],
   "source": [
    "### Replacing  a Sting with another string..\n",
    "\n",
    "## Lets Take an Example ..\n",
    "\n",
    "S = \"ABABABA\"\n",
    "S1 = S.replace(\"A\",\"B\")"
   ]
  },
  {
   "cell_type": "code",
   "execution_count": 62,
   "metadata": {},
   "outputs": [
    {
     "name": "stdout",
     "output_type": "stream",
     "text": [
      "BBBBBBB\n"
     ]
    }
   ],
   "source": [
    "print(S1)"
   ]
  },
  {
   "cell_type": "code",
   "execution_count": 63,
   "metadata": {},
   "outputs": [],
   "source": [
    "## Another Example ...\n",
    "\n",
    "S = \"Durga Software Solution\"\n",
    "\n",
    "S2 = S.replace(\" \",\"\")"
   ]
  },
  {
   "cell_type": "code",
   "execution_count": 64,
   "metadata": {},
   "outputs": [
    {
     "name": "stdout",
     "output_type": "stream",
     "text": [
      "DurgaSoftwareSolution\n"
     ]
    }
   ],
   "source": [
    "print(S2)"
   ]
  },
  {
   "cell_type": "markdown",
   "metadata": {},
   "source": [
    "### Task 2 : Count the Number of Spaces in the Given String."
   ]
  },
  {
   "cell_type": "code",
   "execution_count": 65,
   "metadata": {},
   "outputs": [
    {
     "name": "stdout",
     "output_type": "stream",
     "text": [
      "The Number of Spaces is 2\n"
     ]
    }
   ],
   "source": [
    "### Counting the Spaces in the String...\n",
    "\n",
    "print(\"The Number of Spaces is {}\".format(S.count(\" \")))"
   ]
  },
  {
   "cell_type": "markdown",
   "metadata": {},
   "source": [
    "### Task 3 : Count the Number of Spaces in the String without the Count()."
   ]
  },
  {
   "cell_type": "code",
   "execution_count": 70,
   "metadata": {},
   "outputs": [
    {
     "name": "stdout",
     "output_type": "stream",
     "text": [
      "The4Spaces\n",
      "The total number of Spaces in the Given String 4 \n"
     ]
    }
   ],
   "source": [
    "#### Lets take an Example ..\n",
    "\n",
    "Str = \"The 4 Spaces  \"\n",
    "\n",
    "Str2 = Str.replace(\" \",\"\")\n",
    "\n",
    "print(Str2)\n",
    "\n",
    "print(\"The total number of Spaces in the Given String {} \".format(len(Str)-len(Str2)))"
   ]
  },
  {
   "cell_type": "markdown",
   "metadata": {},
   "source": [
    "### IN PYTHON THERE ARE TWO KINDS OF OBJECTS \n",
    "\n",
    "- MUTABLE : These are the objects Once that can be changed\n",
    "    (Eg: List , dict , set)\n",
    "    \n",
    "- IMMUTABLE : These are the Objects that Cannot Be change.\n",
    "    (Eg: Tuple ,String ...etc)"
   ]
  },
  {
   "cell_type": "markdown",
   "metadata": {},
   "source": [
    "### Points To Be Noted\n",
    "\n",
    "- String Objects are Immutable then how we can Change the content by using the replace() Method.\n",
    "\n",
    "- Ans : In String a New Object Will be Created and they are pointed to those and thats why strings are immutable objects.\n",
    "\n",
    "- Verification : This Can be Verified by printing the Address of the Object in the Data."
   ]
  },
  {
   "cell_type": "markdown",
   "metadata": {},
   "source": [
    "##  # Spliting Of Strings\n",
    "\n",
    "- By Defalut it retuns in list format. \n",
    "\n",
    "- The Default Separator is space in split Method."
   ]
  },
  {
   "cell_type": "code",
   "execution_count": 74,
   "metadata": {},
   "outputs": [
    {
     "name": "stdout",
     "output_type": "stream",
     "text": [
      "['Durga', 'Software', 'Solutions']\n",
      "Durga\n",
      "Software\n",
      "Solutions\n"
     ]
    }
   ],
   "source": [
    "S = \"Durga Software Solutions\" \n",
    "\n",
    "Split = S.split()\n",
    "\n",
    "print(Split)\n",
    "\n",
    "for x in Split:\n",
    "    print(x)"
   ]
  },
  {
   "cell_type": "code",
   "execution_count": 78,
   "metadata": {},
   "outputs": [
    {
     "name": "stdout",
     "output_type": "stream",
     "text": [
      "['05', '10', '2020']\n",
      "05\n",
      "10\n",
      "2020\n"
     ]
    }
   ],
   "source": [
    "### Eg : take a date as a strinf and split..\n",
    "\n",
    "Date = '05-10-2020' \n",
    "\n",
    "Split = Date.split(sep='-')  ### sep = '-'\n",
    "\n",
    "print(Split)\n",
    "\n",
    "for x in Split:\n",
    "    print(x)"
   ]
  },
  {
   "cell_type": "markdown",
   "metadata": {},
   "source": [
    "## # Joining Of Strings :"
   ]
  },
  {
   "cell_type": "code",
   "execution_count": 82,
   "metadata": {},
   "outputs": [
    {
     "name": "stdout",
     "output_type": "stream",
     "text": [
      "DurgaSoftwareSolution\n"
     ]
    }
   ],
   "source": [
    "l = [\"Durga\" , \"Software\" , \"Solution\"]\n",
    "\n",
    "L= \"\".join(l)\n",
    "\n",
    "print(L)"
   ]
  },
  {
   "cell_type": "code",
   "execution_count": 87,
   "metadata": {},
   "outputs": [
    {
     "name": "stdout",
     "output_type": "stream",
     "text": [
      "The-Data-Science\n"
     ]
    }
   ],
   "source": [
    "### Eg 2 : the Join Operation ...\n",
    "\n",
    "l1 = [\"The\",\"Data\", \"Science\"]\n",
    "\n",
    "l11 = \"-\".join(l1)\n",
    "\n",
    "print(l11)"
   ]
  },
  {
   "cell_type": "code",
   "execution_count": 99,
   "metadata": {},
   "outputs": [
    {
     "name": "stdout",
     "output_type": "stream",
     "text": [
      "08/12/2020\n"
     ]
    }
   ],
   "source": [
    "### Example 3 : The Date Exmaple 3 . . . . .\n",
    "\n",
    "date = [\"08\",\"12\",\"2020\"]\n",
    "\n",
    "date = \"/\".join(date)\n",
    "\n",
    "print(date)"
   ]
  },
  {
   "cell_type": "markdown",
   "metadata": {},
   "source": [
    "## Changing the Case of the String : \n",
    "\n",
    "- All alphabet to uppercase : `upper()`\n",
    "\n",
    "- All Alphabet to lowercase : `lower()`\n",
    "\n",
    "- Intercharge of alphabet : `swapcase()`\n",
    "\n",
    "- Every word Satrtig letter is upper : `title()`\n",
    "\n",
    "- Only the 1st Letter all other lowercase : `capitalize()`"
   ]
  },
  {
   "cell_type": "code",
   "execution_count": 100,
   "metadata": {},
   "outputs": [
    {
     "name": "stdout",
     "output_type": "stream",
     "text": [
      "LEARNING PYTHON IS VERY EASY\n",
      "learning python is very easy\n",
      "Learning Python Is Very Easy\n",
      "lEARNING pYTHON IS VERY EASY\n",
      "Learning python is very easy\n"
     ]
    }
   ],
   "source": [
    " L = \"Learning Python is very easy\"\n",
    "    \n",
    "### the upper() case ..\n",
    "print(L.upper())\n",
    "\n",
    "## the lower() case : \n",
    "print(L.lower())\n",
    "\n",
    "## the title case\n",
    "print(L.title())\n",
    "\n",
    "## the Swapcase..\n",
    "print(L.swapcase())\n",
    "\n",
    "\n",
    "### the Capitalize...\n",
    "print(L.capitalize())"
   ]
  },
  {
   "cell_type": "markdown",
   "metadata": {},
   "source": [
    "### 1) WAP to check wheather the given sring are Equal or not by ignoring the case .."
   ]
  },
  {
   "cell_type": "code",
   "execution_count": 104,
   "metadata": {},
   "outputs": [
    {
     "name": "stdout",
     "output_type": "stream",
     "text": [
      "Enter the 1st String :VIVEK\n",
      "Enter the 2nd String :Vivek\n",
      "The String 1 vivek and String 2 vivek are Equal\n"
     ]
    }
   ],
   "source": [
    "### Lets take two string as Input ..\n",
    "\n",
    "S1 = input(\"Enter the 1st String :\").lower()\n",
    "\n",
    "S2 = input(\"Enter the 2nd String :\").lower()\n",
    "\n",
    "if S1 == S2:\n",
    "    print(\"The String 1 {} and String 2 {} are Equal\".format(S1,S2))\n",
    "else:\n",
    "     print(\"The String 1 {} and String 2 {} are Not-Equal\".format(S1,S2))"
   ]
  },
  {
   "cell_type": "markdown",
   "metadata": {},
   "source": [
    "### Prg 2 ) WAP to check wheather the provided user name and password is valid or not username is not case-sensitive and password should be case -sensitive"
   ]
  },
  {
   "cell_type": "code",
   "execution_count": 113,
   "metadata": {},
   "outputs": [
    {
     "name": "stdout",
     "output_type": "stream",
     "text": [
      "Enter the Username :VIVEK\n",
      "Enter the Password :Apachertr@160\n",
      "Welcome Vivek Good Morning\n"
     ]
    }
   ],
   "source": [
    "### Read the Username and Password From the User..\n",
    "\n",
    "Username = input(\"Enter the Username :\").lower()\n",
    "\n",
    "Password = input(\"Enter the Password :\")\n",
    "\n",
    "if (Username == \"vivek\" and Password == \"Apachertr@160\"):\n",
    "    print(\"Welcome Vivek Good Morning\")\n",
    "else:\n",
    "    print(\"Username or Password May be Inncorrect plz try again..\")"
   ]
  },
  {
   "cell_type": "markdown",
   "metadata": {},
   "source": [
    "### Prg 3 : WAP to Conver First and Last chars as a Upper Case and All the remaining chars should be lower case for a given String."
   ]
  },
  {
   "cell_type": "code",
   "execution_count": 137,
   "metadata": {},
   "outputs": [
    {
     "name": "stdout",
     "output_type": "stream",
     "text": [
      "Enter the String : malayalam\n",
      "MalayalaM\n"
     ]
    }
   ],
   "source": [
    "### Lets Define a String ..\n",
    "\n",
    "String = input(\"Enter the String : \")\n",
    "Output = String[0].upper()+ String[1 : len(String)-1].lower()+ String[-1].upper()\n",
    "\n",
    "print(Output)"
   ]
  },
  {
   "cell_type": "markdown",
   "metadata": {},
   "source": [
    "### # Cheking Starting and ending part of the String.\n",
    "\n",
    "1) String.`startswith(Substring)` : Retuns True if the String Startswith\n",
    "\n",
    "2) String.`endswith(substring)` : Returns True if the substring ends with."
   ]
  },
  {
   "cell_type": "code",
   "execution_count": 143,
   "metadata": {},
   "outputs": [
    {
     "name": "stdout",
     "output_type": "stream",
     "text": [
      "True\n",
      "True\n",
      "True\n",
      "False\n"
     ]
    }
   ],
   "source": [
    "### Lets Take an Example :\n",
    "\n",
    "s = \"Learning Python is very Easy\"\n",
    "\n",
    "## starts with 'learning'.\n",
    "\n",
    "print(s.startswith('Learning'))\n",
    "\n",
    "## Strats with 'Lea'\n",
    "print(s.startswith(\"Lea\"))\n",
    "\n",
    "## Starts with  'L'\n",
    "\n",
    "print(s.startswith('L'))\n",
    "\n",
    "## So all the three are True..\n",
    "\n",
    "\n",
    "print(s.startswith(\"lea\"))  ## case sensitive be carefull\n",
    "\n",
    "## False .."
   ]
  },
  {
   "cell_type": "code",
   "execution_count": 148,
   "metadata": {},
   "outputs": [
    {
     "name": "stdout",
     "output_type": "stream",
     "text": [
      "True\n",
      "True\n",
      "False\n"
     ]
    }
   ],
   "source": [
    "### Example for Endswith(substring)..\n",
    "\n",
    "S = \"Learn Python in Simple Way\"\n",
    "\n",
    "## end with 'way'\n",
    "print(S.endswith(\"Way\"))\n",
    "\n",
    "## ends with 'Simple way'\n",
    "print(S.endswith(\"Simple Way\"))\n",
    "\n",
    "## without spaces.\n",
    "print(S.endswith(\"SimpleWay\"))  ## No space and case sensitive"
   ]
  },
  {
   "cell_type": "markdown",
   "metadata": {},
   "source": [
    "### Cheking for Type of Chars in the Given String.. \n",
    "\n",
    "1) Only Alphanumeric : `.isalnum()` [a to z , A to Z and 0 to 9]\n",
    "\n",
    "2) Is only Alpha : `.isalpha()` [a-z , A-Z].\n",
    "\n",
    "3) Is Only lower : `.islower()` [a-z]\n",
    "\n",
    "4) Is Only Upper() : `isupper()` [A-Z] \n",
    "\n",
    "5) Is Only Digits() : `isdigits()` [0-9]\n",
    "\n",
    "6) Is only title case : `istitle()` [Abcdefg]\n",
    "\n",
    "7) Is contains Spaces : `isspaces()` [\" \"]"
   ]
  },
  {
   "cell_type": "code",
   "execution_count": 164,
   "metadata": {},
   "outputs": [
    {
     "name": "stdout",
     "output_type": "stream",
     "text": [
      "True\n",
      "False\n",
      "False\n",
      "True\n",
      "True\n",
      "False\n",
      "True\n",
      "True\n",
      "True\n",
      "True\n",
      "False\n",
      "False\n",
      "True\n"
     ]
    }
   ],
   "source": [
    "### Lets Take an example ..\n",
    "\n",
    "## alpha numeric\n",
    "print(\"vivek23795\".isalnum())\n",
    "\n",
    "### only alpha\n",
    "print(\"vivek23795\".isalpha())\n",
    "\n",
    "\n",
    "### only didgit...\n",
    "print(\"vievk\".isdigit())\n",
    "\n",
    "## only digit ..\n",
    "\n",
    "print(\"23795\".isdigit())\n",
    "\n",
    "\n",
    "### Only Lower T or F ..\n",
    "\n",
    "print(\"abc\".islower())\n",
    "\n",
    "### upper() ..\n",
    "\n",
    "print(\"Abc\".islower())\n",
    "\n",
    "print('abc123'.islower())\n",
    "\n",
    "print(\"ABC\".isupper())\n",
    "\n",
    "print(\"ABC123\".isupper())\n",
    "\n",
    "print(\"Durga Software Solution\".istitle())\n",
    "\n",
    "print(\"Durga Software solution\".istitle())  ## not in title case..\n",
    "\n",
    "\n",
    "## does the string contain only spaces..\n",
    "print(\"   .\".isspace())  ## there is a dot\n",
    "\n",
    "## does the string contain only spaces..\n",
    "print(\"  \".isspace())  ### only spaces"
   ]
  },
  {
   "cell_type": "markdown",
   "metadata": {},
   "source": [
    "### #WAP to check the type of character entered from the keyboard.??"
   ]
  },
  {
   "cell_type": "code",
   "execution_count": 168,
   "metadata": {},
   "outputs": [
    {
     "name": "stdout",
     "output_type": "stream",
     "text": [
      "Enter any String or Char :    \n",
      "Its a Space Chars..\n"
     ]
    }
   ],
   "source": [
    "### Lets read the Input...\n",
    "\n",
    "S = input(\"Enter any String or Char : \")\n",
    "\n",
    "if S.isalnum():\n",
    "    print(\"Its A Alpha Numeric String or Charater\")\n",
    "    if S.isalpha():\n",
    "        print(\" Its a Alphabet Charter\")\n",
    "        if S.islower():\n",
    "            print(\" Its a Lower Alphabet chars\")\n",
    "        else:\n",
    "            print(\"Its a Upper case Aphabet Chars\")\n",
    "    else:\n",
    "        print(\" Its a Digit\")\n",
    "elif S.isspace():\n",
    "    print(\"Its a Space Chars..\")\n",
    "else:\n",
    "    print(\"Special Chars\")\n",
    "        "
   ]
  },
  {
   "cell_type": "code",
   "execution_count": null,
   "metadata": {},
   "outputs": [],
   "source": []
  },
  {
   "cell_type": "code",
   "execution_count": null,
   "metadata": {},
   "outputs": [],
   "source": []
  },
  {
   "cell_type": "code",
   "execution_count": null,
   "metadata": {},
   "outputs": [],
   "source": []
  },
  {
   "cell_type": "code",
   "execution_count": null,
   "metadata": {},
   "outputs": [],
   "source": []
  },
  {
   "cell_type": "code",
   "execution_count": null,
   "metadata": {},
   "outputs": [],
   "source": []
  },
  {
   "cell_type": "code",
   "execution_count": null,
   "metadata": {},
   "outputs": [],
   "source": []
  },
  {
   "cell_type": "code",
   "execution_count": null,
   "metadata": {},
   "outputs": [],
   "source": []
  },
  {
   "cell_type": "code",
   "execution_count": null,
   "metadata": {},
   "outputs": [],
   "source": []
  },
  {
   "cell_type": "code",
   "execution_count": null,
   "metadata": {},
   "outputs": [],
   "source": []
  },
  {
   "cell_type": "code",
   "execution_count": null,
   "metadata": {},
   "outputs": [],
   "source": []
  },
  {
   "cell_type": "code",
   "execution_count": null,
   "metadata": {},
   "outputs": [],
   "source": []
  },
  {
   "cell_type": "code",
   "execution_count": null,
   "metadata": {},
   "outputs": [],
   "source": []
  },
  {
   "cell_type": "code",
   "execution_count": null,
   "metadata": {},
   "outputs": [],
   "source": []
  },
  {
   "cell_type": "code",
   "execution_count": null,
   "metadata": {},
   "outputs": [],
   "source": []
  },
  {
   "cell_type": "code",
   "execution_count": null,
   "metadata": {},
   "outputs": [],
   "source": []
  },
  {
   "cell_type": "code",
   "execution_count": null,
   "metadata": {},
   "outputs": [],
   "source": []
  },
  {
   "cell_type": "code",
   "execution_count": null,
   "metadata": {},
   "outputs": [],
   "source": []
  },
  {
   "cell_type": "code",
   "execution_count": null,
   "metadata": {},
   "outputs": [],
   "source": []
  },
  {
   "cell_type": "code",
   "execution_count": null,
   "metadata": {},
   "outputs": [],
   "source": []
  },
  {
   "cell_type": "code",
   "execution_count": null,
   "metadata": {},
   "outputs": [],
   "source": []
  },
  {
   "cell_type": "code",
   "execution_count": null,
   "metadata": {},
   "outputs": [],
   "source": []
  },
  {
   "cell_type": "code",
   "execution_count": null,
   "metadata": {},
   "outputs": [],
   "source": []
  },
  {
   "cell_type": "code",
   "execution_count": null,
   "metadata": {},
   "outputs": [],
   "source": []
  },
  {
   "cell_type": "code",
   "execution_count": null,
   "metadata": {},
   "outputs": [],
   "source": []
  },
  {
   "cell_type": "code",
   "execution_count": null,
   "metadata": {},
   "outputs": [],
   "source": []
  },
  {
   "cell_type": "code",
   "execution_count": null,
   "metadata": {},
   "outputs": [],
   "source": []
  },
  {
   "cell_type": "code",
   "execution_count": null,
   "metadata": {},
   "outputs": [],
   "source": []
  },
  {
   "cell_type": "code",
   "execution_count": null,
   "metadata": {},
   "outputs": [],
   "source": []
  }
 ],
 "metadata": {
  "kernelspec": {
   "display_name": "Python 3",
   "language": "python",
   "name": "python3"
  },
  "language_info": {
   "codemirror_mode": {
    "name": "ipython",
    "version": 3
   },
   "file_extension": ".py",
   "mimetype": "text/x-python",
   "name": "python",
   "nbconvert_exporter": "python",
   "pygments_lexer": "ipython3",
   "version": "3.8.5"
  },
  "varInspector": {
   "cols": {
    "lenName": 16,
    "lenType": 16,
    "lenVar": 40
   },
   "kernels_config": {
    "python": {
     "delete_cmd_postfix": "",
     "delete_cmd_prefix": "del ",
     "library": "var_list.py",
     "varRefreshCmd": "print(var_dic_list())"
    },
    "r": {
     "delete_cmd_postfix": ") ",
     "delete_cmd_prefix": "rm(",
     "library": "var_list.r",
     "varRefreshCmd": "cat(var_dic_list()) "
    }
   },
   "types_to_exclude": [
    "module",
    "function",
    "builtin_function_or_method",
    "instance",
    "_Feature"
   ],
   "window_display": false
  }
 },
 "nbformat": 4,
 "nbformat_minor": 4
}
