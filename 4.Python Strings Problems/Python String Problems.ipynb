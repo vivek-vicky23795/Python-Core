{
 "cells": [
  {
   "cell_type": "markdown",
   "metadata": {},
   "source": [
    "### PYTHON STRING CODING INTERVIEW QUEATIONS."
   ]
  },
  {
   "cell_type": "code",
   "execution_count": 1,
   "metadata": {},
   "outputs": [],
   "source": [
    "import pandas as pd "
   ]
  },
  {
   "cell_type": "markdown",
   "metadata": {},
   "source": [
    "- **1.Write a Program To REVERSE content of the given String by using slice operator?**\n",
    "\n",
    "- There Are Theree Methods\n",
    "\n",
    "1) Slice Method\n",
    "\n",
    "2) Inbuilt Method \n",
    "\n",
    "3) Chars by Char manually you can add."
   ]
  },
  {
   "cell_type": "code",
   "execution_count": 2,
   "metadata": {},
   "outputs": [
    {
     "name": "stdout",
     "output_type": "stream",
     "text": [
      "keviV\n"
     ]
    }
   ],
   "source": [
    "### Using the Slice Operator. (Method 1)\n",
    "\n",
    "S = \"Vivek\"\n",
    "\n",
    "op = S[::-1]\n",
    "\n",
    "print(op)"
   ]
  },
  {
   "cell_type": "code",
   "execution_count": 3,
   "metadata": {},
   "outputs": [
    {
     "name": "stdout",
     "output_type": "stream",
     "text": [
      "Enter the String :vievk\n",
      "kveiv\n"
     ]
    }
   ],
   "source": [
    "### Method 2 : Using the builtin Method..\n",
    "\n",
    "S = input(\"Enter the String :\")\n",
    "\n",
    "R = reversed(S)\n",
    "\n",
    "Output = \"\".join(R)\n",
    "\n",
    "print(Output)"
   ]
  },
  {
   "cell_type": "code",
   "execution_count": 4,
   "metadata": {},
   "outputs": [
    {
     "name": "stdout",
     "output_type": "stream",
     "text": [
      "Enter the String :vievk\n",
      "kveiv\n"
     ]
    }
   ],
   "source": [
    "### Method 3 : Reverse a string using the While Loop..\n",
    "\n",
    "S = input(\"Enter the String :\")\n",
    "\n",
    "output = \"\"\n",
    "\n",
    "i = len(S)-1\n",
    "\n",
    "while (i >=0):\n",
    "    output = output+S[i]\n",
    "    i = i-1\n",
    "print(output)\n"
   ]
  },
  {
   "cell_type": "markdown",
   "metadata": {},
   "source": [
    "### 2. Write a Program to reverse the order of words.\n",
    "\n",
    "- EG : Python is Very Easy\n",
    "- EG : Easy Very is Python"
   ]
  },
  {
   "cell_type": "code",
   "execution_count": 5,
   "metadata": {},
   "outputs": [
    {
     "name": "stdout",
     "output_type": "stream",
     "text": [
      "Enter the String :vievk\n",
      "vievk\n",
      "['vievk']\n",
      "['vievk']\n",
      "vievk\n"
     ]
    }
   ],
   "source": [
    "### Lets take an input..\n",
    "\n",
    "s = input(\"Enter the String :\")  \n",
    "\n",
    "print(s)\n",
    "## Now split the into list of strings..\n",
    "\n",
    "l = s.split()\n",
    "\n",
    "print(l)\n",
    "\n",
    "l1 = l[::-1]\n",
    "\n",
    "print(l1)\n",
    "\n",
    "output = ' '.join(l1)\n",
    "\n",
    "print(output)"
   ]
  },
  {
   "cell_type": "code",
   "execution_count": 6,
   "metadata": {},
   "outputs": [
    {
     "name": "stdout",
     "output_type": "stream",
     "text": [
      "Enter the String :vivek\n",
      "vivek\n"
     ]
    }
   ],
   "source": [
    "### Method 2 :\n",
    "\n",
    "In = input(\"Enter the String :\")\n",
    "l = In.split()\n",
    "l1 = l[::-1]\n",
    "output = \" \".join(l1)\n",
    "print(output)"
   ]
  },
  {
   "cell_type": "markdown",
   "metadata": {},
   "source": [
    "### 3. Write a Program to reverse Internal Content of Each Word."
   ]
  },
  {
   "cell_type": "code",
   "execution_count": 7,
   "metadata": {},
   "outputs": [
    {
     "name": "stdout",
     "output_type": "stream",
     "text": [
      "Enter Any String:vivek\n",
      "keviv\n"
     ]
    }
   ],
   "source": [
    "s=input('Enter Any String:')\n",
    "l=s.split()\n",
    "l1=[]\n",
    "for word in l:\n",
    "    l1.append(word[::-1])\n",
    "output=' '.join(l1)\n",
    "print(output)\n"
   ]
  },
  {
   "cell_type": "markdown",
   "metadata": {},
   "source": [
    "### 4. Reverse the internal content of every 2nd word in the string :\n",
    "\n",
    "- EG : One Two Three Four Six\n",
    "\n",
    "- EG : One owT three ruoF five xiS"
   ]
  },
  {
   "cell_type": "code",
   "execution_count": 8,
   "metadata": {},
   "outputs": [
    {
     "name": "stdout",
     "output_type": "stream",
     "text": [
      "['One', 'Two', 'Three', 'Four', 'Five', 'Six']\n",
      "['One', 'owT', 'Three', 'ruoF', 'Five', 'xiS']\n"
     ]
    }
   ],
   "source": [
    "Input = \"One Two Three Four Five Six\"\n",
    "\n",
    "### Split the string into list of words..\n",
    "\n",
    "L = Input.split()\n",
    "\n",
    "print(L) \n",
    "\n",
    "### list of words ...\n",
    "\n",
    "i = 0\n",
    "\n",
    "L1 = []\n",
    "\n",
    "\n",
    "### Start of the Loop\n",
    "while i < len(L):\n",
    "    if i % 2 == 0:\n",
    "        L1.append(L[i])\n",
    "    else:\n",
    "        L1.append(L[i][::-1])\n",
    "    i= i+1\n",
    "### End of Loop.\n",
    "print(L1)"
   ]
  },
  {
   "cell_type": "markdown",
   "metadata": {},
   "source": [
    "### 5. Write a program to print the characters present at even index and modd index seperately for the given string?\n"
   ]
  },
  {
   "cell_type": "code",
   "execution_count": 9,
   "metadata": {
    "scrolled": true
   },
   "outputs": [
    {
     "name": "stdout",
     "output_type": "stream",
     "text": [
      "Chartes Persent at Even Index\n",
      "draot\n",
      "The Characters Present at Odd Index :\n",
      "ugsf"
     ]
    }
   ],
   "source": [
    "S = \"durgasoft\"\n",
    "i = 0\n",
    "print(\"Chartes Persent at Even Index\")\n",
    "\n",
    "### start of while loop....\n",
    "while (i <= len(S)):\n",
    "    print(S[i],end=\"\")\n",
    "    i = i+2\n",
    "### end of while loop....\n",
    "print()\n",
    "## Now print Chars present at odd index..\n",
    "print(\"The Characters Present at Odd Index :\")\n",
    "i = 1\n",
    "while i < len(S):\n",
    "    print(S[i],end=\"\")\n",
    "    i = i+2\n"
   ]
  },
  {
   "cell_type": "code",
   "execution_count": 10,
   "metadata": {},
   "outputs": [
    {
     "name": "stdout",
     "output_type": "stream",
     "text": [
      "The Charcters present at even index :\n",
      "draot\n",
      "The Characters Present at Odd Index : Method 1 using Slice operator\n",
      "ugsf\n"
     ]
    }
   ],
   "source": [
    "### print the charts present at even index and odd index ..\n",
    "\n",
    "S = \"durgasoft\"\n",
    "\n",
    "print(\"The Charcters present at even index :\")\n",
    "print(S[::2])\n",
    "\n",
    "\n",
    "print(\"The Characters Present at Odd Index : Method 1 using Slice operator\")\n",
    "print(S[1::2])\n",
    "\n"
   ]
  },
  {
   "cell_type": "markdown",
   "metadata": {},
   "source": [
    "### 6.Write a program to merge characters of 2 strings into a single string by taking characters alternatively?\n",
    "###   s1='RAVI'\n",
    "###   s2='TEJA'\n",
    "### Output: RTAEVJIA"
   ]
  },
  {
   "cell_type": "code",
   "execution_count": 11,
   "metadata": {},
   "outputs": [
    {
     "name": "stdout",
     "output_type": "stream",
     "text": [
      "rtaevjia\n"
     ]
    }
   ],
   "source": [
    "### Lets take an Example : \n",
    "\n",
    "s1 = \"ravi\"\n",
    "s2 = \"teja\"\n",
    "\n",
    "i,j = 0,0\n",
    "output = \"\"\n",
    "\n",
    "## start of the While Loop\n",
    "\n",
    "while i < len(s1) or j <len(s2):\n",
    "    output = output+s1[i]+s2[j]\n",
    "    i = i+1 \n",
    "    j = j+1\n",
    "\n",
    "### End of while loop...\n",
    "    \n",
    "print(output)\n",
    "\n",
    "\n",
    "#### THIS CODE WILL WORK ONLY IF THE CODE HAS SAME CHARS.."
   ]
  },
  {
   "cell_type": "markdown",
   "metadata": {},
   "source": [
    "### whats if the two strings have differnt chars.."
   ]
  },
  {
   "cell_type": "code",
   "execution_count": 12,
   "metadata": {},
   "outputs": [
    {
     "name": "stdout",
     "output_type": "stream",
     "text": [
      "RTAEVJIAKKIIRRAANNRAVI\n"
     ]
    }
   ],
   "source": [
    "### This is code of two string of differnt length...\n",
    "\n",
    "S1 = \"RAVIKIRAN\"\n",
    "S2 = \"TEJAKIRANRAVI\"\n",
    "i,j = 0,0\n",
    "\n",
    "output = ''\n",
    "\n",
    "while (i<len(S1) or j<len(S2)):\n",
    "    if i<len(S1):\n",
    "        output = output +S1[i]\n",
    "        i = i+1\n",
    "    if j<len(S2):\n",
    "        output = output+S2[j]\n",
    "        j = j+1\n",
    "print(output)"
   ]
  },
  {
   "cell_type": "markdown",
   "metadata": {},
   "source": [
    "###  9.Assume input string contains only alphabet symbols and digits.Write a program to sort characters of the string, first alphabet symbols followed by digits?\n",
    "\n",
    "1) input: B4A1D3\n",
    "\n",
    "2) output: ABD134\n"
   ]
  },
  {
   "cell_type": "code",
   "execution_count": 13,
   "metadata": {},
   "outputs": [
    {
     "name": "stdout",
     "output_type": "stream",
     "text": [
      "['1', '3', '4', 'A', 'B', 'D']\n",
      "DBA431\n"
     ]
    }
   ],
   "source": [
    "### Lets take the Data ..\n",
    "\n",
    "s = 'B4A1D3'\n",
    "\n",
    "Sort = sorted(s)\n",
    "\n",
    "print(Sort)\n",
    "\n",
    "New_sorted = \"\".join(Sort)\n",
    "\n",
    "print(New_sorted[::-1])"
   ]
  },
  {
   "cell_type": "markdown",
   "metadata": {},
   "source": [
    "- The Builtin method : Sorted()\n",
    "\n",
    "1) Its always returns list and Numeric is the 1st prefrence then alphabet."
   ]
  },
  {
   "cell_type": "markdown",
   "metadata": {},
   "source": [
    "### The Correct Method.."
   ]
  },
  {
   "cell_type": "code",
   "execution_count": 14,
   "metadata": {},
   "outputs": [
    {
     "name": "stdout",
     "output_type": "stream",
     "text": [
      "Enter the String as Per the Requiremt :B4A1D3\n",
      "ABD134\n"
     ]
    }
   ],
   "source": [
    "S = input(\"Enter the String as Per the Requiremt :\")\n",
    "alphabets = []\n",
    "digits = []\n",
    "for char in S:\n",
    "    if char.isalpha():\n",
    "        alphabets.append(char)\n",
    "    else:\n",
    "        digits.append(char)\n",
    "\n",
    "        \n",
    "alphabets = sorted(alphabets)\n",
    "digits = sorted(digits)\n",
    "\n",
    "### Now Mergint the Two List..\n",
    "\n",
    "output = alphabets+digits\n",
    "\n",
    "output = \"\".join(output)\n",
    "\n",
    "print(output)"
   ]
  },
  {
   "cell_type": "markdown",
   "metadata": {},
   "source": [
    "### 10.Write a program for the following requirement?\n",
    "\n",
    "1) input: a4b3c2\n",
    "\n",
    "2) output: aaaabbbcc"
   ]
  },
  {
   "cell_type": "code",
   "execution_count": 15,
   "metadata": {},
   "outputs": [
    {
     "name": "stdout",
     "output_type": "stream",
     "text": [
      "ABBCCCDDDD\n"
     ]
    }
   ],
   "source": [
    "### Lets Take a String..\n",
    "\n",
    "S = \"A1B2C3D4\"\n",
    "\n",
    "output = \"\"\n",
    "\n",
    "for char in S:\n",
    "    if char.isalpha():\n",
    "        x = char\n",
    "    else:\n",
    "        D = int(char)\n",
    "        output = output + x * D\n",
    "print(output)"
   ]
  },
  {
   "cell_type": "markdown",
   "metadata": {},
   "source": [
    "### 11.Write a program for the following requirement?\n",
    "\n",
    "1) input: a3z2b4\n",
    "\n",
    "2) output: aaabbbbzz (sorted String)"
   ]
  },
  {
   "cell_type": "code",
   "execution_count": 16,
   "metadata": {},
   "outputs": [
    {
     "name": "stdout",
     "output_type": "stream",
     "text": [
      "aaabbbbzz\n"
     ]
    }
   ],
   "source": [
    "### Lets take a String :\n",
    "\n",
    "S = \"a3z2b4\"\n",
    "output = \"\"\n",
    "\n",
    "##...........................\n",
    "for char in S:\n",
    "    if  char.isalpha():\n",
    "        x = char\n",
    "    else:\n",
    "        D = int(char)\n",
    "        output = output + (x * D)\n",
    "## .............................\n",
    "\n",
    "output = sorted(output)\n",
    "output = ''.join(output)\n",
    "print(output)\n"
   ]
  },
  {
   "cell_type": "markdown",
   "metadata": {},
   "source": [
    "## 12.Write a program for the following requirement?\n",
    "\n",
    "1) input: aaaabbbccz\n",
    "\n",
    "2) output: 4a3b2c1z"
   ]
  },
  {
   "cell_type": "code",
   "execution_count": 30,
   "metadata": {},
   "outputs": [
    {
     "name": "stdout",
     "output_type": "stream",
     "text": [
      "abcd\n",
      "1a1b1c1d\n"
     ]
    }
   ],
   "source": [
    "### Lets Take a String : \n",
    "\n",
    "S = \"abcd\"\n",
    "output = \"\"\n",
    "previous = S[0]\n",
    "\n",
    "c = 1 \n",
    "i = 1 \n",
    "\n",
    "#------------------------------------------\n",
    "while i < len(S):\n",
    "    if previous == S[i]:\n",
    "        c=c+1\n",
    "    else:\n",
    "        output = output + str(c) + previous\n",
    "        previous = S[i]\n",
    "        c = 1\n",
    "    if i == len(S)-1:\n",
    "        output = output + str(c) + previous\n",
    "    i = i+1\n",
    "#---------------------------------------------\n",
    "print(S)\n",
    "print(output)"
   ]
  },
  {
   "cell_type": "markdown",
   "metadata": {},
   "source": [
    "### 13. Write a program for the following requirement?\n",
    "- Input: a4k3b2\n",
    "- Output: aeknbd\n",
    "\n",
    "- Here We have to use two built in methods\n",
    "- ord() : it gives the unicode value\n",
    "- chr() : Unicode value to its Chars."
   ]
  },
  {
   "cell_type": "code",
   "execution_count": 34,
   "metadata": {},
   "outputs": [
    {
     "name": "stdout",
     "output_type": "stream",
     "text": [
      "aeknbd\n"
     ]
    }
   ],
   "source": [
    "### Lets take a String ...\n",
    "\n",
    "S = \"a4k3b2\"\n",
    "\n",
    "output = ''\n",
    "\n",
    "for ch in S:\n",
    "    if ch.isalpha():\n",
    "        output = output+ch\n",
    "        x = ch\n",
    "    else:\n",
    "        d = int(ch)\n",
    "        new = chr(ord(x)+d)\n",
    "        output = output + new\n",
    "print(output)"
   ]
  },
  {
   "cell_type": "markdown",
   "metadata": {},
   "source": [
    "### 14.Write a program to remove duplicate characters from the given input String?\n",
    "\n",
    "Input: AZZZBCDABBCDABBBBCCCCDDDDEEEEEF\n",
    " \n",
    "Output: AZBCDEF"
   ]
  },
  {
   "cell_type": "code",
   "execution_count": 43,
   "metadata": {},
   "outputs": [
    {
     "name": "stdout",
     "output_type": "stream",
     "text": [
      "['A', 'Z', 'Z', 'Z', 'B', 'C', 'D', 'A', 'B', 'B', 'C', 'D', 'A', 'B', 'B', 'B', 'B', 'C', 'C', 'C', 'C', 'D', 'D', 'D', 'D', 'E', 'E', 'E', 'E', 'E', 'F']\n",
      "ADBCEZF\n"
     ]
    }
   ],
   "source": [
    "### METHOD 1:\n",
    "\n",
    "Input = \"AZZZBCDABBCDABBBBCCCCDDDDEEEEEF\"\n",
    "\n",
    "List1 = []\n",
    "\n",
    "for x in Input:\n",
    "    List1.append(x)\n",
    "print(List1)\n",
    "\n",
    "### Now Convert List to Set..\n",
    "\n",
    "List1 = list(set(List1))\n",
    "\n",
    "output=\"\".join(List1)\n",
    "\n",
    "print(output)"
   ]
  },
  {
   "cell_type": "code",
   "execution_count": 44,
   "metadata": {},
   "outputs": [
    {
     "name": "stdout",
     "output_type": "stream",
     "text": [
      "ABDC\n"
     ]
    }
   ],
   "source": [
    "#### METHOD 2 :\n",
    "\n",
    "S = \"ABBDDDC\"\n",
    "\n",
    "output = \"\"\n",
    "\n",
    "for ch in S:\n",
    "    if ch not in output:\n",
    "        output = output+ch\n",
    "print(output)"
   ]
  },
  {
   "cell_type": "code",
   "execution_count": 49,
   "metadata": {},
   "outputs": [
    {
     "name": "stdout",
     "output_type": "stream",
     "text": [
      "['A', 'B', 'C', 'D', 'F', 'G', 'S']\n",
      "ABCDFGS\n"
     ]
    }
   ],
   "source": [
    "#### METHOD 3 : Using an Empty List...\n",
    "\n",
    "### Lets Take a String.....\n",
    "\n",
    "S = \"AABBCCDDFFGSFF\"\n",
    "\n",
    "list1 = []   ## empty list..\n",
    "\n",
    "#---------------------------\n",
    "for ch in S:\n",
    "    if ch not in list1:\n",
    "        list1.append(ch)\n",
    "#----------------------------\n",
    "print(list1)\n",
    "\n",
    "output = \"\".join(list1)\n",
    "print(output)\n",
    "\n"
   ]
  },
  {
   "cell_type": "code",
   "execution_count": 52,
   "metadata": {},
   "outputs": [
    {
     "name": "stdout",
     "output_type": "stream",
     "text": [
      "ACZK\n"
     ]
    }
   ],
   "source": [
    "#### METHOD 4 :\n",
    "\n",
    "S = \"AAZZKKCC\"\n",
    "\n",
    "S = set(S)\n",
    "output = \"\".join(S)\n",
    "print(output)"
   ]
  },
  {
   "cell_type": "markdown",
   "metadata": {},
   "source": [
    "### 15.) Write a program to find the number of occurrences of each character present in the given string?\n",
    "\n",
    "- Input : abcabcabc\n",
    "\n",
    "- output : a:3,b:3,c:3\n",
    "\n",
    "- Finding the Number of Occurence"
   ]
  },
  {
   "cell_type": "code",
   "execution_count": 66,
   "metadata": {},
   "outputs": [
    {
     "name": "stdout",
     "output_type": "stream",
     "text": [
      "The Length of the String : 11\n",
      "\n",
      "The Unique Elemet List :\n",
      "['Z', 'X', 'C', 'R', 'D', 'F', 'A', 'S', 'T']\n",
      "\n",
      " The A element occurs 1 times\n",
      " The C element occurs 1 times\n",
      " The D element occurs 2 times\n",
      " The F element occurs 2 times\n",
      " The R element occurs 1 times\n",
      " The S element occurs 1 times\n",
      " The T element occurs 1 times\n",
      " The X element occurs 1 times\n",
      " The Z element occurs 1 times\n"
     ]
    }
   ],
   "source": [
    "### METHOD 1 : WITH USING THE COUNT METHOD :\n",
    "\n",
    "### lets Take A String .....\n",
    "\n",
    "S = \"ZXCRDFADSFT\"\n",
    "\n",
    "l = []   ## empty list ....\n",
    "\n",
    "#------------------------\n",
    "for char in S:\n",
    "    if char not in l:\n",
    "        l.append(char)\n",
    "#-------------------------- \n",
    "print(\"The Length of the String : {}\".format(len(S)))\n",
    "print()\n",
    "print(\"The Unique Elemet List :\")\n",
    "print(l)   ## this list contins unique Elements..\n",
    "print()\n",
    "#----------------------------------------------------------------------\n",
    "for ch in sorted(l):\n",
    "    print(\" The {} element occurs {} times\".format(ch,S.count(ch)))\n",
    "#------------------------------------------------------------------------"
   ]
  },
  {
   "cell_type": "code",
   "execution_count": 69,
   "metadata": {},
   "outputs": [
    {
     "name": "stdout",
     "output_type": "stream",
     "text": [
      "The Character A occurs 1 times\n",
      "The Character B occurs 3 times\n",
      "The Character G occurs 1 times\n"
     ]
    }
   ],
   "source": [
    "### METHOD 2 : Using the Set Method...\n",
    "\n",
    "## Lets us Take a String ...\n",
    "\n",
    "\n",
    "S = \"ABGBB\"  \n",
    "\n",
    "S1 = set(S)\n",
    "\n",
    "for ch in sorted(S1):\n",
    "    print(\"The Character {} occurs {} times\".format(ch,S.count(ch)))"
   ]
  },
  {
   "cell_type": "markdown",
   "metadata": {},
   "source": [
    "# ----------------------------------------------------------------"
   ]
  },
  {
   "cell_type": "code",
   "execution_count": 87,
   "metadata": {},
   "outputs": [
    {
     "name": "stdout",
     "output_type": "stream",
     "text": [
      "{'A': 300, 'B': 200}\n",
      "300\n",
      "None\n",
      "200\n",
      "0\n",
      "{'A': 2, 'B': 2, 'C': 3}\n",
      "\n",
      "A 100\n",
      "X 250\n",
      "Z 10\n",
      "B 200\n",
      "F 300\n",
      "\n",
      "The Sorted List Based On the Key :\n",
      "A 100\n",
      "B 200\n",
      "F 300\n",
      "X 250\n",
      "Z 10\n"
     ]
    }
   ],
   "source": [
    "D = {}\n",
    "\n",
    "D[\"A\"] = 100\n",
    "D[\"B\"] = 200\n",
    "D[\"A\"] = 300  ## Alwys remeber it alwys replces the old value if we have \n",
    "## duplicates..\n",
    "\n",
    "print(D)\n",
    "\n",
    "### How to get the Value for the Keys ..\n",
    "\n",
    "print(D.get(\"A\"))\n",
    "\n",
    "print(D.get(\"Z\"))\n",
    "\n",
    "### The default value insted of None \n",
    "\n",
    "print(D.get(\"B\",0))  ### here the key is present \n",
    "\n",
    "print(D.get(\"Z\",0)) ## here key is not present it Retuns Defalut value.\n",
    "\n",
    "\n",
    "#-------------------------------------------------------\n",
    "#### Another Example : \n",
    "\n",
    "d = {}\n",
    "\n",
    "d[\"A\"] = 1\n",
    "d[\"B\"] = 2 \n",
    "d[\"C\"] = 3\n",
    "d[\"A\"] = d.get(\"A\",0)+1\n",
    "\n",
    "print(d) \n",
    "print()\n",
    "#----------------------------------------------------------\n",
    "\n",
    "### Lets create a dict...\n",
    "\n",
    "Di = {\"A\":100 ,\"X\":250,\"Z\":10 ,\"B\":200 ,\"F\":300}\n",
    "\n",
    "for k,v in Di.items():\n",
    "    print(k,v)\n",
    "\n",
    "print()\n",
    "### \n",
    "print(\"The Sorted List Based On the Key :\")\n",
    "\n",
    "for k , v in sorted(Di.items()):\n",
    "    print(k , v)\n"
   ]
  },
  {
   "cell_type": "markdown",
   "metadata": {},
   "source": [
    "# --------------------------------------------------------------------\n"
   ]
  },
  {
   "cell_type": "code",
   "execution_count": 92,
   "metadata": {},
   "outputs": [
    {
     "name": "stdout",
     "output_type": "stream",
     "text": [
      "{'A': 6, 'B': 10, 'X': 7, 'E': 7, 'R': 10}\n",
      "\n",
      " A occurs 6 times\n",
      " B occurs 10 times\n",
      " E occurs 7 times\n",
      " R occurs 10 times\n",
      " X occurs 7 times\n"
     ]
    }
   ],
   "source": [
    "### COUNT THE NUMBER OF OCCURANCE IN THE STRING\n",
    "\n",
    "### METHOD 2 :Using the Dict() Method..\n",
    "\n",
    "### Without using the Count() Method..\n",
    "\n",
    "S = \"AAAAAABBBBBBBBBBXXXXXXXEEEEEEERRRRRRRRRR\"  \n",
    "\n",
    "d = {} \n",
    "\n",
    "#------------------------------\n",
    "for ch in S:\n",
    "    d[ch] = d.get(ch,0) + 1\n",
    "# ------------------------------\n",
    "print(d)\n",
    "print()\n",
    "\n",
    "#-----------------------------\n",
    "\n",
    "for k,v in sorted(d.items()):\n",
    "    print(\" {} occurs {} times\".format(k,v))"
   ]
  },
  {
   "cell_type": "markdown",
   "metadata": {},
   "source": [
    "### 17.Write the program for the following requirement:\n",
    "- Input: ABAABBCA\n",
    "- Output: 4A3B1C"
   ]
  },
  {
   "cell_type": "code",
   "execution_count": 96,
   "metadata": {},
   "outputs": [
    {
     "name": "stdout",
     "output_type": "stream",
     "text": [
      "{'A': 4, 'B': 3, 'C': 1}\n",
      "A 4\n",
      "B 3\n",
      "C 1\n",
      "4A3B1C\n"
     ]
    }
   ],
   "source": [
    "### lets Take a String ...\n",
    "\n",
    "S = \"ABAABBCA\" \n",
    "\n",
    "d = {}   ## empty dict...\n",
    "\n",
    "#-------------------------\n",
    "for ch in S:\n",
    "    d[ch] = d.get(ch,0)+1\n",
    "#------------------------\n",
    "\n",
    "print(d)\n",
    "\n",
    "output= \"\"\n",
    "\n",
    "for k,v in d.items():\n",
    "    print(k,v)\n",
    "    output = output + str(v)+k \n",
    "    \n",
    "print(output)"
   ]
  },
  {
   "cell_type": "markdown",
   "metadata": {},
   "source": [
    "### 18. Write the program for the following requirement:\n",
    "- Input: ABAABBCA\n",
    "- Output: A4B3C1"
   ]
  },
  {
   "cell_type": "code",
   "execution_count": 97,
   "metadata": {},
   "outputs": [
    {
     "name": "stdout",
     "output_type": "stream",
     "text": [
      "A4B3C1\n"
     ]
    }
   ],
   "source": [
    "### lets take a String ....\n",
    "\n",
    "S = \"ABAABBCA\"    ### String...\n",
    "\n",
    "### lets take a empty dict ...\n",
    "\n",
    "D = {}    ### Empty Dict created ...\n",
    "\n",
    "#----------------------------------\n",
    "for ch in S:\n",
    "    D[ch] = D.get(ch,0)+1 \n",
    "#----------------------------------\n",
    "output = ''\n",
    "#---------------------------------\n",
    "for k ,v in sorted(D.items()):\n",
    "    output = output + k + str(v)\n",
    "#----------------------------------\n",
    "\n",
    "print(output)\n"
   ]
  },
  {
   "cell_type": "markdown",
   "metadata": {},
   "source": [
    "### 18. Write a program to find the number of occurrences of each vowel present in the given string?\n",
    "\n",
    "- Find how many vowels are there in a givern String..."
   ]
  },
  {
   "cell_type": "code",
   "execution_count": 101,
   "metadata": {},
   "outputs": [
    {
     "name": "stdout",
     "output_type": "stream",
     "text": [
      "{'U': 1, 'A': 2, 'O': 1, 'E': 1}\n",
      "A has occured 2 times\n",
      "E has occured 1 times\n",
      "O has occured 1 times\n",
      "U has occured 1 times\n"
     ]
    }
   ],
   "source": [
    "### Lets Take A String ...\n",
    "\n",
    "S = \"DURGASOFTWARE\"\n",
    "V = [\"a\",\"e\",\"i\",\"o\",\"u\",\"A\",\"E\",\"i\",\"O\",\"U\"]\n",
    "\n",
    "D = {} ## empty dict ..\n",
    "\n",
    "#----------------------------\n",
    "for ch in S:\n",
    "    if ch in V:\n",
    "        D[ch] = D.get(ch,0)+1\n",
    "#----------------------------\n",
    "print(D)\n",
    "\n",
    "##-------------------------------------\n",
    "\n",
    "for k,v in sorted(D.items()):\n",
    "    print(\"{} has occured {} times\".format(k,v))\n"
   ]
  },
  {
   "cell_type": "markdown",
   "metadata": {},
   "source": [
    "### 19. Write a program to check whether the given two strings are anagrams or not?\n",
    "\n",
    "- Input   :   lazy\n",
    "- output  :   zaly \n",
    "\n",
    "- These two are anagrams but their order is not impaortant.\n",
    "\n",
    "- EG 2 \n",
    "- Input  : LISTEN\n",
    "- Output : SLIENT  ( This is an Angram ) Order does not Matter..    \n"
   ]
  },
  {
   "cell_type": "code",
   "execution_count": 105,
   "metadata": {},
   "outputs": [
    {
     "name": "stdout",
     "output_type": "stream",
     "text": [
      "The Two String LAZY and ZALYS is Not ANGRAM\n"
     ]
    }
   ],
   "source": [
    "### let take a 2 String ...\n",
    "\n",
    "S1 = \"LAZY\"\n",
    "S2 = \"ZALYS\"\n",
    "\n",
    "if sorted(S1) == sorted(S2):\n",
    "    print(\"The two String {} and {} is ANGRAM\".format(S1,S2))\n",
    "else:\n",
    "    print(\"The Two String {} and {} is Not ANGRAM\".format(S1,S2))\n"
   ]
  },
  {
   "cell_type": "markdown",
   "metadata": {},
   "source": [
    "### 20.Write a program to check whether the given string is   palindrome or not... ?\n",
    "\n",
    "- A string is said to be palindrome iff original string and its reversed strings are equal.\n",
    "\n",
    "\n",
    "- Input : Malayalam\n",
    "- Output : Malyalam"
   ]
  },
  {
   "cell_type": "code",
   "execution_count": 110,
   "metadata": {},
   "outputs": [
    {
     "name": "stdout",
     "output_type": "stream",
     "text": [
      "Enter the String to Check for Palindrome :vivek\n",
      "The Given String vivek is Not a PALINDROME \n"
     ]
    }
   ],
   "source": [
    "### The Palindrome ...\n",
    "\n",
    "### Lets take a String ...\n",
    "\n",
    "S = input(\"Enter the String to Check for Palindrome :\")\n",
    "\n",
    "SR = S[::-1]\n",
    "\n",
    "if S == SR:\n",
    "    print(\"The Given String {} is a PALINDROME \".format(S))\n",
    "else:\n",
    "    print(\"The Given String {} is Not a PALINDROME \".format(S))"
   ]
  },
  {
   "cell_type": "markdown",
   "metadata": {},
   "source": [
    "### 21.Write the program for the following requirement:\n",
    "- inputs:\n",
    "- s1='abcdefg'\n",
    "- s2='xyz'\n",
    "- s3='12345'\n",
    "- output: ax1, by2,cz3,d4,e5,f,g\n"
   ]
  },
  {
   "cell_type": "code",
   "execution_count": 115,
   "metadata": {},
   "outputs": [
    {
     "name": "stdout",
     "output_type": "stream",
     "text": [
      "ax1\n",
      "by2\n",
      "cz3\n",
      "d4\n",
      "e5\n",
      "f\n",
      "g\n"
     ]
    }
   ],
   "source": [
    "### lets take the inputs for 3 String..\n",
    "\n",
    "S1 = \"abcdefg\"\n",
    "\n",
    "S2 = \"xyz\"\n",
    "\n",
    "S3 = \"12345\"\n",
    "\n",
    "i=j=k= 0\n",
    "\n",
    "while (i <len(S1) or j < len(S2) or k < len(S3)):\n",
    "    output = ''\n",
    "    if i < len(S1):\n",
    "        output = output + S1[i]\n",
    "        i = i+1\n",
    "    if j < len(S2):\n",
    "        output = output + S2[j]\n",
    "        j = j+1\n",
    "    if k < len(S3):\n",
    "        output = output + S3[k]\n",
    "        k = k+1\n",
    "    print(output)"
   ]
  },
  {
   "cell_type": "code",
   "execution_count": null,
   "metadata": {},
   "outputs": [],
   "source": []
  }
 ],
 "metadata": {
  "kernelspec": {
   "display_name": "Python 3",
   "language": "python",
   "name": "python3"
  },
  "language_info": {
   "codemirror_mode": {
    "name": "ipython",
    "version": 3
   },
   "file_extension": ".py",
   "mimetype": "text/x-python",
   "name": "python",
   "nbconvert_exporter": "python",
   "pygments_lexer": "ipython3",
   "version": "3.8.5"
  },
  "varInspector": {
   "cols": {
    "lenName": 16,
    "lenType": 16,
    "lenVar": 40
   },
   "kernels_config": {
    "python": {
     "delete_cmd_postfix": "",
     "delete_cmd_prefix": "del ",
     "library": "var_list.py",
     "varRefreshCmd": "print(var_dic_list())"
    },
    "r": {
     "delete_cmd_postfix": ") ",
     "delete_cmd_prefix": "rm(",
     "library": "var_list.r",
     "varRefreshCmd": "cat(var_dic_list()) "
    }
   },
   "types_to_exclude": [
    "module",
    "function",
    "builtin_function_or_method",
    "instance",
    "_Feature"
   ],
   "window_display": false
  }
 },
 "nbformat": 4,
 "nbformat_minor": 4
}
