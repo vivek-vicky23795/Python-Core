{
 "cells": [
  {
   "cell_type": "markdown",
   "metadata": {},
   "source": [
    "## Section 5: Python List and List Methods()."
   ]
  },
  {
   "cell_type": "markdown",
   "metadata": {},
   "source": [
    "### 1.List Data Structure : (Some Facts About List)\n",
    "\n",
    "- If we want to represent a group of individual objects as a single entity where insertion order preserved and duplicates are allowed, then we should go for List.\n",
    "\n",
    "\n",
    "- List supports heterogenous Objects (different Datatypes).\n",
    "\n",
    "\n",
    "- List is dynamic because based on our requirement we can increase the size and decrease the size.\n",
    "\n",
    "\n",
    "- List is based on the insertion order what we give.\n",
    "\n",
    "\n",
    "- List supports the duplicates values.\n",
    "\n",
    "\n",
    "- List objects are mutable.i.e we can change the content.\n",
    "\n",
    "\n",
    "- List is Represantend by [  ] (Square Bracket)."
   ]
  },
  {
   "cell_type": "markdown",
   "metadata": {},
   "source": [
    "### 2.Creation Of a List :"
   ]
  },
  {
   "cell_type": "markdown",
   "metadata": {},
   "source": [
    "**1.Empty List Objet**"
   ]
  },
  {
   "cell_type": "code",
   "execution_count": 1,
   "metadata": {},
   "outputs": [],
   "source": [
    "L = []   ## Empty List..\n",
    "\n",
    "### this is a creation of Empty List."
   ]
  },
  {
   "cell_type": "code",
   "execution_count": 2,
   "metadata": {},
   "outputs": [
    {
     "name": "stdout",
     "output_type": "stream",
     "text": [
      "[]\n"
     ]
    }
   ],
   "source": [
    "print(L)\n",
    "\n",
    "## This list contain No element and Empty.."
   ]
  },
  {
   "cell_type": "markdown",
   "metadata": {},
   "source": [
    "**2.List With Data**"
   ]
  },
  {
   "cell_type": "code",
   "execution_count": 3,
   "metadata": {},
   "outputs": [
    {
     "name": "stdout",
     "output_type": "stream",
     "text": [
      "[10, 20, 30, 40]\n"
     ]
    }
   ],
   "source": [
    "### 2.List with Data ..\n",
    "\n",
    "l = [10,20,30,40]\n",
    "print(l)"
   ]
  },
  {
   "cell_type": "markdown",
   "metadata": {},
   "source": [
    "**3.Dynamic input list**"
   ]
  },
  {
   "cell_type": "code",
   "execution_count": 4,
   "metadata": {},
   "outputs": [
    {
     "name": "stdout",
     "output_type": "stream",
     "text": [
      "Enter the List Elemts :10,20,30\n",
      "[10, 20, 30]\n"
     ]
    }
   ],
   "source": [
    "## 3.Dynamic list Input ...\n",
    "\n",
    "l = eval(input(\"Enter the List Elemts :\"))\n",
    "print(list(l))"
   ]
  },
  {
   "cell_type": "markdown",
   "metadata": {},
   "source": [
    "**4.Creating a list with String**"
   ]
  },
  {
   "cell_type": "code",
   "execution_count": 5,
   "metadata": {},
   "outputs": [
    {
     "name": "stdout",
     "output_type": "stream",
     "text": [
      "['v', 'i', 'v', 'e', 'k']\n"
     ]
    }
   ],
   "source": [
    "l = list(\"vivek\")\n",
    "print(l)"
   ]
  },
  {
   "cell_type": "markdown",
   "metadata": {},
   "source": [
    "**5. Range of Values Into List**"
   ]
  },
  {
   "cell_type": "code",
   "execution_count": 6,
   "metadata": {},
   "outputs": [
    {
     "name": "stdout",
     "output_type": "stream",
     "text": [
      "[0, 2, 4, 6, 8]\n"
     ]
    }
   ],
   "source": [
    "### Range of Values Into List...\n",
    "\n",
    "l = list(range(0,10,2))\n",
    "print(l)"
   ]
  },
  {
   "cell_type": "markdown",
   "metadata": {},
   "source": [
    "**6.Converting a Sentence into list by split() approch**"
   ]
  },
  {
   "cell_type": "code",
   "execution_count": 7,
   "metadata": {},
   "outputs": [
    {
     "name": "stdout",
     "output_type": "stream",
     "text": [
      "['Learnig', 'python', 'is', 'Easy']\n"
     ]
    }
   ],
   "source": [
    "### Converting a Sentence into list ..split() approch....\n",
    "\n",
    "S = \"Learnig python is Easy\"\n",
    "\n",
    "l = S.split()  ## so here it splits based on the Spaces.\n",
    "\n",
    "print(l)"
   ]
  },
  {
   "cell_type": "markdown",
   "metadata": {},
   "source": [
    "## -----------------------------------------------------------------------------------"
   ]
  },
  {
   "cell_type": "markdown",
   "metadata": {},
   "source": [
    "## 3.Accesing the Elements of a List :\n",
    "\n",
    "1) By Using the Index.\n",
    "\n",
    "2) By using the Slice Operator."
   ]
  },
  {
   "cell_type": "code",
   "execution_count": 8,
   "metadata": {},
   "outputs": [],
   "source": [
    "### Using the Index ...\n",
    "### Postive Index   : 0,1,2,3,4,5\n",
    "### Negative Index  : -5,-4,-3,-2,-1\n",
    "\n",
    "\n",
    "l = [10,20,30,40,50]  ## list created ..."
   ]
  },
  {
   "cell_type": "code",
   "execution_count": 9,
   "metadata": {},
   "outputs": [
    {
     "name": "stdout",
     "output_type": "stream",
     "text": [
      "[10, 20, 30, 40, 50]\n",
      "10\n",
      "20\n",
      "50\n",
      "40\n"
     ]
    }
   ],
   "source": [
    "## lets see the Result ..\n",
    "\n",
    "print(l) ## all elements ..\n",
    "\n",
    "print(l[0])  ## 1st element (pos index) .\n",
    "\n",
    "print(l[1])  ## 2nd element (pos index).\n",
    "\n",
    "print(l[-1])  ## last element (Neg index).\n",
    "\n",
    "print(l[-2])  ## last but 2nd element (Neg Index)."
   ]
  },
  {
   "cell_type": "code",
   "execution_count": 10,
   "metadata": {},
   "outputs": [
    {
     "ename": "IndexError",
     "evalue": "list index out of range",
     "output_type": "error",
     "traceback": [
      "\u001b[1;31m---------------------------------------------------------------------------\u001b[0m",
      "\u001b[1;31mIndexError\u001b[0m                                Traceback (most recent call last)",
      "\u001b[1;32m<ipython-input-10-d4485c5b9abf>\u001b[0m in \u001b[0;36m<module>\u001b[1;34m\u001b[0m\n\u001b[0;32m      5\u001b[0m \u001b[1;31m## Lets say get the value of 100th index..\u001b[0m\u001b[1;33m\u001b[0m\u001b[1;33m\u001b[0m\u001b[1;33m\u001b[0m\u001b[0m\n\u001b[0;32m      6\u001b[0m \u001b[1;33m\u001b[0m\u001b[0m\n\u001b[1;32m----> 7\u001b[1;33m \u001b[0ml\u001b[0m\u001b[1;33m[\u001b[0m\u001b[1;36m100\u001b[0m\u001b[1;33m]\u001b[0m  \u001b[1;31m## there is no index value 100 : index out of range..\u001b[0m\u001b[1;33m\u001b[0m\u001b[1;33m\u001b[0m\u001b[0m\n\u001b[0m\u001b[0;32m      8\u001b[0m \u001b[1;33m\u001b[0m\u001b[0m\n\u001b[0;32m      9\u001b[0m \u001b[1;31m## No value in 100th index.\u001b[0m\u001b[1;33m\u001b[0m\u001b[1;33m\u001b[0m\u001b[1;33m\u001b[0m\u001b[0m\n",
      "\u001b[1;31mIndexError\u001b[0m: list index out of range"
     ]
    }
   ],
   "source": [
    "## Q) What if the element is Not Present in the List ..\n",
    "\n",
    "l = [10,20,30,40,50]  ## list with elemets ...\n",
    "\n",
    "## Lets say get the value of 100th index..\n",
    "\n",
    "l[100]  ## there is no index value 100 : index out of range..\n",
    "\n",
    "## No value in 100th index."
   ]
  },
  {
   "cell_type": "markdown",
   "metadata": {},
   "source": [
    "#### By Using the Slice Operator :\n",
    "\n",
    "- Syntax : list[ begin, end ,step]"
   ]
  },
  {
   "cell_type": "markdown",
   "metadata": {},
   "source": [
    "### Points to be Remebered for List Data structure.\n",
    "\n",
    "\n",
    "- LIST [ begin : end : step ]\n",
    "\n",
    "1) Case 1 : Step value = Positive (+ve).\n",
    "\n",
    "\n",
    "- Move Forward Direction (R to L)\n",
    "\n",
    "\n",
    "- From (begin to end-1)\n",
    "\n",
    "\n",
    "- If end = 0 the result = \"empty\" []\n",
    "\n",
    "\n",
    "- The Default value for \"begin\" = 0 and \"end\" = len(list) for Forward direction\n",
    "\n",
    "\n",
    "\n",
    "2) Case 2 : Step value = Negative (-ve).\n",
    "\n",
    "- Move backward direction (L to R)\n",
    "\n",
    "\n",
    "- From (begin to end+1)\n",
    "\n",
    "\n",
    "- If end = -1 then the result = \"empty\" [] \n",
    "\n",
    "\n",
    "- The Defalut value for \"begin\" = -1 and \"end\" = (len(list)+1) for backward direction."
   ]
  },
  {
   "cell_type": "markdown",
   "metadata": {},
   "source": [
    "#### The Case Study on List For the above theory :"
   ]
  },
  {
   "cell_type": "code",
   "execution_count": 11,
   "metadata": {},
   "outputs": [],
   "source": [
    "### Lets Take a List with Data as follows ...\n",
    "\n",
    "l = [10,20,30,40,50,60,70,80,90,100] \n",
    "\n",
    "## List created."
   ]
  },
  {
   "cell_type": "markdown",
   "metadata": {},
   "source": [
    "- **Q1) list[2:7]**\n",
    "\n",
    "- list has positive step value (Forward Direction) (L to R)\n",
    "- (begin to end-1) b = 2 , e =(7-1)= 6.\n",
    "\n",
    "- Ans : 30,40,50,60,70."
   ]
  },
  {
   "cell_type": "code",
   "execution_count": 12,
   "metadata": {},
   "outputs": [
    {
     "data": {
      "text/plain": [
       "[30, 40, 50, 60, 70]"
      ]
     },
     "execution_count": 12,
     "metadata": {},
     "output_type": "execute_result"
    }
   ],
   "source": [
    "l[2 : 7]  ## 2 to 7 (7-1) = 6."
   ]
  },
  {
   "cell_type": "markdown",
   "metadata": {},
   "source": [
    "2) **Q2) List [2 :7 :2].**\n",
    "\n",
    "- Postive step 2 , Forward direction , (L to R)\n",
    "\n",
    "- (begin to end-1) b=2,end=7-1 = 6 s = 2\n",
    "\n",
    "- Ans : 30,50,70"
   ]
  },
  {
   "cell_type": "code",
   "execution_count": 13,
   "metadata": {},
   "outputs": [
    {
     "data": {
      "text/plain": [
       "[30, 50, 70]"
      ]
     },
     "execution_count": 13,
     "metadata": {},
     "output_type": "execute_result"
    }
   ],
   "source": [
    "l[2:7:2]"
   ]
  },
  {
   "cell_type": "markdown",
   "metadata": {},
   "source": [
    "3) **Q3) List[4::2]**\n",
    "\n",
    "- Postive Step = 2 ,forward direction , (l to r) \n",
    "\n",
    "- (begin to end-1) b = 4 , end = len(l)-1 = 9 , s = 2\n",
    "\n",
    "- Ans : 50,70,90"
   ]
  },
  {
   "cell_type": "code",
   "execution_count": 14,
   "metadata": {},
   "outputs": [
    {
     "data": {
      "text/plain": [
       "[50, 70, 90]"
      ]
     },
     "execution_count": 14,
     "metadata": {},
     "output_type": "execute_result"
    }
   ],
   "source": [
    "l[4::2]"
   ]
  },
  {
   "cell_type": "markdown",
   "metadata": {},
   "source": [
    "4) **Q4) List[8:2:-2]** \n",
    "\n",
    "- Negative step = -2 , backward direction , (R to L)\n",
    "\n",
    "- (begin to end +1) , b = 8 , end = 2+1(3) , step = -2 \n",
    "\n",
    "- Ans : 90,70,50"
   ]
  },
  {
   "cell_type": "code",
   "execution_count": 15,
   "metadata": {},
   "outputs": [
    {
     "data": {
      "text/plain": [
       "[90, 70, 50]"
      ]
     },
     "execution_count": 15,
     "metadata": {},
     "output_type": "execute_result"
    }
   ],
   "source": [
    "l[8:2:-2] "
   ]
  },
  {
   "cell_type": "markdown",
   "metadata": {},
   "source": [
    "5) **Q5) List[4:100]** \n",
    "\n",
    "- Postive step , forward direction , (L to R)\n",
    "\n",
    "- (begin to end-1) , b = 4 , end = 100-1 =99 \n",
    "\n",
    "- Ans : 50,60,70,80,90,100"
   ]
  },
  {
   "cell_type": "code",
   "execution_count": 16,
   "metadata": {},
   "outputs": [
    {
     "data": {
      "text/plain": [
       "[50, 60, 70, 80, 90, 100]"
      ]
     },
     "execution_count": 16,
     "metadata": {},
     "output_type": "execute_result"
    }
   ],
   "source": [
    "l[4:99]"
   ]
  },
  {
   "cell_type": "markdown",
   "metadata": {},
   "source": [
    "6) **Q6) List[4:0:2]** \n",
    "\n",
    "- Postive Step = 2 ,forward direction , (L to R)\n",
    "\n",
    "- (begin to end-1) , b = 4 , end = 0\n",
    "- If end  = 0 in FD then result = [] as per condition."
   ]
  },
  {
   "cell_type": "code",
   "execution_count": 17,
   "metadata": {},
   "outputs": [
    {
     "data": {
      "text/plain": [
       "[]"
      ]
     },
     "execution_count": 17,
     "metadata": {},
     "output_type": "execute_result"
    }
   ],
   "source": [
    "l[4:0:2]  ## empty coz end = 0 in forward direction."
   ]
  },
  {
   "cell_type": "markdown",
   "metadata": {},
   "source": [
    "7) **Q7) List[::1]** \n",
    "\n",
    "- postive step = 1 ,forward direction , (L to R)\n",
    "\n",
    "- (begin to end-1) b = default(0) ,end = default(len(l)) \n",
    "\n",
    "- Ans : [10,20,30,40,50,60,70,80,90,100]"
   ]
  },
  {
   "cell_type": "code",
   "execution_count": 18,
   "metadata": {},
   "outputs": [
    {
     "data": {
      "text/plain": [
       "[10, 20, 30, 40, 50, 60, 70, 80, 90, 100]"
      ]
     },
     "execution_count": 18,
     "metadata": {},
     "output_type": "execute_result"
    }
   ],
   "source": [
    "l[::1]"
   ]
  },
  {
   "cell_type": "markdown",
   "metadata": {},
   "source": [
    "8) **Q8) List[::-1]** \n",
    "\n",
    "- Negative step = -1 , backward direction , (R to L).\n",
    "\n",
    "- (begin to end+1) b = default(-1) , end = default(len(l)+1) , s =-1 \n",
    "\n",
    "- ans : [100,90,80,70,60,50,40,30,20,10]"
   ]
  },
  {
   "cell_type": "code",
   "execution_count": 19,
   "metadata": {},
   "outputs": [
    {
     "data": {
      "text/plain": [
       "[100, 90, 80, 70, 60, 50, 40, 30, 20, 10]"
      ]
     },
     "execution_count": 19,
     "metadata": {},
     "output_type": "execute_result"
    }
   ],
   "source": [
    "l[::-1]"
   ]
  },
  {
   "cell_type": "markdown",
   "metadata": {},
   "source": [
    "### 4. Traversing List Elements and Application."
   ]
  },
  {
   "cell_type": "code",
   "execution_count": 20,
   "metadata": {},
   "outputs": [],
   "source": [
    "### lets take a list ..\n",
    "\n",
    "l = [0,1,2,3,4,5,6,7,8,9,10]"
   ]
  },
  {
   "cell_type": "markdown",
   "metadata": {},
   "source": [
    "#### Accesing the elements using the While Loop:"
   ]
  },
  {
   "cell_type": "code",
   "execution_count": 21,
   "metadata": {
    "scrolled": true
   },
   "outputs": [
    {
     "name": "stdout",
     "output_type": "stream",
     "text": [
      "0\n",
      "1\n",
      "2\n",
      "3\n",
      "4\n",
      "5\n",
      "6\n",
      "7\n",
      "8\n",
      "9\n",
      "10\n"
     ]
    }
   ],
   "source": [
    "### By using While loop Print all elemts in the list ..\n",
    "\n",
    "i = 0\n",
    "\n",
    "while i < len(l):\n",
    "    print(l[i])\n",
    "    i = i+1"
   ]
  },
  {
   "cell_type": "markdown",
   "metadata": {},
   "source": [
    "#### Accessing the elements using the for loop :"
   ]
  },
  {
   "cell_type": "code",
   "execution_count": 22,
   "metadata": {},
   "outputs": [
    {
     "name": "stdout",
     "output_type": "stream",
     "text": [
      "0\n",
      "10\n",
      "20\n",
      "30\n",
      "40\n",
      "50\n",
      "60\n",
      "70\n",
      "80\n",
      "90\n",
      "100\n"
     ]
    }
   ],
   "source": [
    "l = [0,10,20,30,40,50,60,70,80,90,100]\n",
    "\n",
    "for x in l:\n",
    "    print(x)"
   ]
  },
  {
   "cell_type": "code",
   "execution_count": 23,
   "metadata": {},
   "outputs": [
    {
     "name": "stdout",
     "output_type": "stream",
     "text": [
      "0\n",
      "2\n",
      "4\n",
      "6\n",
      "8\n",
      "10\n"
     ]
    }
   ],
   "source": [
    "### Print Only even Numbers :\n",
    "l = [0,1,2,3,4,5,6,7,8,9,10]\n",
    "\n",
    "for x in l:\n",
    "    if (x %2 ==0):\n",
    "        print(x)"
   ]
  },
  {
   "cell_type": "markdown",
   "metadata": {},
   "source": [
    "#### To Print the elements indexwise both pos and neg."
   ]
  },
  {
   "cell_type": "code",
   "execution_count": 24,
   "metadata": {},
   "outputs": [
    {
     "name": "stdout",
     "output_type": "stream",
     "text": [
      "In Positive index 0 and in the Negative Index -6 the element present is 10 \n",
      "In Positive index 1 and in the Negative Index -5 the element present is 20 \n",
      "In Positive index 2 and in the Negative Index -4 the element present is 30 \n",
      "In Positive index 3 and in the Negative Index -3 the element present is 40 \n",
      "In Positive index 4 and in the Negative Index -2 the element present is 50 \n",
      "In Positive index 5 and in the Negative Index -1 the element present is 60 \n"
     ]
    }
   ],
   "source": [
    "### lets take a list...\n",
    "\n",
    "l = [10,20,30,40,50,60]\n",
    "\n",
    "i = 0\n",
    "\n",
    "#------------------------\n",
    "while i < len(l):\n",
    "    print(\"In Positive index {} and in the Negative Index {} the element present is {} \".format(i,i-len(l),l[i]))\n",
    "    i = i+1\n",
    "#-------------------------\n",
    "\n",
    "## remeber : Neg index   = Pos_Index - Len(list)."
   ]
  },
  {
   "cell_type": "markdown",
   "metadata": {},
   "source": [
    "### 5. Mathematical Operators On List.\n",
    "\n",
    "- Only Two Operator Can be Used for Lists...\n",
    "\n",
    "- (+) Concatenation Operator.\n",
    "\n",
    "- (*) Repetation Operator."
   ]
  },
  {
   "cell_type": "markdown",
   "metadata": {},
   "source": [
    "#### 5.1. Concatenation Operator (+) for List."
   ]
  },
  {
   "cell_type": "code",
   "execution_count": 25,
   "metadata": {},
   "outputs": [
    {
     "name": "stdout",
     "output_type": "stream",
     "text": [
      "[10, 20, 30, 40, 50, 60]\n"
     ]
    }
   ],
   "source": [
    "### The (+) operator ..Two combine two or more lists..\n",
    "\n",
    "l1 = [10,20,30]\n",
    "l2 = [40,50,60]\n",
    "\n",
    "l3 = l1+l2\n",
    "\n",
    "print(l3)"
   ]
  },
  {
   "cell_type": "markdown",
   "metadata": {},
   "source": [
    "#### Another Exmaple for Not using + operator :\n",
    "\n",
    "- L =[10,20,30,40]\n",
    "- L = L+40 \n",
    "\n",
    "- This give error because both should be list.."
   ]
  },
  {
   "cell_type": "code",
   "execution_count": 26,
   "metadata": {},
   "outputs": [
    {
     "ename": "TypeError",
     "evalue": "can only concatenate list (not \"int\") to list",
     "output_type": "error",
     "traceback": [
      "\u001b[1;31m---------------------------------------------------------------------------\u001b[0m",
      "\u001b[1;31mTypeError\u001b[0m                                 Traceback (most recent call last)",
      "\u001b[1;32m<ipython-input-26-a5c2d42a5f94>\u001b[0m in \u001b[0;36m<module>\u001b[1;34m\u001b[0m\n\u001b[0;32m      1\u001b[0m \u001b[0mL\u001b[0m \u001b[1;33m=\u001b[0m \u001b[1;33m[\u001b[0m\u001b[1;36m10\u001b[0m\u001b[1;33m,\u001b[0m\u001b[1;36m20\u001b[0m\u001b[1;33m,\u001b[0m\u001b[1;36m30\u001b[0m\u001b[1;33m,\u001b[0m\u001b[1;36m40\u001b[0m\u001b[1;33m]\u001b[0m\u001b[1;33m\u001b[0m\u001b[1;33m\u001b[0m\u001b[0m\n\u001b[0;32m      2\u001b[0m \u001b[1;33m\u001b[0m\u001b[0m\n\u001b[1;32m----> 3\u001b[1;33m \u001b[0mL\u001b[0m \u001b[1;33m=\u001b[0m \u001b[0mL\u001b[0m\u001b[1;33m+\u001b[0m\u001b[1;36m40\u001b[0m  \u001b[1;31m## error\u001b[0m\u001b[1;33m\u001b[0m\u001b[1;33m\u001b[0m\u001b[0m\n\u001b[0m\u001b[0;32m      4\u001b[0m \u001b[1;33m\u001b[0m\u001b[0m\n\u001b[0;32m      5\u001b[0m \u001b[0mprint\u001b[0m\u001b[1;33m(\u001b[0m\u001b[0mL\u001b[0m\u001b[1;33m)\u001b[0m\u001b[1;33m\u001b[0m\u001b[1;33m\u001b[0m\u001b[0m\n",
      "\u001b[1;31mTypeError\u001b[0m: can only concatenate list (not \"int\") to list"
     ]
    }
   ],
   "source": [
    "L = [10,20,30,40]\n",
    "\n",
    "L = L+40  ## error \n",
    "\n",
    "print(L)\n",
    "\n",
    "### Can only concatenate list (not \"int\") to list"
   ]
  },
  {
   "cell_type": "code",
   "execution_count": 27,
   "metadata": {},
   "outputs": [
    {
     "name": "stdout",
     "output_type": "stream",
     "text": [
      "[10, 20, 30, 40, 50]\n"
     ]
    }
   ],
   "source": [
    "### Another Example :\n",
    "\n",
    "l = [10,20,30,40]\n",
    "\n",
    "l = l + [50]  ## this works coz two are list objest \n",
    "\n",
    "print(l)  ## concatenated list.."
   ]
  },
  {
   "cell_type": "markdown",
   "metadata": {},
   "source": [
    "#### 5.1.2 Repeation Operator ( * ) for list :"
   ]
  },
  {
   "cell_type": "code",
   "execution_count": 28,
   "metadata": {},
   "outputs": [
    {
     "name": "stdout",
     "output_type": "stream",
     "text": [
      "[10, 20, 10, 20]\n"
     ]
    }
   ],
   "source": [
    "### Lets take an Example : ..\n",
    "\n",
    "l1 = [10,20]\n",
    "\n",
    "l2 = l1*2 \n",
    "\n",
    "print(l2) \n",
    "\n",
    "## remeber list can only be Multiplied with int"
   ]
  },
  {
   "cell_type": "code",
   "execution_count": 29,
   "metadata": {},
   "outputs": [
    {
     "ename": "TypeError",
     "evalue": "can't multiply sequence by non-int of type 'float'",
     "output_type": "error",
     "traceback": [
      "\u001b[1;31m---------------------------------------------------------------------------\u001b[0m",
      "\u001b[1;31mTypeError\u001b[0m                                 Traceback (most recent call last)",
      "\u001b[1;32m<ipython-input-29-560144fd9e56>\u001b[0m in \u001b[0;36m<module>\u001b[1;34m\u001b[0m\n\u001b[0;32m      3\u001b[0m \u001b[0ml1\u001b[0m \u001b[1;33m=\u001b[0m \u001b[1;33m[\u001b[0m\u001b[1;36m10\u001b[0m\u001b[1;33m,\u001b[0m\u001b[1;36m20\u001b[0m\u001b[1;33m]\u001b[0m\u001b[1;33m\u001b[0m\u001b[1;33m\u001b[0m\u001b[0m\n\u001b[0;32m      4\u001b[0m \u001b[1;33m\u001b[0m\u001b[0m\n\u001b[1;32m----> 5\u001b[1;33m \u001b[0ml2\u001b[0m \u001b[1;33m=\u001b[0m \u001b[0ml1\u001b[0m\u001b[1;33m*\u001b[0m\u001b[1;36m2.0\u001b[0m  \u001b[1;31m## here list and float (cannnot be possible)\u001b[0m\u001b[1;33m\u001b[0m\u001b[1;33m\u001b[0m\u001b[0m\n\u001b[0m\u001b[0;32m      6\u001b[0m \u001b[1;33m\u001b[0m\u001b[0m\n\u001b[0;32m      7\u001b[0m \u001b[0mprint\u001b[0m\u001b[1;33m(\u001b[0m\u001b[0ml2\u001b[0m\u001b[1;33m)\u001b[0m\u001b[1;33m\u001b[0m\u001b[1;33m\u001b[0m\u001b[0m\n",
      "\u001b[1;31mTypeError\u001b[0m: can't multiply sequence by non-int of type 'float'"
     ]
    }
   ],
   "source": [
    "### List can only be Multiplied with Int..\n",
    "\n",
    "l1 = [10,20]\n",
    "\n",
    "l2 = l1*2.0  ## here list and float (cannnot be possible)\n",
    "\n",
    "print(l2) \n",
    "\n",
    "## Can't multiply sequence by non-int of type 'float"
   ]
  },
  {
   "cell_type": "code",
   "execution_count": 30,
   "metadata": {},
   "outputs": [
    {
     "ename": "TypeError",
     "evalue": "can't multiply sequence by non-int of type 'list'",
     "output_type": "error",
     "traceback": [
      "\u001b[1;31m---------------------------------------------------------------------------\u001b[0m",
      "\u001b[1;31mTypeError\u001b[0m                                 Traceback (most recent call last)",
      "\u001b[1;32m<ipython-input-30-948f4e58856c>\u001b[0m in \u001b[0;36m<module>\u001b[1;34m\u001b[0m\n\u001b[0;32m      3\u001b[0m \u001b[0ml1\u001b[0m \u001b[1;33m=\u001b[0m \u001b[1;33m[\u001b[0m\u001b[1;36m10\u001b[0m\u001b[1;33m,\u001b[0m\u001b[1;36m20\u001b[0m\u001b[1;33m]\u001b[0m\u001b[1;33m\u001b[0m\u001b[1;33m\u001b[0m\u001b[0m\n\u001b[0;32m      4\u001b[0m \u001b[1;33m\u001b[0m\u001b[0m\n\u001b[1;32m----> 5\u001b[1;33m \u001b[0ml2\u001b[0m \u001b[1;33m=\u001b[0m \u001b[0ml1\u001b[0m\u001b[1;33m*\u001b[0m\u001b[0ml1\u001b[0m  \u001b[1;31m## here list and list (cannnot be possible)\u001b[0m\u001b[1;33m\u001b[0m\u001b[1;33m\u001b[0m\u001b[0m\n\u001b[0m\u001b[0;32m      6\u001b[0m \u001b[1;33m\u001b[0m\u001b[0m\n\u001b[0;32m      7\u001b[0m \u001b[0mprint\u001b[0m\u001b[1;33m(\u001b[0m\u001b[0ml2\u001b[0m\u001b[1;33m)\u001b[0m   \u001b[1;31m## only list * int is possible..\u001b[0m\u001b[1;33m\u001b[0m\u001b[1;33m\u001b[0m\u001b[0m\n",
      "\u001b[1;31mTypeError\u001b[0m: can't multiply sequence by non-int of type 'list'"
     ]
    }
   ],
   "source": [
    "### ANother Example For Non Int Multiplication with List Object.\n",
    "\n",
    "l1 = [10,20]\n",
    "\n",
    "l2 = l1*l1  ## here list and list (cannnot be possible)\n",
    "\n",
    "print(l2)   ## only list * int is possible..\n",
    "\n",
    "## can't multiply sequence by non-int of type 'list'"
   ]
  },
  {
   "cell_type": "markdown",
   "metadata": {},
   "source": [
    "### 6. Equality , Relationship and Membership Operator For List :\n",
    "\n",
    "1) Equality Operator :  (=) , (!=)"
   ]
  },
  {
   "cell_type": "code",
   "execution_count": 31,
   "metadata": {},
   "outputs": [
    {
     "name": "stdout",
     "output_type": "stream",
     "text": [
      "True\n",
      "False\n",
      "False\n"
     ]
    }
   ],
   "source": [
    "l1 = ['dog','cat','rat']\n",
    "\n",
    "l2 = ['dog','cat','rat']\n",
    "\n",
    "l3 = [\"DOG\",'CAT','RAT']\n",
    "\n",
    "l4 = ['cat','rat','dog'] \n",
    "\n",
    "\n",
    "print(l1 == l2)\n",
    "\n",
    "print(l3 == l4)\n",
    "\n",
    "print(l1 == l4)"
   ]
  },
  {
   "cell_type": "markdown",
   "metadata": {},
   "source": [
    "### 6.1 Points To Be Remebered For Equality Operator In List :\n",
    "\n",
    "***The Two List are Equal (True) Only If the Follwing Conditions Are \n",
    "Satisfied :***\n",
    "\n",
    "1) **The Number of List Elements Must Be True (Lets take 3 elements)**\n",
    "\n",
    "- Eg 1.1 :\n",
    " \n",
    "  L1 = [10,20,30]\n",
    "  \n",
    "  L2 = [10,20,30]  Here the elements of both the list is 3.(T)\n",
    "         \n",
    "\n",
    "- Eg 1.2 :\n",
    "\n",
    "  L1 = [10,20,30]\n",
    "  \n",
    "  L2 = [10,20]     Here the elements count is not the same.(F)\n",
    "\n",
    "\n",
    "2) **The Order of list Elements Must be True**\n",
    "\n",
    "- Eg 2.1  : \n",
    "  \n",
    "  L1 = [10,20,30]\n",
    "  \n",
    "  L2 = [10,20,30]  Here the order and value both are same (True)\n",
    "  \n",
    "\n",
    "- Eg 2.2  : \n",
    "  \n",
    "  L1 = [10,20,30]\n",
    "  \n",
    "  L2 = [30,20,10]  Here the order is not the same as l1 (False) \n",
    "          \n",
    "\n",
    "3) **The Content and the case must also be the Same.**\n",
    "\n",
    "- Eg 3.1\n",
    "  \n",
    "  L1['cat','dog','rat'] \n",
    "  \n",
    "  L2['cat','dog','rat'] Here both the content and case both are same.\n",
    "\n",
    "\n",
    "- Eg 3.2 \n",
    "\n",
    "  L1['cat','dog','rat'] \n",
    "  \n",
    "  L2['CAT','DOG','RAT'] Here the content is same but case is not the same (False)."
   ]
  },
  {
   "cell_type": "code",
   "execution_count": 32,
   "metadata": {},
   "outputs": [
    {
     "name": "stdout",
     "output_type": "stream",
     "text": [
      "True\n",
      "False\n",
      "False\n",
      "True\n"
     ]
    }
   ],
   "source": [
    "l1 = [\"dog\",\"cat\",'rat']\n",
    "\n",
    "l2 = ['dog','cat','rat'] \n",
    "\n",
    "l3 = [\"DOG\",\"CAT\",\"RAT\"]\n",
    "\n",
    "l4 = ['cat',\"rat\",'dog']\n",
    "\n",
    "### Test the Following Conditions ...\n",
    "\n",
    "print( l1 == l2)  # True \n",
    "\n",
    "print( l1 == l3)  # false (coz case is not the same)\n",
    "\n",
    "print(l1 == l4)  ## false (coz the order of elements is not same)\n",
    "\n",
    "\n",
    "print(l1!= l4)  ## true"
   ]
  },
  {
   "cell_type": "markdown",
   "metadata": {},
   "source": [
    "### 6.2) Relational Operators : < , > ,<=, >=  \n",
    "\n",
    "***Points to be Noted For Relational Operators***\n",
    "\n",
    "- In Relation Operator it does not depend upon the Number of elemets present in both the list instead it depends upon the value of the elements \n",
    "\n",
    "- If element 1 in list 1 and element 1 in list 2 (>,<)\n",
    "\n",
    "- If El in L1 and E2 in L2 are same then move to E2 in L1 and E2 in L2"
   ]
  },
  {
   "cell_type": "code",
   "execution_count": 33,
   "metadata": {},
   "outputs": [
    {
     "name": "stdout",
     "output_type": "stream",
     "text": [
      "True\n",
      "True\n",
      "False\n",
      "False\n"
     ]
    }
   ],
   "source": [
    "### EG : Lets Take Two List ...\n",
    "\n",
    "l1 = [10,20,30] ## 3 elements in list1.\n",
    "l2 = [50,60]    ## 2 elements in list2.\n",
    "\n",
    "### the conditions goes here ..\n",
    "\n",
    "print(l1 < l2) ## True coz 10 < 50\n",
    "\n",
    "print(l1 <= l2) ## true coz 10 < 50\n",
    "\n",
    "print(l1 > l2) ## False coz 10 > 50 (F)\n",
    "\n",
    "print(l1 >= l2) ## False coz 10 >= 50 (F)"
   ]
  },
  {
   "cell_type": "code",
   "execution_count": 34,
   "metadata": {},
   "outputs": [
    {
     "name": "stdout",
     "output_type": "stream",
     "text": [
      "False\n",
      "False\n",
      "True\n",
      "True\n"
     ]
    }
   ],
   "source": [
    "### EG2 : Lets Take Two List ..\n",
    "\n",
    "l1 = [10,20,30]\n",
    "l2 = [5,60]\n",
    "\n",
    "print(l1 < l2) ## False coz 10 < 5 (F)\n",
    "\n",
    "print(l1 <= l2) ## False coz 10 <= 5 (F)\n",
    "\n",
    "print(l1 > l2) ## True coz 10 > 5 (T)\n",
    "\n",
    "print(l1 >= l2) ## True coz 10 >= 5 (T)"
   ]
  },
  {
   "cell_type": "code",
   "execution_count": 35,
   "metadata": {},
   "outputs": [
    {
     "name": "stdout",
     "output_type": "stream",
     "text": [
      "False\n",
      "False\n",
      "True\n",
      "True\n"
     ]
    }
   ],
   "source": [
    "### EG 3 : :Lets Take a Two List ..\n",
    "\n",
    "l1 = [10,20,30]  ## 3 elements\n",
    "\n",
    "l2 = [10,20,5]  ## 3 elements \n",
    "\n",
    "\n",
    "### The Conditions Goes here..\n",
    "\n",
    "\n",
    "## Here 1st and 2nd element of L1 and L2 are same so we have to consider the\n",
    "## 3rd element of l1 and l2 for relational operation..\n",
    "\n",
    "print(l1 < l2) ## False coz 30 < 5 (F)\n",
    "\n",
    "print(l1 <= l2) ## False coz 30 <= 5 (F)\n",
    "\n",
    "print(l1 > l2) ## True coz 30 > 5 (T)\n",
    "\n",
    "print(l1 >= l2) ## True coz 30 >= 5 (T)"
   ]
  },
  {
   "cell_type": "markdown",
   "metadata": {},
   "source": [
    "- ***Point to Be Noted :***\n",
    "\n",
    "- If two List1 has 3 elements and list 2 has 5 elemst and if 1st 3 elemets are same in both the list then l2 is greater than l1.."
   ]
  },
  {
   "cell_type": "code",
   "execution_count": 36,
   "metadata": {},
   "outputs": [
    {
     "name": "stdout",
     "output_type": "stream",
     "text": [
      "True\n",
      "True\n",
      "False\n",
      "False\n"
     ]
    }
   ],
   "source": [
    "## Eg 4 : Lets take a two list with differnt elements ..\n",
    "\n",
    "l1 = [10,20,30]  ## 3 elements\n",
    "\n",
    "l2 = [10,20,30,40,50,60] ## 6 elements \n",
    "\n",
    "## Here the 1st 3 elements of both the list are same then so. the we should \n",
    "## compare the elements of the list..\n",
    "\n",
    "print(l1 < l2) ##  True coz  3 elements < 6 elements (T)\n",
    "\n",
    "print(l1 <= l2) ## True coz  3 elements <= 6 elements (T)\n",
    "\n",
    "print(l1 > l2)  ## False coz 3 elements > 6 elements (F)\n",
    "print(l1 >= l2) ## False coz 3 elements >= 6 elements (F)"
   ]
  },
  {
   "cell_type": "code",
   "execution_count": 37,
   "metadata": {},
   "outputs": [
    {
     "name": "stdout",
     "output_type": "stream",
     "text": [
      "True\n"
     ]
    }
   ],
   "source": [
    "### Eg 5 : This is with The Strings ...\n",
    "\n",
    "l1 = [\"Ramba\",\"Ramya\"]\n",
    "\n",
    "l2 = [\"Roja\",\"Sunny\"] \n",
    "\n",
    "\n",
    "### In strings also element wise comparison if elemets same move next..\n",
    "\n",
    "print(l2 >  l1)  ## True coz o < a "
   ]
  },
  {
   "cell_type": "markdown",
   "metadata": {},
   "source": [
    "### 6.3 Membership Operator in List :  in , not in."
   ]
  },
  {
   "cell_type": "code",
   "execution_count": 38,
   "metadata": {},
   "outputs": [
    {
     "name": "stdout",
     "output_type": "stream",
     "text": [
      "True\n",
      "True\n",
      "False\n"
     ]
    }
   ],
   "source": [
    "## Lets take a list ..\n",
    "\n",
    "l1 = [10,20,30,40]\n",
    "\n",
    "print(10 in l1)\n",
    "\n",
    "print(50 not in l1)\n",
    "\n",
    "print(70 in l1)"
   ]
  },
  {
   "cell_type": "markdown",
   "metadata": {},
   "source": [
    "### 7. Important Methods and Functions For List :\n",
    "\n",
    "1) Builtin Function that can be Used in list.\n",
    "\n",
    "2) List specified methods that can be used for list operations."
   ]
  },
  {
   "cell_type": "markdown",
   "metadata": {},
   "source": [
    "#### 7.1 Built In Methods In List."
   ]
  },
  {
   "cell_type": "code",
   "execution_count": 39,
   "metadata": {},
   "outputs": [
    {
     "name": "stdout",
     "output_type": "stream",
     "text": [
      "3\n"
     ]
    }
   ],
   "source": [
    "### Lets take the list ..\n",
    "\n",
    "l = [10,20,30]\n",
    "\n",
    "\n",
    "## 1) len() is a python in built function ..\n",
    "\n",
    "print(len(l))  ## 3 elements.."
   ]
  },
  {
   "cell_type": "markdown",
   "metadata": {},
   "source": [
    "#### 7.3.List Specified Methods()."
   ]
  },
  {
   "cell_type": "code",
   "execution_count": 40,
   "metadata": {},
   "outputs": [
    {
     "name": "stdout",
     "output_type": "stream",
     "text": [
      "3\n",
      "4\n",
      "0\n"
     ]
    }
   ],
   "source": [
    "## 2) This is a list specified method() .\n",
    "\n",
    "l = [10,20,10,20,30,20,10,20]\n",
    "\n",
    "print(l.count(10))  ## 3\n",
    "\n",
    "print(l.count(20))  ## 4\n",
    "\n",
    "print(l.count(50))  ## 0"
   ]
  },
  {
   "cell_type": "code",
   "execution_count": 41,
   "metadata": {},
   "outputs": [
    {
     "name": "stdout",
     "output_type": "stream",
     "text": [
      "0\n",
      "1\n",
      "4\n",
      "5\n"
     ]
    }
   ],
   "source": [
    "### 3) Index() : Returns first occurence of the list elements..\n",
    "\n",
    "l = [1,2,1,2,3,4]  \n",
    "\n",
    "## At what index 1st occurence of 1 element is occuring..\n",
    "\n",
    "print(l.index(1))\n",
    "\n",
    "\n",
    "print(l.index(2))\n",
    "\n",
    "print(l.index(3))\n",
    "\n",
    "print(l.index(4)) \n"
   ]
  },
  {
   "cell_type": "code",
   "execution_count": 42,
   "metadata": {},
   "outputs": [
    {
     "ename": "ValueError",
     "evalue": "5 is not in list",
     "output_type": "error",
     "traceback": [
      "\u001b[1;31m---------------------------------------------------------------------------\u001b[0m",
      "\u001b[1;31mValueError\u001b[0m                                Traceback (most recent call last)",
      "\u001b[1;32m<ipython-input-42-d60273286f2a>\u001b[0m in \u001b[0;36m<module>\u001b[1;34m\u001b[0m\n\u001b[1;32m----> 1\u001b[1;33m \u001b[0mprint\u001b[0m\u001b[1;33m(\u001b[0m\u001b[0ml\u001b[0m\u001b[1;33m.\u001b[0m\u001b[0mindex\u001b[0m\u001b[1;33m(\u001b[0m\u001b[1;36m5\u001b[0m\u001b[1;33m)\u001b[0m\u001b[1;33m)\u001b[0m  \u001b[1;31m## value erroe 5 is not in the list..\u001b[0m\u001b[1;33m\u001b[0m\u001b[1;33m\u001b[0m\u001b[0m\n\u001b[0m",
      "\u001b[1;31mValueError\u001b[0m: 5 is not in list"
     ]
    }
   ],
   "source": [
    "print(l.index(5))  ## value erroe 5 is not in the list.."
   ]
  },
  {
   "cell_type": "markdown",
   "metadata": {},
   "source": [
    "### 7.2 A Small Progrma to Demonstrate the index method ..."
   ]
  },
  {
   "cell_type": "code",
   "execution_count": 43,
   "metadata": {},
   "outputs": [
    {
     "name": "stdout",
     "output_type": "stream",
     "text": [
      "Enter the Number to which You have to find the index : 3\n",
      " The element 3 is present at 4 index \n"
     ]
    }
   ],
   "source": [
    "## Lets take a list ...\n",
    "\n",
    "l1 = [1,2,2,2,3,3]  ## 6 element list..\n",
    "\n",
    "## lets take a input element to which you have to find the index ...\n",
    "\n",
    "In = int(input(\"Enter the Number to which You have to find the index : \"))\n",
    "\n",
    "if In in l1:\n",
    "    print(\" The element {} is present at {} index \".format(In,l1.index(In)))\n",
    "else:\n",
    "    print(\"The element {} is Not Available in the List...\".format(In))"
   ]
  },
  {
   "cell_type": "markdown",
   "metadata": {},
   "source": [
    "#### Manupulation Elemets of the List :"
   ]
  },
  {
   "cell_type": "markdown",
   "metadata": {},
   "source": [
    "1) ***list.`append()`*** : The element will be added at last of the list"
   ]
  },
  {
   "cell_type": "code",
   "execution_count": 44,
   "metadata": {},
   "outputs": [
    {
     "name": "stdout",
     "output_type": "stream",
     "text": [
      "[10]\n"
     ]
    }
   ],
   "source": [
    "### .append() : To add last element to the list :\n",
    "\n",
    "### Lets Create a Empty List ...\n",
    "\n",
    "l = []  ### empty list ...\n",
    "\n",
    "### Lets add an element ..\n",
    "\n",
    "l.append(10)  ### No 10 is added to end of the list since list is empty and \n",
    "## 10 now being added its shows 10.\n",
    "\n",
    "print(l)\n",
    " "
   ]
  },
  {
   "cell_type": "code",
   "execution_count": 45,
   "metadata": {},
   "outputs": [
    {
     "name": "stdout",
     "output_type": "stream",
     "text": [
      "[10, 20]\n"
     ]
    }
   ],
   "source": [
    "### Lets add amother elemet to the list ...\n",
    "\n",
    "l.append(20) \n",
    "\n",
    "## this will be added to end of the list..\n",
    "\n",
    "## since 10 is there after the 10 , 20 will be added..\n",
    "print(l)"
   ]
  },
  {
   "cell_type": "code",
   "execution_count": 46,
   "metadata": {},
   "outputs": [
    {
     "name": "stdout",
     "output_type": "stream",
     "text": [
      "[10, 20, 30]\n"
     ]
    }
   ],
   "source": [
    "### Lets add another elemet to the list\n",
    "\n",
    "l.append(30)\n",
    "print(l)\n"
   ]
  },
  {
   "cell_type": "code",
   "execution_count": 47,
   "metadata": {},
   "outputs": [],
   "source": [
    "l.append(40)"
   ]
  },
  {
   "cell_type": "code",
   "execution_count": 48,
   "metadata": {},
   "outputs": [
    {
     "name": "stdout",
     "output_type": "stream",
     "text": [
      "[10, 20, 30, 40]\n"
     ]
    }
   ],
   "source": [
    "print(l)\n"
   ]
  },
  {
   "cell_type": "markdown",
   "metadata": {},
   "source": [
    "#### ***A Small Program to add 1 to 100 number  at to list which are divisible by 10.***"
   ]
  },
  {
   "cell_type": "code",
   "execution_count": 53,
   "metadata": {},
   "outputs": [
    {
     "name": "stdout",
     "output_type": "stream",
     "text": [
      "The Numbers From 1 to 100 are :\n",
      "------------------------------------------------------------------------------\n",
      "1 2 3 4 5 6 7 8 9 10 11 12 13 14 15 16 17 18 19 20 21 22 23 24 25 26 27 28 29 30 31 32 33 34 35 36 37 38 39 40 41 42 43 44 45 46 47 48 49 50 51 52 53 54 55 56 57 58 59 60 61 62 63 64 65 66 67 68 69 70 71 72 73 74 75 76 77 78 79 80 81 82 83 84 85 86 87 88 89 90 91 92 93 94 95 96 97 98 99 100 \n",
      "------------------------------------------------------------------------------\n",
      "The Number Which is divisible by 10 are as Follows :\n",
      "[10, 20, 30, 40, 50, 60, 70, 80, 90, 100]\n"
     ]
    }
   ],
   "source": [
    "### lets Create a empty list ..\n",
    "\n",
    "l = []  ## empty list ..\n",
    "\n",
    "print(\"The Numbers From 1 to 100 are :\")\n",
    "print(\"------------------------------------------------------------------------------\")\n",
    "#----------------------------\n",
    "for x in range(1,101):\n",
    "    print(x,end = \" \")\n",
    "    if (x % 10 == 0):\n",
    "        l.append(x)\n",
    "#-----------------------------\n",
    "print()\n",
    "print(\"------------------------------------------------------------------------------\")\n",
    "print(\"The Number Which is divisible by 10 are as Follows :\")\n",
    "print(l)"
   ]
  },
  {
   "cell_type": "markdown",
   "metadata": {},
   "source": [
    "2) ***List.`insert()` : To add elemets at specified Positions.***\n",
    "\n",
    "- List.insert( index , element )\n",
    "\n",
    "\n",
    "- If the Specified Index is greater than the max index then element will be added last automatically.\n",
    "\n",
    "\n",
    "- If the Specified index is lesser than min index then the element will be added first list automatically.."
   ]
  },
  {
   "cell_type": "code",
   "execution_count": 54,
   "metadata": {},
   "outputs": [],
   "source": [
    "### Lets take an Example....\n",
    "\n",
    "l = [10,20,30,40]"
   ]
  },
  {
   "cell_type": "code",
   "execution_count": 55,
   "metadata": {},
   "outputs": [
    {
     "name": "stdout",
     "output_type": "stream",
     "text": [
      "[10, 20, 30, 40, 50]\n"
     ]
    }
   ],
   "source": [
    "### Lets Add the elements at specified position..\n",
    "\n",
    "l.insert(4,50) ## (index , element)\n",
    "\n",
    "print(l)"
   ]
  },
  {
   "cell_type": "code",
   "execution_count": 56,
   "metadata": {},
   "outputs": [
    {
     "name": "stdout",
     "output_type": "stream",
     "text": [
      "[10, 77, 20, 30, 40, 50]\n"
     ]
    }
   ],
   "source": [
    "### Lets add an element at 2nd place..\n",
    "\n",
    "l.insert(1,77)  ## adding the element based on the position specified.\n",
    "print(l)"
   ]
  },
  {
   "cell_type": "markdown",
   "metadata": {},
   "source": [
    "#### ***Eg : To show what if the index Number is greater than max-index***\n",
    "\n",
    "#### ***Eg : To show what if the index number is lesser than min-index.***"
   ]
  },
  {
   "cell_type": "code",
   "execution_count": 57,
   "metadata": {},
   "outputs": [
    {
     "name": "stdout",
     "output_type": "stream",
     "text": [
      "[1, 2, 3, 4, 5, 6]\n"
     ]
    }
   ],
   "source": [
    "### To show what if the index Number is greater than max-index\n",
    "\n",
    "l = [1,2,3,4,5]  ## 5 element list with max_index = 4\n",
    "\n",
    "### Lets say my_index = 100 so My_index > max_index so add element to last.\n",
    "\n",
    "l.insert(100,6)\n",
    "\n",
    "print(l)"
   ]
  },
  {
   "cell_type": "code",
   "execution_count": 58,
   "metadata": {},
   "outputs": [
    {
     "name": "stdout",
     "output_type": "stream",
     "text": [
      "[10, 9, 8, 7, 6, 5, 4, 3, 2, 1, 0]\n"
     ]
    }
   ],
   "source": [
    "## To show what if the index number is lesser than min-index.\n",
    "\n",
    "l = [9,8,7,6,5,4,3,2,1,0] ## max_index (Neg) =  -10\n",
    "\n",
    "## Lets say My required index = -100 \n",
    "\n",
    "## If my_index < max_index then add element to 1st of list ..\n",
    "\n",
    "l.insert(-100,10)\n",
    "\n",
    "print(l)"
   ]
  },
  {
   "cell_type": "markdown",
   "metadata": {},
   "source": [
    "### 3) List.`extend()` : To add all elements of given sequence to the list.\n",
    "\n",
    "- append() : to add one element.\n",
    "\n",
    "- insert() : T0 add one element.\n",
    "\n",
    "- extend() : To add multiple element at a time."
   ]
  },
  {
   "cell_type": "code",
   "execution_count": 59,
   "metadata": {},
   "outputs": [
    {
     "name": "stdout",
     "output_type": "stream",
     "text": [
      "['Chicken', 'Mutton', 'Fish', 'KF', 'KO', 'RC']\n"
     ]
    }
   ],
   "source": [
    "### Lets take an example ..\n",
    "\n",
    "order1  = [\"Chicken\",\"Mutton\",\"Fish\"]\n",
    "\n",
    "order2 = [\"KF\",\"KO\",\"RC\"] \n",
    "\n",
    "\n",
    "## Requiremnt : I want to add one element to another..\n",
    "\n",
    "order1.extend(order2)\n",
    "\n",
    "print(order1)  ## adding multiple elements to the list."
   ]
  },
  {
   "cell_type": "markdown",
   "metadata": {},
   "source": [
    "### ***# A small kind a Thing For Reference Important Prg.***"
   ]
  },
  {
   "cell_type": "code",
   "execution_count": 60,
   "metadata": {},
   "outputs": [
    {
     "name": "stdout",
     "output_type": "stream",
     "text": [
      "[10, 20, 30, [40, 50]]\n",
      "\n",
      "4\n"
     ]
    }
   ],
   "source": [
    "### Lets Say there is two list ...\n",
    "\n",
    "l1 = [10,20,30]  ## a list object with 3 elements..\n",
    "\n",
    "l2 = [40,50]  ## 2nd list object with 2 elements..\n",
    "\n",
    "### what if we append this following ...\n",
    "\n",
    "l1.append(l2)  ## here we are not append the elements\n",
    "\n",
    "## Note : appends adds 1 element only \n",
    "\n",
    "## SO here we are append a list to another list (Nested List)\n",
    "\n",
    "## l = [10,20,30,[40,50]] ## list within another list..\n",
    "\n",
    "print(l1)  ## nested list\n",
    "\n",
    "\n",
    "print()\n",
    "print(len(l1))  ### len of the List..\n",
    "\n",
    "## coz the nested list is treated as one element."
   ]
  },
  {
   "cell_type": "markdown",
   "metadata": {},
   "source": [
    "### ***# Same Kind a Problem but what if we use the Extend() Method.***"
   ]
  },
  {
   "cell_type": "code",
   "execution_count": 61,
   "metadata": {},
   "outputs": [
    {
     "name": "stdout",
     "output_type": "stream",
     "text": [
      "[10, 20, 30, 40, 50]\n",
      "\n",
      "5\n"
     ]
    }
   ],
   "source": [
    "### Lets Say there is two list ...\n",
    "\n",
    "l1 = [10,20,30]  ## a list object with 3 elements..\n",
    "\n",
    "l2 = [40,50]  ## 2nd list object with 2 elements..\n",
    "\n",
    "### Lets take use the extend() method.\n",
    "\n",
    "## Here insetead of adding the nested list it adds the element..\n",
    "## Eg : [10,20,30,40,50] and not [10,20,30,[40,50]](wrong).\n",
    "\n",
    "l1.extend(l2)\n",
    "\n",
    "print(l1)\n",
    "print()\n",
    "print(len(l1))"
   ]
  },
  {
   "cell_type": "markdown",
   "metadata": {},
   "source": [
    "### ***# Another Some Interseting Problems to Know Importanat.***"
   ]
  },
  {
   "cell_type": "code",
   "execution_count": 62,
   "metadata": {},
   "outputs": [
    {
     "name": "stdout",
     "output_type": "stream",
     "text": [
      "[1, 2, 3, 4, 5, 'abc']\n",
      "\n",
      "6\n"
     ]
    }
   ],
   "source": [
    "### Lets take a list ..\n",
    "\n",
    "l1 = [1,2,3,4,5]  ## list object with 5 elements..\n",
    "\n",
    "## append a \"abc\"  nothing but a 1  string an object\n",
    "\n",
    "l1.append(\"abc\") ## [1,2,3,4,5,\"abc\"]\n",
    "\n",
    "print(l1)\n",
    "\n",
    "print()\n",
    "\n",
    "print(len(l1))  ## 6 (5 int and 1 str obj)"
   ]
  },
  {
   "cell_type": "markdown",
   "metadata": {},
   "source": [
    "### List Manupulation Methods() : Removal of element from the List..\n",
    "\n",
    "4) List.`remove()`: L.remove(x) : To remove Specified Element in the List.If the specified element is present multiple times then only 1st occurence of the element will be removed.\n",
    "\n",
    "\n",
    "- If the Specifed element is not present then Value Error.\n"
   ]
  },
  {
   "cell_type": "code",
   "execution_count": 63,
   "metadata": {},
   "outputs": [
    {
     "name": "stdout",
     "output_type": "stream",
     "text": [
      "[10, 20, 10, 20, 30]\n"
     ]
    }
   ],
   "source": [
    "### Lets Take an Example :\n",
    "\n",
    "l = [10,20,30,10,20,30]\n",
    "\n",
    "l.remove(30)\n",
    "\n",
    "print(l)  ## Only the 1st occurence element has been removed."
   ]
  },
  {
   "cell_type": "code",
   "execution_count": 65,
   "metadata": {},
   "outputs": [
    {
     "name": "stdout",
     "output_type": "stream",
     "text": [
      "[20, 30, 40]\n"
     ]
    }
   ],
   "source": [
    "## Remove another element ...\n",
    "\n",
    "l = [10,20,30,40]\n",
    "l.remove(10)\n",
    "print(l)"
   ]
  },
  {
   "cell_type": "code",
   "execution_count": 66,
   "metadata": {},
   "outputs": [
    {
     "ename": "ValueError",
     "evalue": "list.remove(x): x not in list",
     "output_type": "error",
     "traceback": [
      "\u001b[1;31m---------------------------------------------------------------------------\u001b[0m",
      "\u001b[1;31mValueError\u001b[0m                                Traceback (most recent call last)",
      "\u001b[1;32m<ipython-input-66-67acdb793e5e>\u001b[0m in \u001b[0;36m<module>\u001b[1;34m\u001b[0m\n\u001b[0;32m      3\u001b[0m \u001b[0ml\u001b[0m \u001b[1;33m=\u001b[0m \u001b[1;33m[\u001b[0m\u001b[1;36m10\u001b[0m\u001b[1;33m,\u001b[0m\u001b[1;36m20\u001b[0m\u001b[1;33m,\u001b[0m\u001b[1;36m30\u001b[0m\u001b[1;33m,\u001b[0m\u001b[1;36m40\u001b[0m\u001b[1;33m]\u001b[0m\u001b[1;33m\u001b[0m\u001b[1;33m\u001b[0m\u001b[0m\n\u001b[0;32m      4\u001b[0m \u001b[1;33m\u001b[0m\u001b[0m\n\u001b[1;32m----> 5\u001b[1;33m \u001b[0ml\u001b[0m\u001b[1;33m.\u001b[0m\u001b[0mremove\u001b[0m\u001b[1;33m(\u001b[0m\u001b[1;36m50\u001b[0m\u001b[1;33m)\u001b[0m\u001b[1;33m\u001b[0m\u001b[1;33m\u001b[0m\u001b[0m\n\u001b[0m\u001b[0;32m      6\u001b[0m \u001b[1;33m\u001b[0m\u001b[0m\n\u001b[0;32m      7\u001b[0m \u001b[0mprint\u001b[0m\u001b[1;33m(\u001b[0m\u001b[0ml\u001b[0m\u001b[1;33m)\u001b[0m\u001b[1;33m\u001b[0m\u001b[1;33m\u001b[0m\u001b[0m\n",
      "\u001b[1;31mValueError\u001b[0m: list.remove(x): x not in list"
     ]
    }
   ],
   "source": [
    "### Lets remove the element which is not present in the list.\n",
    "\n",
    "l = [10,20,30,40]\n",
    "\n",
    "l.remove(50)\n",
    "\n",
    "print(l)  ## value Error Coz no such element is present."
   ]
  },
  {
   "cell_type": "code",
   "execution_count": 72,
   "metadata": {},
   "outputs": [
    {
     "name": "stdout",
     "output_type": "stream",
     "text": [
      "Enter the element to remove :10\n",
      "Before Removal of the Element\n",
      "[1, 2, 3, 4, 5, 6, 7, 8]\n",
      "After Removal of the Element :\n",
      " 10 is Not present in the list\n"
     ]
    }
   ],
   "source": [
    "### Lets Take Another Example : list.remove() ## Single Element at a time.\n",
    "\n",
    "l = [1,2,3,4,5,6,7,8]\n",
    "\n",
    "X = int(input(\"Enter the element to remove :\"))\n",
    "\n",
    "print(\"Before Removal of the Element\")\n",
    "\n",
    "print(l)\n",
    "\n",
    "print('After Removal of the Element :')\n",
    "\n",
    "if X in l:\n",
    "    l.remove(X)\n",
    "    print(l)\n",
    "else:\n",
    "    print(\" {} is Not present in the list\".format(X))\n",
    "\n"
   ]
  },
  {
   "cell_type": "markdown",
   "metadata": {},
   "source": [
    "### How to Remove all occurence of the List "
   ]
  },
  {
   "cell_type": "code",
   "execution_count": 73,
   "metadata": {},
   "outputs": [
    {
     "name": "stdout",
     "output_type": "stream",
     "text": [
      "Before Removal of the List : [1, 1, 1, 1, 2, 2, 2, 3, 3]\n",
      "Enter the Number to remove all occurence :1\n",
      "After Removal of  list items : [2, 2, 2, 3, 3]\n"
     ]
    }
   ],
   "source": [
    "### Lets take a list ..\n",
    "\n",
    "l = [1,1,1,1,2,2,2,3,3]\n",
    "\n",
    "print(\"Before Removal of the List :\",l)\n",
    "\n",
    "x = int(input(\"Enter the Number to remove all occurence :\"))\n",
    "\n",
    "while True:\n",
    "    if x in l:\n",
    "        l.remove(x)\n",
    "    else:\n",
    "        break\n",
    "\n",
    "print(\"After Removal of  list items :\",l)"
   ]
  },
  {
   "cell_type": "code",
   "execution_count": 76,
   "metadata": {},
   "outputs": [
    {
     "name": "stdout",
     "output_type": "stream",
     "text": [
      "The List of Elements Before Removing an Element : [10, 20, 30, 40, 10, 20, 30, 40, 10, 10, 10, 20, 30]\n",
      "Enter the Element to remove from the list :20\n",
      "The List of Elements Before Removing an Element : [10, 30, 40, 10, 30, 40, 10, 10, 10, 30]\n"
     ]
    }
   ],
   "source": [
    "#### Lets take a List ...\n",
    "\n",
    "l = [10,20,30,40,10,20,30,40,10,10,10,20,30]\n",
    "\n",
    "### before removal of the list..\n",
    "\n",
    "print(\"The List of Elements Before Removing an Element :\",l)\n",
    "\n",
    "x = int(input(\"Enter the Element to remove from the list :\"))\n",
    "\n",
    "#------------------------------------------------------------------\n",
    "while True:\n",
    "    if x in l:\n",
    "        l.remove(x)\n",
    "    else:\n",
    "        break\n",
    "#------------------------------------------------------------------       \n",
    "print(\"The List of Elements Before Removing an Element :\",l)"
   ]
  },
  {
   "cell_type": "markdown",
   "metadata": {},
   "source": [
    "- ***The list.`pop()` : The pop() methods always return a last element from the list.***\n",
    "\n",
    "- If the List is empty and u still use the .pop() method you will get the index error."
   ]
  },
  {
   "cell_type": "code",
   "execution_count": 79,
   "metadata": {},
   "outputs": [
    {
     "name": "stdout",
     "output_type": "stream",
     "text": [
      "50\n",
      "[10, 20, 30, 40]\n"
     ]
    }
   ],
   "source": [
    "### let take a list ...\n",
    "\n",
    "l = [ 10,20,30,40,50]\n",
    "\n",
    "print(l.pop())\n",
    "\n",
    "print(l)"
   ]
  },
  {
   "cell_type": "code",
   "execution_count": 80,
   "metadata": {},
   "outputs": [
    {
     "name": "stdout",
     "output_type": "stream",
     "text": [
      "40\n",
      "[10, 20, 30]\n"
     ]
    }
   ],
   "source": [
    "### Now Remove Some More Elements From The List ..\n",
    "\n",
    "print(l.pop())\n",
    "print(l)\n",
    "\n",
    "### Removing Some More Elements"
   ]
  },
  {
   "cell_type": "code",
   "execution_count": 81,
   "metadata": {},
   "outputs": [
    {
     "name": "stdout",
     "output_type": "stream",
     "text": [
      "30\n",
      "[10, 20]\n",
      "20\n",
      "[10]\n",
      "10\n",
      "[]\n"
     ]
    }
   ],
   "source": [
    "print(l.pop())\n",
    "print(l)\n",
    "\n",
    "##----------------------\n",
    "\n",
    "print(l.pop())\n",
    "print(l)\n",
    "\n",
    "#-----------------------\n",
    "\n",
    "print(l.pop())\n",
    "print(l)"
   ]
  },
  {
   "cell_type": "code",
   "execution_count": 84,
   "metadata": {},
   "outputs": [
    {
     "name": "stdout",
     "output_type": "stream",
     "text": [
      "[]\n"
     ]
    },
    {
     "ename": "IndexError",
     "evalue": "pop from empty list",
     "output_type": "error",
     "traceback": [
      "\u001b[1;31m---------------------------------------------------------------------------\u001b[0m",
      "\u001b[1;31mIndexError\u001b[0m                                Traceback (most recent call last)",
      "\u001b[1;32m<ipython-input-84-61cd863a4645>\u001b[0m in \u001b[0;36m<module>\u001b[1;34m\u001b[0m\n\u001b[0;32m      5\u001b[0m \u001b[1;31m## If we try to pop an element since no element is present index error\u001b[0m\u001b[1;33m\u001b[0m\u001b[1;33m\u001b[0m\u001b[1;33m\u001b[0m\u001b[0m\n\u001b[0;32m      6\u001b[0m \u001b[1;33m\u001b[0m\u001b[0m\n\u001b[1;32m----> 7\u001b[1;33m \u001b[0mprint\u001b[0m\u001b[1;33m(\u001b[0m\u001b[0ml\u001b[0m\u001b[1;33m.\u001b[0m\u001b[0mpop\u001b[0m\u001b[1;33m(\u001b[0m\u001b[1;33m)\u001b[0m\u001b[1;33m)\u001b[0m\u001b[1;33m\u001b[0m\u001b[1;33m\u001b[0m\u001b[0m\n\u001b[0m\u001b[0;32m      8\u001b[0m \u001b[0mprint\u001b[0m\u001b[1;33m(\u001b[0m\u001b[0ml\u001b[0m\u001b[1;33m)\u001b[0m                \u001b[1;31m# IndexError: pop from empty list\u001b[0m\u001b[1;33m\u001b[0m\u001b[1;33m\u001b[0m\u001b[0m\n",
      "\u001b[1;31mIndexError\u001b[0m: pop from empty list"
     ]
    }
   ],
   "source": [
    "### Now the List is Empty..\n",
    "\n",
    "print(l)\n",
    "\n",
    "## If we try to pop an element since no element is present index error\n",
    "\n",
    "print(l.pop())\n",
    "print(l)                # IndexError: pop from empty list"
   ]
  },
  {
   "cell_type": "markdown",
   "metadata": {},
   "source": [
    "### ***Now the Requirement is Remove the element from the list at the Specified Index***\n",
    "\n",
    "- This Can Be Done By Using the `.pop()` method with index argument..\n",
    "\n",
    "- List.pop(index) : pass index as a argument in the pop() method\n",
    "\n",
    "- `.pop(index)` Method"
   ]
  },
  {
   "cell_type": "code",
   "execution_count": 85,
   "metadata": {},
   "outputs": [
    {
     "name": "stdout",
     "output_type": "stream",
     "text": [
      "6\n",
      "[1, 2, 3, 4, 5, 6, 7, 8, 9, 10]\n"
     ]
    }
   ],
   "source": [
    "### Lets Take a List ..\n",
    "\n",
    "l = [1,2,3,4,5,6,6,7,8,9,10]\n",
    "\n",
    "## Remove the 6th index element from the List ..\n",
    "\n",
    "print(l.pop(6))\n",
    "print(l)\n"
   ]
  },
  {
   "cell_type": "markdown",
   "metadata": {},
   "source": [
    "### ***Difference Between `.remove()` and `.pop()` Methods***\n",
    "\n",
    "1) The .remove() Method :\n",
    "\n",
    "- l.remove(x) : To remove specified element from the list.\n",
    "\n",
    "- In remove() method if the list is empty then we get value error.\n",
    "\n",
    "- In remove() Method it Won't return removed Element.\n",
    "\n",
    "\n",
    "2) The .pop() Method :\n",
    "\n",
    "- l.pop() : Always Removes the last element and returns the last element.\n",
    "\n",
    "- l.pop(index) : It removes the specified index element from list and retuns.\n",
    "\n",
    "- In .pop() and .pop(index) method both if the list is empty we will get index error.\n",
    "\n",
    "- In .pop() and .pop(index) method it always returns the poped element."
   ]
  },
  {
   "cell_type": "markdown",
   "metadata": {},
   "source": [
    "### ***Requirment Now i have to Remove all the elements in the list.***\n",
    "\n",
    "- List.`clear()`: It removes all the elements from the list."
   ]
  },
  {
   "cell_type": "code",
   "execution_count": 88,
   "metadata": {},
   "outputs": [
    {
     "name": "stdout",
     "output_type": "stream",
     "text": [
      "[]\n"
     ]
    }
   ],
   "source": [
    "### Lets Take an Example ...\n",
    "\n",
    "l = [10,20,30,40]\n",
    "l.clear()  ### it removes all the elements from the list.\n",
    "print(l)  ## empty list"
   ]
  },
  {
   "cell_type": "markdown",
   "metadata": {},
   "source": [
    "#### ***Points to be Noted***\n",
    "\n",
    "- List : Its A Mutable Object.\n",
    "\n",
    "- **To Increase Size / To Add Elements**\n",
    "\n",
    "1) .append()\n",
    "\n",
    "2) .insert()\n",
    "\n",
    "3) .extend()\n",
    "\n",
    "\n",
    "- **To decrease the Size / To remove Elements** \n",
    "\n",
    "1) .remove()\n",
    "\n",
    "2) .pop() and .pop(index)\n",
    "\n",
    "3) .clear()"
   ]
  },
  {
   "cell_type": "markdown",
   "metadata": {},
   "source": [
    "## Ordering Elements Of the List or Sort The Elemets in the List.\n",
    "\n",
    "- The Methods are :\n",
    "\n",
    "1) list.`reverse()`  : Reversing the order of the list.\n",
    "\n",
    "2) "
   ]
  },
  {
   "cell_type": "code",
   "execution_count": 100,
   "metadata": {},
   "outputs": [
    {
     "name": "stdout",
     "output_type": "stream",
     "text": [
      "Before the Reversal the List is : [10, 20, 30, 40]\n",
      "After the Revsal of the List is : [40, 30, 20, 10]\n"
     ]
    }
   ],
   "source": [
    "### Lets take an exmple to Show the Reverse the List ...\n",
    "\n",
    "l = [10,20,30,40]\n",
    "\n",
    "print(\"Before the Reversal the List is :\" ,l)\n",
    "l.reverse()\n",
    "print(\"After the Revsal of the List is :\",l)"
   ]
  },
  {
   "cell_type": "markdown",
   "metadata": {},
   "source": [
    "### The Difference Between Reverse() and Reversed() Method :\n",
    "\n",
    "1) The reverse() Method :\n",
    "\n",
    "- The reverse is a List specific method applied to only list operation.\n",
    "\n",
    "- During the reverse operation it won't create a new object in the exsisting object only it modifies.So No new Object\n",
    "\n",
    "\n",
    "\n",
    "2) The Reversed() Method :\n",
    "\n",
    "- This is a python builtin function and can be applied to all (list,tuple,set,string,dict).\n",
    "\n",
    "- In reversed method its going to create a new object for the reversed element."
   ]
  },
  {
   "cell_type": "markdown",
   "metadata": {},
   "source": [
    "### Sorting the Elements Of the List : \n",
    "\n",
    "1) List.sort()  : It will be sorted by default.\n",
    "- For numbers : Ascending order.(0-9)\n",
    "- For Strings : Alphabetical Order (a-z)."
   ]
  },
  {
   "cell_type": "code",
   "execution_count": 104,
   "metadata": {},
   "outputs": [
    {
     "name": "stdout",
     "output_type": "stream",
     "text": [
      "Before Sorting : [10, 0, 45, 23, 4, 5, 12, 34, 11, 16]\n",
      "\n",
      "After Sorting :  [0, 4, 5, 10, 11, 12, 16, 23, 34, 45]\n"
     ]
    }
   ],
   "source": [
    "### Lets Take an Example 1 : ..\n",
    "\n",
    "l = [10,0,45,23,4,5,12,34,11,16]\n",
    "\n",
    "print('Before Sorting :',l)\n",
    "l.sort()  ## sorting by default ascending order.\n",
    "print()\n",
    "print(\"After Sorting : \",l)\n",
    "\n"
   ]
  },
  {
   "cell_type": "code",
   "execution_count": 105,
   "metadata": {},
   "outputs": [
    {
     "name": "stdout",
     "output_type": "stream",
     "text": [
      "Before Sorting the List is : ['Bananna', 'Orange', 'Apple', 'Mango']\n",
      "After Sorting the List is : ['Apple', 'Bananna', 'Mango', 'Orange']\n"
     ]
    }
   ],
   "source": [
    "### Sorting the List for String Datatype :\n",
    "\n",
    "l = [\"Bananna\",\"Orange\",\"Apple\",\"Mango\"]\n",
    "  \n",
    "print(\"Before Sorting the List is :\",l)\n",
    "\n",
    "l.sort()  ## by default its ascending ...\n",
    "\n",
    "print(\"After Sorting the List is :\",l)"
   ]
  },
  {
   "cell_type": "code",
   "execution_count": 106,
   "metadata": {},
   "outputs": [
    {
     "name": "stdout",
     "output_type": "stream",
     "text": [
      "Before Sorting : ['Apple', 'Aeroplane', 'Ant', 'Arrival', 'Amazon']\n",
      "After Sorting :  ['Aeroplane', 'Amazon', 'Ant', 'Apple', 'Arrival']\n"
     ]
    }
   ],
   "source": [
    "### Lets Take Another Example..for String Datatype..\n",
    "\n",
    "l = [\"Apple\",\"Aeroplane\",\"Ant\",\"Arrival\",\"Amazon\"]\n",
    "\n",
    "## here all the 1st letters are same so how it will sort..\n",
    "\n",
    "## Now its going to sort based on the 2nd letter.\n",
    "\n",
    "print(\"Before Sorting :\",l)\n",
    "\n",
    "l.sort()\n",
    "\n",
    "print(\"After Sorting : \",l)"
   ]
  },
  {
   "cell_type": "markdown",
   "metadata": {},
   "source": [
    "#### NOW Sort the list in decending Order :"
   ]
  },
  {
   "cell_type": "code",
   "execution_count": 107,
   "metadata": {},
   "outputs": [
    {
     "name": "stdout",
     "output_type": "stream",
     "text": [
      "Before Sorting in Decending Order :  [10, 34, 56, 123, 24, 3455, 757, 67]\n",
      "After Sorting in the Decending Order :  [3455, 757, 123, 67, 56, 34, 24, 10]\n"
     ]
    }
   ],
   "source": [
    "### Lets take a list ..\n",
    "\n",
    "l = [10,34,56,123,24,3455,757,67]\n",
    "\n",
    "print(\"Before Sorting in Decending Order : \", l)\n",
    "\n",
    "l.sort(reverse= True)  ## we have to set a args = True for decending..\n",
    "\n",
    "print(\"After Sorting in the Decending Order : \",l)"
   ]
  },
  {
   "cell_type": "code",
   "execution_count": 108,
   "metadata": {},
   "outputs": [
    {
     "name": "stdout",
     "output_type": "stream",
     "text": [
      "Before Sorting the List is : ['Bananna', 'Orange', 'Apple', 'Mango']\n",
      "After Sorting the List is : ['Orange', 'Mango', 'Bananna', 'Apple']\n"
     ]
    }
   ],
   "source": [
    "#### Sorting in Decending Order : String Data type..\n",
    "\n",
    "l = [\"Bananna\",\"Orange\",\"Apple\",\"Mango\"]\n",
    "\n",
    "print(\"Before Sorting the List is :\",l)\n",
    "\n",
    "l.sort(reverse= True)  ## Pass args = \"True\"\n",
    "\n",
    "print(\"After Sorting the List is :\",l)"
   ]
  },
  {
   "cell_type": "code",
   "execution_count": 109,
   "metadata": {},
   "outputs": [
    {
     "name": "stdout",
     "output_type": "stream",
     "text": [
      "Before Sorting : ['Apple', 'Aeroplane', 'Ant', 'Arrival', 'Amazon']\n",
      "After Sorting :  ['Arrival', 'Apple', 'Ant', 'Amazon', 'Aeroplane']\n"
     ]
    }
   ],
   "source": [
    "### Lets Take Another Example..for String Datatype..\n",
    "\n",
    "l = [\"Apple\",\"Aeroplane\",\"Ant\",\"Arrival\",\"Amazon\"]\n",
    "\n",
    "## here all the 1st letters are same so how it will sort..\n",
    "\n",
    "## Now its going to sort based on the 2nd letter.\n",
    "\n",
    "print(\"Before Sorting :\",l)\n",
    "\n",
    "l.sort(reverse= True)\n",
    "\n",
    "print(\"After Sorting : \",l)"
   ]
  },
  {
   "cell_type": "code",
   "execution_count": 111,
   "metadata": {},
   "outputs": [
    {
     "ename": "TypeError",
     "evalue": "'<' not supported between instances of 'int' and 'str'",
     "output_type": "error",
     "traceback": [
      "\u001b[1;31m---------------------------------------------------------------------------\u001b[0m",
      "\u001b[1;31mTypeError\u001b[0m                                 Traceback (most recent call last)",
      "\u001b[1;32m<ipython-input-111-2b9adf9b796b>\u001b[0m in \u001b[0;36m<module>\u001b[1;34m\u001b[0m\n\u001b[0;32m      8\u001b[0m \u001b[1;31m### Lets apply the Sort..\u001b[0m\u001b[1;33m\u001b[0m\u001b[1;33m\u001b[0m\u001b[1;33m\u001b[0m\u001b[0m\n\u001b[0;32m      9\u001b[0m \u001b[1;33m\u001b[0m\u001b[0m\n\u001b[1;32m---> 10\u001b[1;33m \u001b[0ml\u001b[0m\u001b[1;33m.\u001b[0m\u001b[0msort\u001b[0m\u001b[1;33m(\u001b[0m\u001b[1;33m)\u001b[0m\u001b[1;33m\u001b[0m\u001b[1;33m\u001b[0m\u001b[0m\n\u001b[0m\u001b[0;32m     11\u001b[0m \u001b[1;33m\u001b[0m\u001b[0m\n\u001b[0;32m     12\u001b[0m \u001b[0mprint\u001b[0m\u001b[1;33m(\u001b[0m\u001b[0ml\u001b[0m\u001b[1;33m)\u001b[0m\u001b[1;33m\u001b[0m\u001b[1;33m\u001b[0m\u001b[0m\n",
      "\u001b[1;31mTypeError\u001b[0m: '<' not supported between instances of 'int' and 'str'"
     ]
    }
   ],
   "source": [
    "### Now What If We have Both Datatype String and Numbers..\n",
    "\n",
    "### Lets Take an Example ...\n",
    "\n",
    "l = [\"Apple\",1,2,3,\"Bannana\",\"Mango\"]   \n",
    "### This is a heterogeneous data..\n",
    "\n",
    "### Lets apply the Sort..\n",
    "\n",
    "l.sort()\n",
    "\n",
    "print(l)\n",
    "\n",
    "## The Sort Function is Applied Only for the Homogeneous data not hetero\n",
    "## (means : Either it should contain only String or Numbers No Mixed)"
   ]
  },
  {
   "cell_type": "markdown",
   "metadata": {},
   "source": [
    "#### Sort()  VS Sorted()\n",
    "\n",
    "1) The Sort() Method :\n",
    "\n",
    "- The `.sort()` is a List specific method applied to only list operation.\n",
    "\n",
    "- During the sort() operation it won't create a new object in the exsisting object only it modifies.\n",
    "  So No new Object\n",
    "\n",
    "\n",
    "2) The Sorted() Method :\n",
    "\n",
    "- The `.sorted()` is a python builtin function and can be applied to all (list,tuple,set,string,dict).\n",
    "\n",
    "- In Sorted() method its going to create a new object for the sorted element."
   ]
  },
  {
   "cell_type": "markdown",
   "metadata": {},
   "source": [
    "## Aliasing and Cloning of the List Object :\n",
    "\n",
    "- Aliase is nothing but giving another name to the Same Object.\n",
    "\n",
    "- The Process of creating a duplicate refernce variable is called alias."
   ]
  },
  {
   "cell_type": "code",
   "execution_count": 128,
   "metadata": {},
   "outputs": [
    {
     "name": "stdout",
     "output_type": "stream",
     "text": [
      "[1, 2, 3, 4, 5]\n",
      "[1, 2, 3, 4, 5]\n"
     ]
    }
   ],
   "source": [
    "### Lets take an  example for the alias..\n",
    "\n",
    "R1 = [1,2,3,4,5]\n",
    "\n",
    "R2 = R1 ## using another name to the same object (l1).\n",
    "\n",
    "\n",
    "print(R1)  \n",
    "print(R2)\n",
    "\n",
    "## Here the only one object is created but with different reference variable\n"
   ]
  },
  {
   "cell_type": "code",
   "execution_count": 130,
   "metadata": {},
   "outputs": [
    {
     "name": "stdout",
     "output_type": "stream",
     "text": [
      "2234935745920\n",
      "2234935745920\n",
      "True\n"
     ]
    }
   ],
   "source": [
    "## How do you Say that both are pointing to the Same object..\n",
    "\n",
    "## In order to See print the object id if its same for both then its correct\n",
    "\n",
    "\n",
    "print(id(R1))\n",
    "\n",
    "print(id(R2)) \n",
    "\n",
    "### Or You can check if both are same using the membership operator.\n",
    "\n",
    "print(R1 is R2)  ### Its Should Return True.\n",
    "\n",
    "### Hence Both are referning to the Same object."
   ]
  },
  {
   "cell_type": "code",
   "execution_count": 132,
   "metadata": {},
   "outputs": [
    {
     "name": "stdout",
     "output_type": "stream",
     "text": [
      "[1, 333, 3, 4, 5]\n",
      "[1, 333, 3, 4, 5]\n"
     ]
    }
   ],
   "source": [
    "### What if i change the value of one element in list 1 will it Reflect in another...\n",
    "### Ans : Yes Change in one list will reflect in another when there are aliased\n",
    "\n",
    "\n",
    "## Lets Take an example ...\n",
    "\n",
    "R1[1] = 333\n",
    "\n",
    "print(R1)\n",
    "\n",
    "print(R2)\n",
    "\n",
    "## So changing in one object will refelect in another."
   ]
  },
  {
   "cell_type": "markdown",
   "metadata": {},
   "source": [
    "### Cloning in List Object :\n",
    "\n",
    "- Cloning : The Process of Creating Complete different duplicate list Object is called Cloning.\n",
    "\n",
    "- Alisas : You need to create a new reference Object..\n",
    "\n",
    "\n",
    "#### Cloning Can Be Done In 2 Ways :\n",
    "\n",
    "1) Slice Operator.\n",
    "\n",
    "2) Copy() Method."
   ]
  },
  {
   "cell_type": "code",
   "execution_count": 134,
   "metadata": {},
   "outputs": [
    {
     "name": "stdout",
     "output_type": "stream",
     "text": [
      "[10, 20, 30, 40]\n",
      "[10, 20, 30, 40]\n",
      "2234938350464\n",
      "2234937203456\n"
     ]
    }
   ],
   "source": [
    "### Lets Take an Example :\n",
    "\n",
    "l1 = [10,20,30,40]\n",
    "\n",
    "## make a clone of l1..\n",
    "\n",
    "l2 = l1[::]  ### Using the Slice Operator a new object will be created ..\n",
    "\n",
    "### Creating a duplicate element of l2.\n",
    "\n",
    "### Lets Print Two  List \n",
    "\n",
    "print(l1)\n",
    "\n",
    "print(l2)\n",
    "\n",
    "### For Futher Verification Lets Print the object-id.\n",
    "\n",
    "print(id(l1))\n",
    "\n",
    "print(id(l2))"
   ]
  },
  {
   "cell_type": "code",
   "execution_count": 136,
   "metadata": {},
   "outputs": [
    {
     "name": "stdout",
     "output_type": "stream",
     "text": [
      "[10, 100, 30, 40]\n",
      "[10, 20, 30, 40]\n"
     ]
    }
   ],
   "source": [
    "### Lets make a Change in l1 and See if it changes in l2 are Not..\n",
    "\n",
    "l1[1] = 100 \n",
    "\n",
    "print(l1)\n",
    "\n",
    "print(l2)\n",
    "\n",
    "## So here after changing the content l2 remains same.."
   ]
  },
  {
   "cell_type": "markdown",
   "metadata": {},
   "source": [
    "### ***Cloning of the list object using the copy() Method()***."
   ]
  },
  {
   "cell_type": "markdown",
   "metadata": {},
   "source": [
    "- Using the `.copy()` method cloning the list object.."
   ]
  },
  {
   "cell_type": "code",
   "execution_count": 139,
   "metadata": {},
   "outputs": [
    {
     "name": "stdout",
     "output_type": "stream",
     "text": [
      "The Cloning of Two List Objetcs : \n",
      "[100, 200, 300, 400, 500]\n",
      "[100, 200, 300, 400, 500]\n",
      "\n",
      "The Two List Object ids :\n",
      "2234941791680\n",
      "2234934886976\n",
      "\n",
      "\n",
      "The Two List objects After changing the Contents : \n",
      "[0, 200, 300, 400, 500]\n",
      "[100, 200, 300, 400, 0]\n"
     ]
    }
   ],
   "source": [
    "### Lets Take The  List ..\n",
    "\n",
    "l1 = [100,200,300,400,500]\n",
    "\n",
    "l2 = l1.copy()   ## this is cloning..\n",
    "\n",
    "\n",
    "print(\"The Cloning of Two List Objetcs : \")\n",
    "print(l1)\n",
    "print(l2)\n",
    "print()\n",
    "### To verify they are two different objects lets print the object(ids).\n",
    "print(\"The Two List Object ids :\")\n",
    "\n",
    "print(id(l1))\n",
    "\n",
    "print(id(l2))\n",
    "\n",
    "print()\n",
    "## Now Changing one list shouls not refl\n",
    "l1[0] = 0\n",
    "\n",
    "l2[4] = 0 \n",
    "\n",
    "### now lets see the list wheather its changed or not..\n",
    "print()\n",
    "print(\"The Two List objects After changing the Contents : \")\n",
    "\n",
    "print(l1)\n",
    "\n",
    "print(l2)"
   ]
  },
  {
   "cell_type": "markdown",
   "metadata": {},
   "source": [
    "### The Nested List :\n",
    "\n",
    "- The List inside another list is called the nested list."
   ]
  },
  {
   "cell_type": "code",
   "execution_count": 142,
   "metadata": {},
   "outputs": [
    {
     "name": "stdout",
     "output_type": "stream",
     "text": [
      "[1, 2, 3, 4, [5, 6, 7]]\n"
     ]
    }
   ],
   "source": [
    "### Lets Take ana Example : ..\n",
    "\n",
    "l1 = [1,2,3,4,[5,6,7]] \n",
    "\n",
    "print(l1)\n",
    "\n",
    "### The Nested List..."
   ]
  },
  {
   "cell_type": "code",
   "execution_count": 144,
   "metadata": {},
   "outputs": [
    {
     "name": "stdout",
     "output_type": "stream",
     "text": [
      "1\n",
      "2\n",
      "[6, 7, 8, 9]\n"
     ]
    }
   ],
   "source": [
    "### How to Access the Nested List ELements ..\n",
    "\n",
    "l = [1,2,3,4,5,[6,7,8,9]]\n",
    "\n",
    "### Lets Say i want to print 1st element of 1st element list..\n",
    "\n",
    "print(l[0])  ## 1st element in normal list \n",
    "\n",
    "print(l[1]) ## 2nd element in the normal list.. \n",
    "\n",
    "## Now Print all the nested list elements ..\n",
    "\n",
    "print(l[5])  ## printing the nested list elements."
   ]
  },
  {
   "cell_type": "code",
   "execution_count": 146,
   "metadata": {},
   "outputs": [
    {
     "name": "stdout",
     "output_type": "stream",
     "text": [
      "The Given List With Nested List : [1, 2, 3, [4, 5, 6, 7], 8, 9, 10]\n",
      "\n",
      "To Access the 2nd Element in Nested List :\n",
      "5\n"
     ]
    }
   ],
   "source": [
    "### Now The Requirement is Print the only the 2nd element of the nested list..\n",
    "\n",
    "## Lets Take a List ...\n",
    "\n",
    "l = [1,2,3,[4,5,6,7],8,9,10]\n",
    "\n",
    "print(\"The Given List With Nested List :\" , l)\n",
    "\n",
    "print()\n",
    "\n",
    "print(\"To Access the 2nd Element in Nested List :\")\n",
    "print(l[3][1])  ## nested list Element.."
   ]
  },
  {
   "cell_type": "code",
   "execution_count": 147,
   "metadata": {},
   "outputs": [
    {
     "name": "stdout",
     "output_type": "stream",
     "text": [
      "4\n",
      "7\n"
     ]
    }
   ],
   "source": [
    "### Lets get another nested element :\n",
    "\n",
    "print(l[3][0])  ## nested element 4\n",
    "\n",
    "print(l[3][3])  ## 7"
   ]
  },
  {
   "cell_type": "markdown",
   "metadata": {},
   "source": [
    "#### Nested List As Matrix :"
   ]
  },
  {
   "cell_type": "code",
   "execution_count": 150,
   "metadata": {},
   "outputs": [
    {
     "name": "stdout",
     "output_type": "stream",
     "text": [
      "[[10, 20, 30], [40, 50, 60], [70, 80, 90]]\n",
      "Elemets Rowwise : \n",
      "[10, 20, 30]\n",
      "[40, 50, 60]\n",
      "[70, 80, 90]\n"
     ]
    }
   ],
   "source": [
    "### Lets Take a List : \n",
    "\n",
    "l = [[10,20,30],[40,50,60],[70,80,90]]\n",
    "\n",
    "print(l)\n",
    "\n",
    "print(\"Elemets Rowwise : \")\n",
    "\n",
    "for x in l:\n",
    "    print(x)"
   ]
  },
  {
   "cell_type": "code",
   "execution_count": 151,
   "metadata": {},
   "outputs": [
    {
     "name": "stdout",
     "output_type": "stream",
     "text": [
      "The Elements In Matrix Style: \n",
      "10 20 30 \n",
      "40 50 60 \n",
      "70 80 90 \n"
     ]
    }
   ],
   "source": [
    "### ELemets In MAtrix Style :\n",
    "\n",
    "print(\"The Elements In Matrix Style: \")\n",
    "\n",
    "for x in l:\n",
    "    for y in x:\n",
    "        print(y,end= \" \")\n",
    "    print()\n",
    "    "
   ]
  },
  {
   "cell_type": "markdown",
   "metadata": {},
   "source": [
    "## ***LIST COMPREHENSION AND APPLICATION - 1.***\n",
    "\n",
    "- The Syntax of list Compression : \n",
    "\n",
    "\n",
    "- [(expression) for (each element) in (Sequence)] \n",
    "\n",
    "\n",
    "- [ (expression) for (each element) in (Sequence) if (condition)  else (this condition) ]"
   ]
  },
  {
   "cell_type": "code",
   "execution_count": 153,
   "metadata": {},
   "outputs": [
    {
     "name": "stdout",
     "output_type": "stream",
     "text": [
      "In Conventional Way the List Creation From 1 to 10 :\n",
      "[1, 2, 3, 4, 5, 6, 7, 8, 9, 10]\n"
     ]
    }
   ],
   "source": [
    "### Want To Create A list with 1 to 10 Elements.\n",
    "\n",
    "print(\"In Conventional Way the List Creation From 1 to 10 :\")\n",
    "\n",
    "l = []  ## lets create a empty list...\n",
    "\n",
    "for i in range(1,11):\n",
    "    l.append(i)\n",
    "print(l)"
   ]
  },
  {
   "cell_type": "code",
   "execution_count": 154,
   "metadata": {},
   "outputs": [
    {
     "name": "stdout",
     "output_type": "stream",
     "text": [
      "List Creation From 1 to 10 using the List Compression method : \n",
      "[1, 2, 3, 4, 5, 6, 7, 8, 9, 10]\n"
     ]
    }
   ],
   "source": [
    "### List Compression \n",
    "\n",
    "print(\"List Creation From 1 to 10 using the List Compression method : \")\n",
    "\n",
    "l = [ x  for x in range(1,11) ]\n",
    "\n",
    "print(l)"
   ]
  },
  {
   "cell_type": "markdown",
   "metadata": {},
   "source": [
    "### List Compression Practise Problems"
   ]
  },
  {
   "cell_type": "markdown",
   "metadata": {},
   "source": [
    "1) `Create a list object from 1 to 10 numbers Square Values :`"
   ]
  },
  {
   "cell_type": "code",
   "execution_count": 155,
   "metadata": {},
   "outputs": [
    {
     "name": "stdout",
     "output_type": "stream",
     "text": [
      "[1, 4, 9, 16, 25, 36, 49, 64, 81, 100]\n"
     ]
    }
   ],
   "source": [
    "## list square values :\n",
    "\n",
    "l = [(x**2) for x in range(1,11)]\n",
    "\n",
    "## (x**2) this is the expression \n",
    "\n",
    "print(l)"
   ]
  },
  {
   "cell_type": "markdown",
   "metadata": {},
   "source": [
    "2) `From 1 to 5 Numbers take the 2 power Element`:\n",
    "- Like (2**1) (2**2) (2**3) ..."
   ]
  },
  {
   "cell_type": "code",
   "execution_count": 157,
   "metadata": {},
   "outputs": [
    {
     "name": "stdout",
     "output_type": "stream",
     "text": [
      "[2, 4, 8, 16, 32]\n"
     ]
    }
   ],
   "source": [
    "### lets create a List ..\n",
    "\n",
    "l = [(2**x)  for x in range(1,6)]\n",
    "\n",
    "## [ expression = (2**x) , for each element = x , from where to where (1,6)]\n",
    "\n",
    "print(l)"
   ]
  },
  {
   "cell_type": "markdown",
   "metadata": {},
   "source": [
    "3) `Create a List from 1 to 100 which are divisible by 10`"
   ]
  },
  {
   "cell_type": "code",
   "execution_count": 158,
   "metadata": {},
   "outputs": [
    {
     "name": "stdout",
     "output_type": "stream",
     "text": [
      "[10, 20, 30, 40, 50, 60, 70, 80, 90, 100]\n"
     ]
    }
   ],
   "source": [
    "### Lets Create a List ..\n",
    "\n",
    "l = [ x for x in range(1,101) if (x%10 == 0)]\n",
    "\n",
    "## [exp = (x) , for each ele = x , from where to where (1,100),condition (x%10 == 0)]\n",
    "\n",
    "print(l)"
   ]
  },
  {
   "cell_type": "markdown",
   "metadata": {},
   "source": [
    "### List Compression Application 2 : "
   ]
  },
  {
   "cell_type": "markdown",
   "metadata": {},
   "source": [
    "4) `l1 = [10,20,30,40] and l2 = [30,40,50,60] ` create a list with elements present in  l1 but not in l2:"
   ]
  },
  {
   "cell_type": "code",
   "execution_count": 163,
   "metadata": {},
   "outputs": [
    {
     "name": "stdout",
     "output_type": "stream",
     "text": [
      "[10, 20]\n"
     ]
    }
   ],
   "source": [
    "l1 = [10,20,30,40]\n",
    "\n",
    "l2 = [30,40,50,60]\n",
    "\n",
    "\n",
    "l = [ (x) for x in l1 if x not in l2] \n",
    "\n",
    "print(l)"
   ]
  },
  {
   "cell_type": "markdown",
   "metadata": {},
   "source": [
    "5) `create list with elemets both in l1 and l2` "
   ]
  },
  {
   "cell_type": "code",
   "execution_count": 164,
   "metadata": {},
   "outputs": [
    {
     "name": "stdout",
     "output_type": "stream",
     "text": [
      "The Common element in both the List is : \n",
      "[30, 40]\n"
     ]
    }
   ],
   "source": [
    "### lets Take a List ..\n",
    "\n",
    "l1 = [10,20,30,40]\n",
    "\n",
    "l2 = [30,40,50,60]\n",
    "\n",
    "### Common elelmts in both the list : [30,40]\n",
    "\n",
    "l= [ (x) for x in l1 if x in l2]\n",
    "\n",
    "print(\"The Common element in both the List is : \")\n",
    "print(l)"
   ]
  },
  {
   "cell_type": "markdown",
   "metadata": {},
   "source": [
    "### Lets Take Another Example : \n",
    "\n",
    "6) Create a List With only the 1st Letters from the given List."
   ]
  },
  {
   "cell_type": "code",
   "execution_count": 168,
   "metadata": {},
   "outputs": [
    {
     "name": "stdout",
     "output_type": "stream",
     "text": [
      "The 1st Letter of Every Word :\n",
      "['V', 'A', 'S', 'R']\n",
      "The 2nd letters of Every Word : \n",
      "['i', 'j', 'i', 'a']\n"
     ]
    }
   ],
   "source": [
    "## The given List is as follows :\n",
    "\n",
    "l1 = [\"Vijay\",\"Ajith\",\"Simbu\",\"Rajini\"]\n",
    "\n",
    "\n",
    "l = [(x[0]) for x in l1]\n",
    "print(\"The 1st Letter of Every Word :\")\n",
    "print(l)\n",
    "\n",
    "print(\"The 2nd letters of Every Word : \")\n",
    "\n",
    "l2 = [word[1] for word in l1]\n",
    "print(l2)"
   ]
  },
  {
   "cell_type": "markdown",
   "metadata": {},
   "source": [
    "7) We have one String s = 'The Quick Brown Fox Jumps From the Lazy Dog'\n",
    "\n",
    "- The o/p : ['THE'(3),'QUICK'(5),'BROWN'(5),'FOX'(3),.....] "
   ]
  },
  {
   "cell_type": "code",
   "execution_count": 173,
   "metadata": {},
   "outputs": [
    {
     "name": "stdout",
     "output_type": "stream",
     "text": [
      "['The', 'Quick', 'Brown', 'Fox', 'Jumps', 'From', 'the', 'Lazy', 'Dog']\n",
      "[[('THE', 3)], [('QUICK', 5)], [('BROWN', 5)], [('FOX', 3)], [('JUMPS', 5)], [('FROM', 4)], [('THE', 3)], [('LAZY', 4)], [('DOG', 3)]]\n"
     ]
    }
   ],
   "source": [
    "### Lets take a  list ..\n",
    "\n",
    "S = 'The Quick Brown Fox Jumps From the Lazy Dog'\n",
    "\n",
    "### We can split the Words based on the Spaces ...\n",
    "\n",
    "List_word = S.split()  ## by default delimiter  = \" \"\n",
    "\n",
    "### Now List_worsds has the Required Words ..\n",
    "\n",
    "print(List_word)\n",
    "\n",
    "\n",
    "### Now As Per the Condition use the Nested List Concept ..\n",
    "\n",
    "Output = [ [(x.upper(),len(x))]  for x in List_word ]\n",
    "\n",
    "print(Output)"
   ]
  },
  {
   "cell_type": "markdown",
   "metadata": {},
   "source": [
    "### Program to Display Unique Vowels present in the given Word.\n",
    "\n",
    "## vowels = [a,e,i,o,u]"
   ]
  },
  {
   "cell_type": "code",
   "execution_count": 182,
   "metadata": {},
   "outputs": [
    {
     "name": "stdout",
     "output_type": "stream",
     "text": [
      "Enter Any String TO Search For Vowels : ae\n",
      "['a', 'e']\n",
      "The Number of Unique Vowels is : 2\n"
     ]
    }
   ],
   "source": [
    "### Asumming the Lower Case Letters : \n",
    "\n",
    "### Method 1 : \n",
    "\n",
    "vowels = ['a','e','i','o','u'] \n",
    "\n",
    "Words = input(\"Enter Any String TO Search For Vowels : \")\n",
    "\n",
    "result = []  ## empty list..\n",
    "   \n",
    "for ch in Words:\n",
    "    if ch in vowels:\n",
    "        if ch not in result:\n",
    "            result.append(ch) \n",
    "\n",
    "print(result)\n",
    "\n",
    "print(\"The Number of Unique Vowels is :\",len(result))"
   ]
  },
  {
   "cell_type": "code",
   "execution_count": 186,
   "metadata": {},
   "outputs": [
    {
     "name": "stdout",
     "output_type": "stream",
     "text": [
      "Enter the Word to Search in the Vowels : the data and the data is very good and powefull\n",
      "['a', 'e', 'i', 'o', 'u']\n",
      "The Unique vowels is :  5\n"
     ]
    }
   ],
   "source": [
    "### Method 2 :\n",
    "\n",
    "## Lets take the vowels ..\n",
    "\n",
    "\n",
    "vowels = ['a','e','i','o','u'] \n",
    "\n",
    "words = input(\"Enter the Word to Search in the Vowels : \")\n",
    "\n",
    "output = []  ## empty list (Note : Alwys List should be present.)\n",
    "\n",
    "for ch in vowels:\n",
    "    if ch in words:\n",
    "        output.append(ch)\n",
    "\n",
    "print(output)\n",
    "\n",
    "print(\"The Unique vowels is : \",len(output))"
   ]
  },
  {
   "cell_type": "markdown",
   "metadata": {},
   "source": [
    "### Solving this In List Compresiion.."
   ]
  },
  {
   "cell_type": "code",
   "execution_count": 194,
   "metadata": {},
   "outputs": [
    {
     "name": "stdout",
     "output_type": "stream",
     "text": [
      "Enter the Word to search in vowels : aeiou\n",
      "['a', 'e', 'i', 'o', 'u']\n",
      "The Number of Unique vowels is :  5\n"
     ]
    }
   ],
   "source": [
    "### Lets take the vowels\n",
    "\n",
    "vowels = ['a','e','i','o','u'] \n",
    "\n",
    "### Lets take the Input..(List Compression ...)\n",
    "\n",
    "Word  = input(\"Enter the Word to search in vowels : \")\n",
    "\n",
    "result = [(ch) for ch in vowels if ch in Word] \n",
    "\n",
    "print(result)\n",
    "\n",
    "print(\"The Number of Unique vowels is : \",len(result))"
   ]
  },
  {
   "cell_type": "markdown",
   "metadata": {},
   "source": [
    "`--------------------------------THE END-------------------------------------`"
   ]
  }
 ],
 "metadata": {
  "kernelspec": {
   "display_name": "Python 3",
   "language": "python",
   "name": "python3"
  },
  "language_info": {
   "codemirror_mode": {
    "name": "ipython",
    "version": 3
   },
   "file_extension": ".py",
   "mimetype": "text/x-python",
   "name": "python",
   "nbconvert_exporter": "python",
   "pygments_lexer": "ipython3",
   "version": "3.8.5"
  },
  "varInspector": {
   "cols": {
    "lenName": 16,
    "lenType": 16,
    "lenVar": 40
   },
   "kernels_config": {
    "python": {
     "delete_cmd_postfix": "",
     "delete_cmd_prefix": "del ",
     "library": "var_list.py",
     "varRefreshCmd": "print(var_dic_list())"
    },
    "r": {
     "delete_cmd_postfix": ") ",
     "delete_cmd_prefix": "rm(",
     "library": "var_list.r",
     "varRefreshCmd": "cat(var_dic_list()) "
    }
   },
   "types_to_exclude": [
    "module",
    "function",
    "builtin_function_or_method",
    "instance",
    "_Feature"
   ],
   "window_display": false
  }
 },
 "nbformat": 4,
 "nbformat_minor": 4
}
